{
  "nbformat": 4,
  "nbformat_minor": 0,
  "metadata": {
    "colab": {
      "name": "Fixed_rate_investment.ipynb",
      "provenance": [],
      "authorship_tag": "ABX9TyO2n73B6/Y43pbOZ/5xAbFt",
      "include_colab_link": true
    },
    "kernelspec": {
      "name": "python3",
      "display_name": "Python 3"
    },
    "language_info": {
      "name": "python"
    }
  },
  "cells": [
    {
      "cell_type": "markdown",
      "metadata": {
        "id": "view-in-github",
        "colab_type": "text"
      },
      "source": [
        "<a href=\"https://colab.research.google.com/github/HoYoungChun/financial_data_analysis/blob/main/Fixed_rate_investment.ipynb\" target=\"_parent\"><img src=\"https://colab.research.google.com/assets/colab-badge.svg\" alt=\"Open In Colab\"/></a>"
      ]
    },
    {
      "cell_type": "markdown",
      "metadata": {
        "id": "qcE73bIVCR0d"
      },
      "source": [
        "# Fixed_rate_investment(정률투자법)"
      ]
    },
    {
      "cell_type": "markdown",
      "metadata": {
        "id": "FaJM5dS0FrjQ"
      },
      "source": [
        "### Basic Setting"
      ]
    },
    {
      "cell_type": "markdown",
      "metadata": {
        "id": "kjwj5amfG8m8"
      },
      "source": [
        "#### Load modules"
      ]
    },
    {
      "cell_type": "code",
      "metadata": {
        "id": "MN9eb-lnG_nz"
      },
      "source": [
        "import pandas as pd\n",
        "import requests\n",
        "from tqdm import tqdm"
      ],
      "execution_count": 1,
      "outputs": []
    },
    {
      "cell_type": "markdown",
      "metadata": {
        "id": "nHe1wCw-H1L9"
      },
      "source": [
        "### Get Daily Prices"
      ]
    },
    {
      "cell_type": "markdown",
      "metadata": {
        "id": "KYCy__OLH4Vj"
      },
      "source": [
        "#### KODEX 200(Daily)"
      ]
    },
    {
      "cell_type": "code",
      "metadata": {
        "colab": {
          "base_uri": "https://localhost:8080/"
        },
        "id": "KaxHfiALH9er",
        "outputId": "be2ee7e1-b8de-4108-9442-bb7b1bfdcf29"
      },
      "source": [
        "kodex_200 = pd.DataFrame()\n",
        "\n",
        "kodex_url = 'https://finance.naver.com//item/sise_day.nhn?code=069500'\n",
        "\n",
        "for page in tqdm(range(1,100)):\n",
        "    pg_url = '{url}&page={page}'.format(url=kodex_url, page=page)\n",
        "    pg_url = requests.get(pg_url, headers={'User-agent':'Mozilla/5.0'}).text\n",
        "    kodex_200 = kodex_200.append(pd.read_html(pg_url)[0].dropna())\n",
        "    #pd.read_html(pg_url)[0].dropna()\n",
        "kodex_200"
      ],
      "execution_count": null,
      "outputs": [
        {
          "output_type": "stream",
          "text": [
            " 71%|███████   | 70/99 [00:29<00:11,  2.47it/s]"
          ],
          "name": "stderr"
        }
      ]
    },
    {
      "cell_type": "code",
      "metadata": {
        "id": "m1vsmIEpKvxs"
      },
      "source": [
        ""
      ],
      "execution_count": null,
      "outputs": []
    }
  ]
}