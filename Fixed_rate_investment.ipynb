{
  "nbformat": 4,
  "nbformat_minor": 0,
  "metadata": {
    "colab": {
      "name": "Fixed_rate_investment.ipynb",
      "provenance": [],
      "collapsed_sections": [],
      "authorship_tag": "ABX9TyPLkM2/Ba1ZIDvvnoiPB/2H",
      "include_colab_link": true
    },
    "kernelspec": {
      "name": "python3",
      "display_name": "Python 3"
    },
    "language_info": {
      "name": "python"
    }
  },
  "cells": [
    {
      "cell_type": "markdown",
      "metadata": {
        "id": "view-in-github",
        "colab_type": "text"
      },
      "source": [
        "<a href=\"https://colab.research.google.com/github/HoYoungChun/financial_data_analysis/blob/main/Fixed_rate_investment.ipynb\" target=\"_parent\"><img src=\"https://colab.research.google.com/assets/colab-badge.svg\" alt=\"Open In Colab\"/></a>"
      ]
    },
    {
      "cell_type": "markdown",
      "metadata": {
        "id": "qcE73bIVCR0d"
      },
      "source": [
        "# Fixed_rate_investment(정률투자법)"
      ]
    },
    {
      "cell_type": "markdown",
      "metadata": {
        "id": "FaJM5dS0FrjQ"
      },
      "source": [
        "### Basic Setting"
      ]
    },
    {
      "cell_type": "markdown",
      "metadata": {
        "id": "kjwj5amfG8m8"
      },
      "source": [
        "#### Load modules"
      ]
    },
    {
      "cell_type": "code",
      "metadata": {
        "id": "MN9eb-lnG_nz"
      },
      "source": [
        "import pandas as pd\n",
        "import requests\n",
        "from tqdm import tqdm"
      ],
      "execution_count": 1,
      "outputs": []
    },
    {
      "cell_type": "markdown",
      "metadata": {
        "id": "nHe1wCw-H1L9"
      },
      "source": [
        "### Get Daily Prices"
      ]
    },
    {
      "cell_type": "markdown",
      "metadata": {
        "id": "KYCy__OLH4Vj"
      },
      "source": [
        "#### KODEX 200(Daily)"
      ]
    },
    {
      "cell_type": "code",
      "metadata": {
        "id": "KaxHfiALH9er"
      },
      "source": [
        "kodex_200 = pd.DataFrame()\n",
        "\n",
        "kodex_url = 'https://finance.naver.com/item/sise_day.nhn?code=069500'\n",
        "\n",
        "for page in tqdm(range(1,100)):\n",
        "    pg_url = '{url}&page={page}'.format(url=kodex_url, page=page)\n",
        "    pg_url = requests.get(pg_url, headers={'User-agent':'Mozilla/5.0'}).text\n",
        "    kodex_200 = kodex_200.append(pd.read_html(pg_url)[0], ignore_index=True)\n",
        "    #pd.read_html(pg_url)[0]\n",
        "kodex_200"
      ],
      "execution_count": null,
      "outputs": []
    },
    {
      "cell_type": "code",
      "metadata": {
        "id": "m1vsmIEpKvxs",
        "colab": {
          "base_uri": "https://localhost:8080/",
          "height": 364
        },
        "outputId": "855553a2-91ef-4e2f-bb4f-29645d5e6368"
      },
      "source": [
        "kodex_200 = kodex_200.dropna()\n",
        "kodex_200.columns = ['date','close','over_the_day','open','high','low','volume']\n",
        "kodex_200.date = pd.to_datetime(kodex_200.date)\n",
        "\n",
        "print('출처: ', kodex_url)\n",
        "print(kodex_200.shape)\n",
        "kodex_200.head()"
      ],
      "execution_count": 3,
      "outputs": [
        {
          "output_type": "stream",
          "text": [
            "출처:  https://finance.naver.com//item/sise_day.nhn?code=069500\n",
            "(990, 7)\n"
          ],
          "name": "stdout"
        },
        {
          "output_type": "stream",
          "text": [
            "/usr/local/lib/python3.7/dist-packages/pandas/core/generic.py:5170: SettingWithCopyWarning: \n",
            "A value is trying to be set on a copy of a slice from a DataFrame.\n",
            "Try using .loc[row_indexer,col_indexer] = value instead\n",
            "\n",
            "See the caveats in the documentation: https://pandas.pydata.org/pandas-docs/stable/user_guide/indexing.html#returning-a-view-versus-a-copy\n",
            "  self[name] = value\n"
          ],
          "name": "stderr"
        },
        {
          "output_type": "execute_result",
          "data": {
            "text/html": [
              "<div>\n",
              "<style scoped>\n",
              "    .dataframe tbody tr th:only-of-type {\n",
              "        vertical-align: middle;\n",
              "    }\n",
              "\n",
              "    .dataframe tbody tr th {\n",
              "        vertical-align: top;\n",
              "    }\n",
              "\n",
              "    .dataframe thead th {\n",
              "        text-align: right;\n",
              "    }\n",
              "</style>\n",
              "<table border=\"1\" class=\"dataframe\">\n",
              "  <thead>\n",
              "    <tr style=\"text-align: right;\">\n",
              "      <th></th>\n",
              "      <th>date</th>\n",
              "      <th>close</th>\n",
              "      <th>over_the_day</th>\n",
              "      <th>open</th>\n",
              "      <th>high</th>\n",
              "      <th>low</th>\n",
              "      <th>volume</th>\n",
              "    </tr>\n",
              "  </thead>\n",
              "  <tbody>\n",
              "    <tr>\n",
              "      <th>1</th>\n",
              "      <td>2021-07-13</td>\n",
              "      <td>43460.0</td>\n",
              "      <td>275.0</td>\n",
              "      <td>43380.0</td>\n",
              "      <td>43515.0</td>\n",
              "      <td>43380.0</td>\n",
              "      <td>271018.0</td>\n",
              "    </tr>\n",
              "    <tr>\n",
              "      <th>2</th>\n",
              "      <td>2021-07-12</td>\n",
              "      <td>43185.0</td>\n",
              "      <td>385.0</td>\n",
              "      <td>43060.0</td>\n",
              "      <td>43260.0</td>\n",
              "      <td>43060.0</td>\n",
              "      <td>3929269.0</td>\n",
              "    </tr>\n",
              "    <tr>\n",
              "      <th>3</th>\n",
              "      <td>2021-07-09</td>\n",
              "      <td>42800.0</td>\n",
              "      <td>460.0</td>\n",
              "      <td>42840.0</td>\n",
              "      <td>43050.0</td>\n",
              "      <td>42445.0</td>\n",
              "      <td>8288519.0</td>\n",
              "    </tr>\n",
              "    <tr>\n",
              "      <th>4</th>\n",
              "      <td>2021-07-08</td>\n",
              "      <td>43260.0</td>\n",
              "      <td>455.0</td>\n",
              "      <td>43765.0</td>\n",
              "      <td>43875.0</td>\n",
              "      <td>43260.0</td>\n",
              "      <td>5209381.0</td>\n",
              "    </tr>\n",
              "    <tr>\n",
              "      <th>5</th>\n",
              "      <td>2021-07-07</td>\n",
              "      <td>43715.0</td>\n",
              "      <td>275.0</td>\n",
              "      <td>43840.0</td>\n",
              "      <td>43840.0</td>\n",
              "      <td>43605.0</td>\n",
              "      <td>3816728.0</td>\n",
              "    </tr>\n",
              "  </tbody>\n",
              "</table>\n",
              "</div>"
            ],
            "text/plain": [
              "        date    close  over_the_day     open     high      low     volume\n",
              "1 2021-07-13  43460.0         275.0  43380.0  43515.0  43380.0   271018.0\n",
              "2 2021-07-12  43185.0         385.0  43060.0  43260.0  43060.0  3929269.0\n",
              "3 2021-07-09  42800.0         460.0  42840.0  43050.0  42445.0  8288519.0\n",
              "4 2021-07-08  43260.0         455.0  43765.0  43875.0  43260.0  5209381.0\n",
              "5 2021-07-07  43715.0         275.0  43840.0  43840.0  43605.0  3816728.0"
            ]
          },
          "metadata": {
            "tags": []
          },
          "execution_count": 3
        }
      ]
    },
    {
      "cell_type": "markdown",
      "metadata": {
        "id": "_Hkco7a3kLAa"
      },
      "source": [
        "#### Gov 3-year(Daily)"
      ]
    },
    {
      "cell_type": "code",
      "metadata": {
        "colab": {
          "base_uri": "https://localhost:8080/"
        },
        "id": "DbHAGdvbZO3p",
        "outputId": "a699f82f-b9c6-46c5-9687-8490720bf0cc"
      },
      "source": [
        "gov_3 = pd.DataFrame()\n",
        "gov_url = 'https://finance.naver.com/item/sise_day.nhn?code=114260'\n",
        "\n",
        "for page in tqdm(range(1,100)):\n",
        "    pg_url = '{url}&page={page}'.format(url=gov_url, page=page)\n",
        "    pg_url = requests.get(pg_url, headers={'User-agent':'Mozilla/5.0'}).text\n",
        "    gov_3 = gov_3.append(pd.read_html(pg_url)[0],ignore_index=True)"
      ],
      "execution_count": 5,
      "outputs": [
        {
          "output_type": "stream",
          "text": [
            "100%|██████████| 99/99 [00:52<00:00,  1.87it/s]\n"
          ],
          "name": "stderr"
        }
      ]
    },
    {
      "cell_type": "code",
      "metadata": {
        "id": "ezjJtBEijGpQ"
      },
      "source": [
        "gov_3"
      ],
      "execution_count": null,
      "outputs": []
    },
    {
      "cell_type": "code",
      "metadata": {
        "id": "XrdiUOl5joab"
      },
      "source": [
        "gov_3 = gov_3.dropna()\n",
        "gov_3.columns = ['date','close','over_the_day','open','high','low','volume']\n",
        "gov_3.date = pd.to_datetime(gov_3.date)\n",
        "gov_3"
      ],
      "execution_count": null,
      "outputs": []
    },
    {
      "cell_type": "markdown",
      "metadata": {
        "id": "cKNndIvMkktM"
      },
      "source": [
        "### Turn into Monthly DataFrame"
      ]
    },
    {
      "cell_type": "code",
      "metadata": {
        "id": "yINAohAKmUcV"
      },
      "source": [
        "kodex_monthly = pd.DataFrame()\n",
        "gov_monthly = pd.DataFrame()"
      ],
      "execution_count": 12,
      "outputs": []
    },
    {
      "cell_type": "code",
      "metadata": {
        "id": "6GBoZFOwmmLa",
        "colab": {
          "base_uri": "https://localhost:8080/"
        },
        "outputId": "7377712e-41f7-4998-eb1a-082c5ea882c4"
      },
      "source": [
        "kodex_200['date'].dt.year #연\n",
        "kodex_200['date'].dt.month #월\n",
        "kodex_200['date'].dt.day #일\n",
        "kodex_200['date'].dt.dayofweek #요일\n",
        "kodex_200['date'].dt.day_name() #요일"
      ],
      "execution_count": 13,
      "outputs": [
        {
          "output_type": "execute_result",
          "data": {
            "text/plain": [
              "1         Tuesday\n",
              "2          Monday\n",
              "3          Friday\n",
              "4        Thursday\n",
              "5       Wednesday\n",
              "          ...    \n",
              "1479       Monday\n",
              "1480       Friday\n",
              "1481     Thursday\n",
              "1482    Wednesday\n",
              "1483      Tuesday\n",
              "Name: date, Length: 990, dtype: object"
            ]
          },
          "metadata": {
            "tags": []
          },
          "execution_count": 13
        }
      ]
    },
    {
      "cell_type": "code",
      "metadata": {
        "id": "JHgRuJDEmprZ"
      },
      "source": [
        "for y in range(2017,2022):\n",
        "    for m in range(1,13):\n",
        "        kodex_monthly = kodex_monthly.append(kodex_200[(kodex_200['date'].dt.year == y) & (kodex_200['date'].dt.month==m)].head(1))\n",
        "        gov_monthly = gov_monthly.append(gov_3[(gov_3.date.dt.year==y) & (gov_3.date.dt.month==m)].head(1))\n",
        "\n"
      ],
      "execution_count": 14,
      "outputs": []
    },
    {
      "cell_type": "code",
      "metadata": {
        "id": "6YHCDX2TnfvR"
      },
      "source": [
        "# list comprehension\n",
        "kodex_monthly.index = [x for x in range(len(kodex_monthly))]\n",
        "gov_monthly.index = [x for x in range(len(gov_monthly))]"
      ],
      "execution_count": 15,
      "outputs": []
    },
    {
      "cell_type": "code",
      "metadata": {
        "id": "9n8MmDPSn2jB"
      },
      "source": [
        ""
      ],
      "execution_count": null,
      "outputs": []
    }
  ]
}