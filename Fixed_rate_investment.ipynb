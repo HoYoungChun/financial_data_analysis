{
  "nbformat": 4,
  "nbformat_minor": 0,
  "metadata": {
    "colab": {
      "name": "Fixed_rate_investment.ipynb",
      "provenance": [],
      "authorship_tag": "ABX9TyOqlxAWzHN50NhDuV7V+JmG",
      "include_colab_link": true
    },
    "kernelspec": {
      "name": "python3",
      "display_name": "Python 3"
    },
    "language_info": {
      "name": "python"
    }
  },
  "cells": [
    {
      "cell_type": "markdown",
      "metadata": {
        "id": "view-in-github",
        "colab_type": "text"
      },
      "source": [
        "<a href=\"https://colab.research.google.com/github/HoYoungChun/financial_data_analysis/blob/main/Fixed_rate_investment.ipynb\" target=\"_parent\"><img src=\"https://colab.research.google.com/assets/colab-badge.svg\" alt=\"Open In Colab\"/></a>"
      ]
    },
    {
      "cell_type": "markdown",
      "metadata": {
        "id": "qcE73bIVCR0d"
      },
      "source": [
        "# Fixed_rate_investment(정률투자법)"
      ]
    },
    {
      "cell_type": "markdown",
      "metadata": {
        "id": "FaJM5dS0FrjQ"
      },
      "source": [
        "### Basic Setting"
      ]
    },
    {
      "cell_type": "markdown",
      "metadata": {
        "id": "kjwj5amfG8m8"
      },
      "source": [
        "#### Load modules"
      ]
    },
    {
      "cell_type": "code",
      "metadata": {
        "id": "MN9eb-lnG_nz"
      },
      "source": [
        "import pandas as pd\n",
        "import requests\n",
        "from tqdm import tqdm"
      ],
      "execution_count": 1,
      "outputs": []
    },
    {
      "cell_type": "markdown",
      "metadata": {
        "id": "nHe1wCw-H1L9"
      },
      "source": [
        "### Get Daily Prices"
      ]
    },
    {
      "cell_type": "markdown",
      "metadata": {
        "id": "KYCy__OLH4Vj"
      },
      "source": [
        "#### KODEX 200(Daily)"
      ]
    },
    {
      "cell_type": "code",
      "metadata": {
        "id": "KaxHfiALH9er"
      },
      "source": [
        "kodex_200 = pd.DataFrame()\n",
        "\n",
        "kodex_url = 'https://finance.naver.com//item/sise_day.nhn?code=069500'\n",
        "\n",
        "for page in tqdm(range(1,100)):\n",
        "    pg_url = '{url}&page={page}'.format(url=kodex_url, page=page)\n",
        "    pg_url = requests.get(pg_url, headers={'User-agent':'Mozilla/5.0'}).text\n",
        "    kodex_200 = kodex_200.append(pd.read_html(pg_url)[0], ignore_index=True)\n",
        "    #pd.read_html(pg_url)[0]\n",
        "kodex_200"
      ],
      "execution_count": null,
      "outputs": []
    },
    {
      "cell_type": "code",
      "metadata": {
        "id": "m1vsmIEpKvxs"
      },
      "source": [
        "kodex_200 = kodex_200.dropna()\n",
        "kodex_200.columns = ['date','close','over_the_day','open','high','low','volume']\n",
        "kodex_200.date = pd.to_datetime(kodex_200.date)\n",
        "\n",
        "print('출처: ', kodex_url)\n",
        "print(kodex_200.shape)\n",
        "kodex_200.head()"
      ],
      "execution_count": null,
      "outputs": []
    },
    {
      "cell_type": "markdown",
      "metadata": {
        "id": "_Hkco7a3kLAa"
      },
      "source": [
        "#### Gov 3-year(Daily)"
      ]
    },
    {
      "cell_type": "code",
      "metadata": {
        "colab": {
          "base_uri": "https://localhost:8080/"
        },
        "id": "DbHAGdvbZO3p",
        "outputId": "78ac33ba-a853-4e3c-c389-99ac3ca14d58"
      },
      "source": [
        "gov_3 = pd.DataFrame()\n",
        "gov_url = 'https://finance.naver.com/item/sise_day.nhn?code=114260'\n",
        "\n",
        "for page in tqdm(range(1,100)):\n",
        "    pg_url = '{url}&page={page}'.format(url=gov_url, page=page)\n",
        "    pg_url = requests.get(pg_url, headers={'User-agent':'Mozilla/5.0'}).text\n",
        "    gov_3 = gov_3.append(pd.read_html(pg_url)[0],ignore_index=True)"
      ],
      "execution_count": 23,
      "outputs": [
        {
          "output_type": "stream",
          "text": [
            "100%|██████████| 99/99 [00:40<00:00,  2.44it/s]\n"
          ],
          "name": "stderr"
        }
      ]
    },
    {
      "cell_type": "code",
      "metadata": {
        "colab": {
          "base_uri": "https://localhost:8080/",
          "height": 417
        },
        "id": "ezjJtBEijGpQ",
        "outputId": "13843132-a76a-4d27-f114-d7ea895a9f7b"
      },
      "source": [
        "gov_3"
      ],
      "execution_count": 24,
      "outputs": [
        {
          "output_type": "execute_result",
          "data": {
            "text/html": [
              "<div>\n",
              "<style scoped>\n",
              "    .dataframe tbody tr th:only-of-type {\n",
              "        vertical-align: middle;\n",
              "    }\n",
              "\n",
              "    .dataframe tbody tr th {\n",
              "        vertical-align: top;\n",
              "    }\n",
              "\n",
              "    .dataframe thead th {\n",
              "        text-align: right;\n",
              "    }\n",
              "</style>\n",
              "<table border=\"1\" class=\"dataframe\">\n",
              "  <thead>\n",
              "    <tr style=\"text-align: right;\">\n",
              "      <th></th>\n",
              "      <th>날짜</th>\n",
              "      <th>종가</th>\n",
              "      <th>전일비</th>\n",
              "      <th>시가</th>\n",
              "      <th>고가</th>\n",
              "      <th>저가</th>\n",
              "      <th>거래량</th>\n",
              "    </tr>\n",
              "  </thead>\n",
              "  <tbody>\n",
              "    <tr>\n",
              "      <th>0</th>\n",
              "      <td>NaN</td>\n",
              "      <td>NaN</td>\n",
              "      <td>NaN</td>\n",
              "      <td>NaN</td>\n",
              "      <td>NaN</td>\n",
              "      <td>NaN</td>\n",
              "      <td>NaN</td>\n",
              "    </tr>\n",
              "    <tr>\n",
              "      <th>1</th>\n",
              "      <td>2021.07.12</td>\n",
              "      <td>57995.0</td>\n",
              "      <td>20.0</td>\n",
              "      <td>58010.0</td>\n",
              "      <td>58020.0</td>\n",
              "      <td>57945.0</td>\n",
              "      <td>357.0</td>\n",
              "    </tr>\n",
              "    <tr>\n",
              "      <th>2</th>\n",
              "      <td>2021.07.09</td>\n",
              "      <td>58015.0</td>\n",
              "      <td>25.0</td>\n",
              "      <td>58015.0</td>\n",
              "      <td>58055.0</td>\n",
              "      <td>57975.0</td>\n",
              "      <td>1069.0</td>\n",
              "    </tr>\n",
              "    <tr>\n",
              "      <th>3</th>\n",
              "      <td>2021.07.08</td>\n",
              "      <td>57990.0</td>\n",
              "      <td>70.0</td>\n",
              "      <td>57960.0</td>\n",
              "      <td>58015.0</td>\n",
              "      <td>57930.0</td>\n",
              "      <td>3646.0</td>\n",
              "    </tr>\n",
              "    <tr>\n",
              "      <th>4</th>\n",
              "      <td>2021.07.07</td>\n",
              "      <td>57920.0</td>\n",
              "      <td>55.0</td>\n",
              "      <td>57865.0</td>\n",
              "      <td>57920.0</td>\n",
              "      <td>57865.0</td>\n",
              "      <td>1406.0</td>\n",
              "    </tr>\n",
              "    <tr>\n",
              "      <th>...</th>\n",
              "      <td>...</td>\n",
              "      <td>...</td>\n",
              "      <td>...</td>\n",
              "      <td>...</td>\n",
              "      <td>...</td>\n",
              "      <td>...</td>\n",
              "      <td>...</td>\n",
              "    </tr>\n",
              "    <tr>\n",
              "      <th>1480</th>\n",
              "      <td>2017.07.06</td>\n",
              "      <td>55455.0</td>\n",
              "      <td>0.0</td>\n",
              "      <td>55460.0</td>\n",
              "      <td>55465.0</td>\n",
              "      <td>55425.0</td>\n",
              "      <td>1594.0</td>\n",
              "    </tr>\n",
              "    <tr>\n",
              "      <th>1481</th>\n",
              "      <td>2017.07.05</td>\n",
              "      <td>55455.0</td>\n",
              "      <td>20.0</td>\n",
              "      <td>55475.0</td>\n",
              "      <td>55475.0</td>\n",
              "      <td>55435.0</td>\n",
              "      <td>972.0</td>\n",
              "    </tr>\n",
              "    <tr>\n",
              "      <th>1482</th>\n",
              "      <td>2017.07.04</td>\n",
              "      <td>55435.0</td>\n",
              "      <td>65.0</td>\n",
              "      <td>55480.0</td>\n",
              "      <td>55485.0</td>\n",
              "      <td>55435.0</td>\n",
              "      <td>1539.0</td>\n",
              "    </tr>\n",
              "    <tr>\n",
              "      <th>1483</th>\n",
              "      <td>2017.07.03</td>\n",
              "      <td>55500.0</td>\n",
              "      <td>10.0</td>\n",
              "      <td>55725.0</td>\n",
              "      <td>55725.0</td>\n",
              "      <td>55450.0</td>\n",
              "      <td>1730.0</td>\n",
              "    </tr>\n",
              "    <tr>\n",
              "      <th>1484</th>\n",
              "      <td>NaN</td>\n",
              "      <td>NaN</td>\n",
              "      <td>NaN</td>\n",
              "      <td>NaN</td>\n",
              "      <td>NaN</td>\n",
              "      <td>NaN</td>\n",
              "      <td>NaN</td>\n",
              "    </tr>\n",
              "  </tbody>\n",
              "</table>\n",
              "<p>1485 rows × 7 columns</p>\n",
              "</div>"
            ],
            "text/plain": [
              "              날짜       종가   전일비       시가       고가       저가     거래량\n",
              "0            NaN      NaN   NaN      NaN      NaN      NaN     NaN\n",
              "1     2021.07.12  57995.0  20.0  58010.0  58020.0  57945.0   357.0\n",
              "2     2021.07.09  58015.0  25.0  58015.0  58055.0  57975.0  1069.0\n",
              "3     2021.07.08  57990.0  70.0  57960.0  58015.0  57930.0  3646.0\n",
              "4     2021.07.07  57920.0  55.0  57865.0  57920.0  57865.0  1406.0\n",
              "...          ...      ...   ...      ...      ...      ...     ...\n",
              "1480  2017.07.06  55455.0   0.0  55460.0  55465.0  55425.0  1594.0\n",
              "1481  2017.07.05  55455.0  20.0  55475.0  55475.0  55435.0   972.0\n",
              "1482  2017.07.04  55435.0  65.0  55480.0  55485.0  55435.0  1539.0\n",
              "1483  2017.07.03  55500.0  10.0  55725.0  55725.0  55450.0  1730.0\n",
              "1484         NaN      NaN   NaN      NaN      NaN      NaN     NaN\n",
              "\n",
              "[1485 rows x 7 columns]"
            ]
          },
          "metadata": {
            "tags": []
          },
          "execution_count": 24
        }
      ]
    },
    {
      "cell_type": "code",
      "metadata": {
        "colab": {
          "base_uri": "https://localhost:8080/",
          "height": 417
        },
        "id": "XrdiUOl5joab",
        "outputId": "ca3941f9-1857-4ac2-fd5e-f01d28ba8e09"
      },
      "source": [
        "gov_3 = gov_3.dropna()\n",
        "gov_3.columns = ['date','close','over_the_day','open','high','low','volume']\n",
        "gov_3.date = pd.to_datetime(gov_3.date)\n",
        "gov_3"
      ],
      "execution_count": 27,
      "outputs": [
        {
          "output_type": "execute_result",
          "data": {
            "text/html": [
              "<div>\n",
              "<style scoped>\n",
              "    .dataframe tbody tr th:only-of-type {\n",
              "        vertical-align: middle;\n",
              "    }\n",
              "\n",
              "    .dataframe tbody tr th {\n",
              "        vertical-align: top;\n",
              "    }\n",
              "\n",
              "    .dataframe thead th {\n",
              "        text-align: right;\n",
              "    }\n",
              "</style>\n",
              "<table border=\"1\" class=\"dataframe\">\n",
              "  <thead>\n",
              "    <tr style=\"text-align: right;\">\n",
              "      <th></th>\n",
              "      <th>date</th>\n",
              "      <th>close</th>\n",
              "      <th>over_the_day</th>\n",
              "      <th>open</th>\n",
              "      <th>high</th>\n",
              "      <th>low</th>\n",
              "      <th>volume</th>\n",
              "    </tr>\n",
              "  </thead>\n",
              "  <tbody>\n",
              "    <tr>\n",
              "      <th>1</th>\n",
              "      <td>2021-07-12</td>\n",
              "      <td>57995.0</td>\n",
              "      <td>20.0</td>\n",
              "      <td>58010.0</td>\n",
              "      <td>58020.0</td>\n",
              "      <td>57945.0</td>\n",
              "      <td>357.0</td>\n",
              "    </tr>\n",
              "    <tr>\n",
              "      <th>2</th>\n",
              "      <td>2021-07-09</td>\n",
              "      <td>58015.0</td>\n",
              "      <td>25.0</td>\n",
              "      <td>58015.0</td>\n",
              "      <td>58055.0</td>\n",
              "      <td>57975.0</td>\n",
              "      <td>1069.0</td>\n",
              "    </tr>\n",
              "    <tr>\n",
              "      <th>3</th>\n",
              "      <td>2021-07-08</td>\n",
              "      <td>57990.0</td>\n",
              "      <td>70.0</td>\n",
              "      <td>57960.0</td>\n",
              "      <td>58015.0</td>\n",
              "      <td>57930.0</td>\n",
              "      <td>3646.0</td>\n",
              "    </tr>\n",
              "    <tr>\n",
              "      <th>4</th>\n",
              "      <td>2021-07-07</td>\n",
              "      <td>57920.0</td>\n",
              "      <td>55.0</td>\n",
              "      <td>57865.0</td>\n",
              "      <td>57920.0</td>\n",
              "      <td>57865.0</td>\n",
              "      <td>1406.0</td>\n",
              "    </tr>\n",
              "    <tr>\n",
              "      <th>5</th>\n",
              "      <td>2021-07-06</td>\n",
              "      <td>57865.0</td>\n",
              "      <td>20.0</td>\n",
              "      <td>57890.0</td>\n",
              "      <td>57890.0</td>\n",
              "      <td>57830.0</td>\n",
              "      <td>3484.0</td>\n",
              "    </tr>\n",
              "    <tr>\n",
              "      <th>...</th>\n",
              "      <td>...</td>\n",
              "      <td>...</td>\n",
              "      <td>...</td>\n",
              "      <td>...</td>\n",
              "      <td>...</td>\n",
              "      <td>...</td>\n",
              "      <td>...</td>\n",
              "    </tr>\n",
              "    <tr>\n",
              "      <th>1479</th>\n",
              "      <td>2017-07-07</td>\n",
              "      <td>55410.0</td>\n",
              "      <td>45.0</td>\n",
              "      <td>55445.0</td>\n",
              "      <td>55455.0</td>\n",
              "      <td>55375.0</td>\n",
              "      <td>5008.0</td>\n",
              "    </tr>\n",
              "    <tr>\n",
              "      <th>1480</th>\n",
              "      <td>2017-07-06</td>\n",
              "      <td>55455.0</td>\n",
              "      <td>0.0</td>\n",
              "      <td>55460.0</td>\n",
              "      <td>55465.0</td>\n",
              "      <td>55425.0</td>\n",
              "      <td>1594.0</td>\n",
              "    </tr>\n",
              "    <tr>\n",
              "      <th>1481</th>\n",
              "      <td>2017-07-05</td>\n",
              "      <td>55455.0</td>\n",
              "      <td>20.0</td>\n",
              "      <td>55475.0</td>\n",
              "      <td>55475.0</td>\n",
              "      <td>55435.0</td>\n",
              "      <td>972.0</td>\n",
              "    </tr>\n",
              "    <tr>\n",
              "      <th>1482</th>\n",
              "      <td>2017-07-04</td>\n",
              "      <td>55435.0</td>\n",
              "      <td>65.0</td>\n",
              "      <td>55480.0</td>\n",
              "      <td>55485.0</td>\n",
              "      <td>55435.0</td>\n",
              "      <td>1539.0</td>\n",
              "    </tr>\n",
              "    <tr>\n",
              "      <th>1483</th>\n",
              "      <td>2017-07-03</td>\n",
              "      <td>55500.0</td>\n",
              "      <td>10.0</td>\n",
              "      <td>55725.0</td>\n",
              "      <td>55725.0</td>\n",
              "      <td>55450.0</td>\n",
              "      <td>1730.0</td>\n",
              "    </tr>\n",
              "  </tbody>\n",
              "</table>\n",
              "<p>990 rows × 7 columns</p>\n",
              "</div>"
            ],
            "text/plain": [
              "           date    close  over_the_day     open     high      low  volume\n",
              "1    2021-07-12  57995.0          20.0  58010.0  58020.0  57945.0   357.0\n",
              "2    2021-07-09  58015.0          25.0  58015.0  58055.0  57975.0  1069.0\n",
              "3    2021-07-08  57990.0          70.0  57960.0  58015.0  57930.0  3646.0\n",
              "4    2021-07-07  57920.0          55.0  57865.0  57920.0  57865.0  1406.0\n",
              "5    2021-07-06  57865.0          20.0  57890.0  57890.0  57830.0  3484.0\n",
              "...         ...      ...           ...      ...      ...      ...     ...\n",
              "1479 2017-07-07  55410.0          45.0  55445.0  55455.0  55375.0  5008.0\n",
              "1480 2017-07-06  55455.0           0.0  55460.0  55465.0  55425.0  1594.0\n",
              "1481 2017-07-05  55455.0          20.0  55475.0  55475.0  55435.0   972.0\n",
              "1482 2017-07-04  55435.0          65.0  55480.0  55485.0  55435.0  1539.0\n",
              "1483 2017-07-03  55500.0          10.0  55725.0  55725.0  55450.0  1730.0\n",
              "\n",
              "[990 rows x 7 columns]"
            ]
          },
          "metadata": {
            "tags": []
          },
          "execution_count": 27
        }
      ]
    },
    {
      "cell_type": "markdown",
      "metadata": {
        "id": "cKNndIvMkktM"
      },
      "source": [
        "### Turn into Monthly DataFrame"
      ]
    },
    {
      "cell_type": "code",
      "metadata": {
        "id": "yINAohAKmUcV"
      },
      "source": [
        "kodex_monthly = pd.DataFrame()\n",
        "gov_monthly = pd.DataFrame()"
      ],
      "execution_count": 62,
      "outputs": []
    },
    {
      "cell_type": "code",
      "metadata": {
        "id": "6GBoZFOwmmLa"
      },
      "source": [
        "kodex_200['date'].dt.year #연\n",
        "kodex_200['date'].dt.month #월\n",
        "kodex_200['date'].dt.day #일\n",
        "kodex_200['date'].dt.dayofweek #요일\n",
        "kodex_200['date'].dt.day_name() #요일"
      ],
      "execution_count": null,
      "outputs": []
    },
    {
      "cell_type": "code",
      "metadata": {
        "id": "JHgRuJDEmprZ"
      },
      "source": [
        "for y in range(2017,2022):\n",
        "    for m in range(1,13):\n",
        "        kodex_monthly = kodex_monthly.append(kodex_200[(kodex_200['date'].dt.year == y) & (kodex_200['date'].dt.month==m)].head(1),ignore_index=True)\n",
        "        gov_monthly = gov_monthly.append(gov_3[(gov_3.date.dt.year==y) & (gov_3.date.dt.month==m)].head(1))\n",
        "\n"
      ],
      "execution_count": 63,
      "outputs": []
    },
    {
      "cell_type": "code",
      "metadata": {
        "id": "6YHCDX2TnfvR"
      },
      "source": [
        "# list comprehension\n",
        "kodex_monthly.index = [x for x in range(len(kodex_monthly))]\n",
        "gov_monthly.index = [x for x in range(len(gov_monthly))]"
      ],
      "execution_count": 65,
      "outputs": []
    },
    {
      "cell_type": "code",
      "metadata": {
        "id": "9n8MmDPSn2jB"
      },
      "source": [
        ""
      ],
      "execution_count": null,
      "outputs": []
    }
  ]
}