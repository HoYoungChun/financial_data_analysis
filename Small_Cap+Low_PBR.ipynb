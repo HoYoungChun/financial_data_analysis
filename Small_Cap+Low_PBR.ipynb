{
  "nbformat": 4,
  "nbformat_minor": 0,
  "metadata": {
    "colab": {
      "name": "Small_Cap+Low-PBR.ipynb",
      "provenance": [],
      "authorship_tag": "ABX9TyMJrENB8mjBCQx6Gn0K7g58",
      "include_colab_link": true
    },
    "kernelspec": {
      "name": "python3",
      "display_name": "Python 3"
    },
    "language_info": {
      "name": "python"
    }
  },
  "cells": [
    {
      "cell_type": "markdown",
      "metadata": {
        "id": "view-in-github",
        "colab_type": "text"
      },
      "source": [
        "<a href=\"https://colab.research.google.com/github/HoYoungChun/financial_data_analysis/blob/main/Small_Cap%2BLow_PBR.ipynb\" target=\"_parent\"><img src=\"https://colab.research.google.com/assets/colab-badge.svg\" alt=\"Open In Colab\"/></a>"
      ]
    },
    {
      "cell_type": "markdown",
      "metadata": {
        "id": "-2SSUIj7SSF5"
      },
      "source": [
        "# Small_Cap+Low-PBR"
      ]
    },
    {
      "cell_type": "markdown",
      "metadata": {
        "id": "aASPGev1SXu6"
      },
      "source": [
        "### Basic Setting"
      ]
    },
    {
      "cell_type": "code",
      "metadata": {
        "id": "uLlL2GOrTPZm"
      },
      "source": [
        "import pandas as pd\n",
        "from tqdm import tqdm\n",
        "from bs4 import BeautifulSoup\n",
        "import urllib.request\n",
        "# !pip install bs4\n",
        "# !pip install urllib\n"
      ],
      "execution_count": 2,
      "outputs": []
    },
    {
      "cell_type": "code",
      "metadata": {
        "colab": {
          "base_uri": "https://localhost:8080/"
        },
        "id": "mhx3O5ZSTp7P",
        "outputId": "0b0e0140-765c-4716-b523-fdc1309d3e93"
      },
      "source": [
        "from google.colab import drive\n",
        "drive.mount('/content/drive/')"
      ],
      "execution_count": 3,
      "outputs": [
        {
          "output_type": "stream",
          "text": [
            "Mounted at /content/drive/\n"
          ],
          "name": "stdout"
        }
      ]
    },
    {
      "cell_type": "code",
      "metadata": {
        "id": "k0Mlxd38VkBz"
      },
      "source": [
        "import pandas as pd\n",
        "\n",
        "csv_url = '/content/drive/MyDrive/Colab/financial_data_analysis/company.csv'\n",
        "\n",
        "company = pd.read_csv(csv_url, encoding='utf-8')"
      ],
      "execution_count": 5,
      "outputs": []
    },
    {
      "cell_type": "code",
      "metadata": {
        "colab": {
          "base_uri": "https://localhost:8080/"
        },
        "id": "NpPDzlwPVr0R",
        "outputId": "8cb10d3a-957b-4556-8018-a5173d7ec687"
      },
      "source": [
        "SNAP_URL = 'https://comp.fnguide.com/SVO2/ASP/SVD_Main.asp?pGB=1&gicode=A{}&cID=&MenuYn=Y&ReportGB=&NewMenuID=101&stkGb=701'\n",
        "print(SNAP_URL)"
      ],
      "execution_count": 6,
      "outputs": [
        {
          "output_type": "stream",
          "text": [
            "https://comp.fnguide.com/SVO2/ASP/SVD_Main.asp?pGB=1&gicode=A{}&cID=&MenuYn=Y&ReportGB=&NewMenuID=101&stkGb=701\n"
          ],
          "name": "stdout"
        }
      ]
    },
    {
      "cell_type": "code",
      "metadata": {
        "colab": {
          "base_uri": "https://localhost:8080/"
        },
        "id": "iPnTh6_lVt9Q",
        "outputId": "ed63a2d2-c0e2-4ee1-f63e-9f4f278d129c"
      },
      "source": [
        "FS_URL = 'https://comp.fnguide.com/SVO2/ASP/SVD_Finance.asp?pGB=1&gicode=A{}&cID=&MenuYn=Y&ReportGB=&NewMenuID=103&stkGb=701'\n",
        "print(FS_URL)"
      ],
      "execution_count": 7,
      "outputs": [
        {
          "output_type": "stream",
          "text": [
            "https://comp.fnguide.com/SVO2/ASP/SVD_Finance.asp?pGB=1&gicode=A{}&cID=&MenuYn=Y&ReportGB=&NewMenuID=103&stkGb=701\n"
          ],
          "name": "stdout"
        }
      ]
    },
    {
      "cell_type": "code",
      "metadata": {
        "id": "IrXR6W0MV5Fy"
      },
      "source": [
        "sample_code = '035720'"
      ],
      "execution_count": 8,
      "outputs": []
    },
    {
      "cell_type": "code",
      "metadata": {
        "id": "c1zh4dkpV9MM"
      },
      "source": [
        "fs = urllib.request.urlopen(FS_URL.format(sample_code)).read()\n",
        "fs_soup = BeautifulSoup(fs,'html.parser')"
      ],
      "execution_count": 9,
      "outputs": []
    },
    {
      "cell_type": "code",
      "metadata": {
        "id": "-W8Kk7vCXU07"
      },
      "source": [
        "snap = urllib.request.urlopen(SNAP_URL.format(sample_code)).read()\n",
        "snap_soup = BeautifulSoup(snap,'html.parser')"
      ],
      "execution_count": 10,
      "outputs": []
    },
    {
      "cell_type": "markdown",
      "metadata": {
        "id": "TnPNrPbgcTiA"
      },
      "source": [
        "### Market Value(시가총액)"
      ]
    },
    {
      "cell_type": "code",
      "metadata": {
        "colab": {
          "base_uri": "https://localhost:8080/"
        },
        "id": "RP5bfJU5ZIcD",
        "outputId": "815f5c50-1acb-4a3f-de07-c9173530ea0e"
      },
      "source": [
        "mv_sells = snap_soup.find('div',{'id':\"svdMainGrid1\"}).find_all('td',{'class':'r'})\n",
        "market_value = float(mv_sells[8].string.replace(',',''))\n",
        "market_value"
      ],
      "execution_count": 11,
      "outputs": [
        {
          "output_type": "execute_result",
          "data": {
            "text/plain": [
              "699189.0"
            ]
          },
          "metadata": {
            "tags": []
          },
          "execution_count": 11
        }
      ]
    },
    {
      "cell_type": "markdown",
      "metadata": {
        "id": "1tWVnRNIoFeP"
      },
      "source": [
        "### PBR"
      ]
    },
    {
      "cell_type": "code",
      "metadata": {
        "colab": {
          "base_uri": "https://localhost:8080/"
        },
        "id": "HVg9vAbecsKI",
        "outputId": "8cd85a3f-674e-42ed-c2d7-c72a4315f7c8"
      },
      "source": [
        "pbr_cells = snap_soup.find_all('div',{'id':\"corp_group2\"})[0].find_all('dd')\n",
        "pbr = float(pbr_cells[-3].string)\n",
        "pbr"
      ],
      "execution_count": 19,
      "outputs": [
        {
          "output_type": "execute_result",
          "data": {
            "text/plain": [
              "11.06"
            ]
          },
          "metadata": {
            "tags": []
          },
          "execution_count": 19
        }
      ]
    },
    {
      "cell_type": "markdown",
      "metadata": {
        "id": "SZkVWtqBu37P"
      },
      "source": [
        "### Get All Stock code"
      ]
    },
    {
      "cell_type": "code",
      "metadata": {
        "id": "vxni4PH0vzOW",
        "colab": {
          "base_uri": "https://localhost:8080/"
        },
        "outputId": "50a31e7b-b6f0-42db-a646-d946fd6a07c0"
      },
      "source": [
        "code_list = company['종목코드']\n",
        "sample_code_list = code_list[1000:1050]\n",
        "sample_code_list"
      ],
      "execution_count": 20,
      "outputs": [
        {
          "output_type": "execute_result",
          "data": {
            "text/plain": [
              "1000    207930\n",
              "1001    214270\n",
              "1002    189690\n",
              "1003    213420\n",
              "1004    206660\n",
              "1005    060480\n",
              "1006    206640\n",
              "1007    208640\n",
              "1008    193250\n",
              "1009    204630\n",
              "1010    200470\n",
              "1011    200670\n",
              "1012    208710\n",
              "1013    189860\n",
              "1014    067390\n",
              "1015    080580\n",
              "1016    208350\n",
              "1017    160550\n",
              "1018    124500\n",
              "1019    142280\n",
              "1020    187220\n",
              "1021    208370\n",
              "1022    207720\n",
              "1023    208140\n",
              "1024    149980\n",
              "1025    084650\n",
              "1026    200710\n",
              "1027    200780\n",
              "1028    207760\n",
              "1029    196170\n",
              "1030    206400\n",
              "1031    178920\n",
              "1032    140520\n",
              "1033    173940\n",
              "1034    205470\n",
              "1035    200230\n",
              "1036    194510\n",
              "1037    204840\n",
              "1038    196490\n",
              "1039    204620\n",
              "1040    205500\n",
              "1041    205100\n",
              "1042    191420\n",
              "1043    192440\n",
              "1044    182690\n",
              "1045    143540\n",
              "1046    203650\n",
              "1047    041920\n",
              "1048    194480\n",
              "1049    203690\n",
              "Name: 종목코드, dtype: object"
            ]
          },
          "metadata": {
            "tags": []
          },
          "execution_count": 20
        }
      ]
    },
    {
      "cell_type": "code",
      "metadata": {
        "id": "1yPYknznws0k"
      },
      "source": [
        "def crawler(li):\n",
        "    # url을 세팅한다.\n",
        "    SNAP_URL = 'https://comp.fnguide.com/SVO2/ASP/SVD_Main.asp?pGB=1&gicode=A{}&cID=&MenuYn=Y&ReportGB=&NewMenuID=101&stkGb=701'\n",
        "    FS_URL = 'https://comp.fnguide.com/SVO2/ASP/SVD_Finance.asp?pGB=1&gicode=A{}&cID=&MenuYn=Y&ReportGB=&NewMenuID=103&stkGb=701'\n",
        "\n",
        "    result={}\n",
        "\n",
        "    for code in tqdm(li):\n",
        "        try:\n",
        "            fs = urllib.request.urlopen(FS_URL.format(code)).read()\n",
        "            fs_soup = BeautifulSoup(fs,'html.parser')\n",
        "\n",
        "            snap = urllib.request.urlopen(SNAP_URL.format(code)).read()\n",
        "            snap_soup = BeautifulSoup(snap,'html.parser')\n",
        "\n",
        "            #get company name\n",
        "            name = company[company['종목코드'] == code]['회사명'].values[0]\n",
        "\n",
        "            #get market value\n",
        "            mv_sells = snap_soup.find('div',{'id':\"svdMainGrid1\"}).find_all('td',{'class':'r'})\n",
        "            market_value = float(mv_sells[8].string.replace(',',''))\n",
        "\n",
        "            #get pbr\n",
        "            pbr_cells = snap_soup.find_all('div',{'id':\"corp_group2\"})[0].find_all('dd')\n",
        "            pbr = float(pbr_cells[-3].string)\n",
        "\n",
        "            #insert into result dict\n",
        "            result[name]=[code, market_value, pbr]\n",
        "\n",
        "        except(ValueError, AttributeError, IndexError, TypeError):\n",
        "            pass\n",
        "\n",
        "    # convert dict into DataFrame\n",
        "    result_df = pd.DataFrame(result)\n",
        "\n",
        "    # transposing DataFrame\n",
        "    result_df = result_df.transpose()\n",
        "\n",
        "    # set column names\n",
        "    result_df.columns=['Code','market_value','pbr']\n",
        "    \n",
        "    return result_df\n",
        "        \n",
        "\n"
      ],
      "execution_count": 21,
      "outputs": []
    },
    {
      "cell_type": "code",
      "metadata": {
        "colab": {
          "base_uri": "https://localhost:8080/",
          "height": 1000
        },
        "id": "ujTH4Vbj1Wo1",
        "outputId": "e91eea82-1b60-485e-d744-703601562ab9"
      },
      "source": [
        "result_df = crawler(sample_code_list)\n",
        "result_df"
      ],
      "execution_count": 22,
      "outputs": [
        {
          "output_type": "stream",
          "text": [
            "100%|██████████| 50/50 [01:25<00:00,  1.72s/it]\n"
          ],
          "name": "stderr"
        },
        {
          "output_type": "execute_result",
          "data": {
            "text/html": [
              "<div>\n",
              "<style scoped>\n",
              "    .dataframe tbody tr th:only-of-type {\n",
              "        vertical-align: middle;\n",
              "    }\n",
              "\n",
              "    .dataframe tbody tr th {\n",
              "        vertical-align: top;\n",
              "    }\n",
              "\n",
              "    .dataframe thead th {\n",
              "        text-align: right;\n",
              "    }\n",
              "</style>\n",
              "<table border=\"1\" class=\"dataframe\">\n",
              "  <thead>\n",
              "    <tr style=\"text-align: right;\">\n",
              "      <th></th>\n",
              "      <th>Code</th>\n",
              "      <th>market_value</th>\n",
              "      <th>pbr</th>\n",
              "    </tr>\n",
              "  </thead>\n",
              "  <tbody>\n",
              "    <tr>\n",
              "      <th>퓨쳐스트림네트웍스</th>\n",
              "      <td>214270</td>\n",
              "      <td>1619</td>\n",
              "      <td>2.18</td>\n",
              "    </tr>\n",
              "    <tr>\n",
              "      <th>포시에스</th>\n",
              "      <td>189690</td>\n",
              "      <td>761</td>\n",
              "      <td>1.41</td>\n",
              "    </tr>\n",
              "    <tr>\n",
              "      <th>덕산네오룩스</th>\n",
              "      <td>213420</td>\n",
              "      <td>13518</td>\n",
              "      <td>7.01</td>\n",
              "    </tr>\n",
              "    <tr>\n",
              "      <th>국일신동</th>\n",
              "      <td>060480</td>\n",
              "      <td>599</td>\n",
              "      <td>1.27</td>\n",
              "    </tr>\n",
              "    <tr>\n",
              "      <th>바디텍메드</th>\n",
              "      <td>206640</td>\n",
              "      <td>5273</td>\n",
              "      <td>4.2</td>\n",
              "    </tr>\n",
              "    <tr>\n",
              "      <th>썸에이지</th>\n",
              "      <td>208640</td>\n",
              "      <td>4391</td>\n",
              "      <td>18.33</td>\n",
              "    </tr>\n",
              "    <tr>\n",
              "      <th>와이제이엠게임즈</th>\n",
              "      <td>193250</td>\n",
              "      <td>1427</td>\n",
              "      <td>2.15</td>\n",
              "    </tr>\n",
              "    <tr>\n",
              "      <th>화이브라더스코리아</th>\n",
              "      <td>204630</td>\n",
              "      <td>997</td>\n",
              "      <td>3.11</td>\n",
              "    </tr>\n",
              "    <tr>\n",
              "      <th>하이셈</th>\n",
              "      <td>200470</td>\n",
              "      <td>1260</td>\n",
              "      <td>1.87</td>\n",
              "    </tr>\n",
              "    <tr>\n",
              "      <th>휴메딕스</th>\n",
              "      <td>200670</td>\n",
              "      <td>3595</td>\n",
              "      <td>2.53</td>\n",
              "    </tr>\n",
              "    <tr>\n",
              "      <th>바이오로그디바이스</th>\n",
              "      <td>208710</td>\n",
              "      <td>2183</td>\n",
              "      <td>4.01</td>\n",
              "    </tr>\n",
              "    <tr>\n",
              "      <th>서전기전</th>\n",
              "      <td>189860</td>\n",
              "      <td>862</td>\n",
              "      <td>2.15</td>\n",
              "    </tr>\n",
              "    <tr>\n",
              "      <th>아스트</th>\n",
              "      <td>067390</td>\n",
              "      <td>1968</td>\n",
              "      <td>1.23</td>\n",
              "    </tr>\n",
              "    <tr>\n",
              "      <th>오킨스전자</th>\n",
              "      <td>080580</td>\n",
              "      <td>3589</td>\n",
              "      <td>11.77</td>\n",
              "    </tr>\n",
              "    <tr>\n",
              "      <th>지란지교시큐리티</th>\n",
              "      <td>208350</td>\n",
              "      <td>624</td>\n",
              "      <td>1.51</td>\n",
              "    </tr>\n",
              "    <tr>\n",
              "      <th>NEW</th>\n",
              "      <td>160550</td>\n",
              "      <td>2763</td>\n",
              "      <td>2.62</td>\n",
              "    </tr>\n",
              "    <tr>\n",
              "      <th>아이티센</th>\n",
              "      <td>124500</td>\n",
              "      <td>1264</td>\n",
              "      <td>2.24</td>\n",
              "    </tr>\n",
              "    <tr>\n",
              "      <th>녹십자엠에스</th>\n",
              "      <td>142280</td>\n",
              "      <td>2355</td>\n",
              "      <td>4.13</td>\n",
              "    </tr>\n",
              "    <tr>\n",
              "      <th>디티앤씨</th>\n",
              "      <td>187220</td>\n",
              "      <td>838</td>\n",
              "      <td>1.03</td>\n",
              "    </tr>\n",
              "    <tr>\n",
              "      <th>셀바스헬스케어</th>\n",
              "      <td>208370</td>\n",
              "      <td>610</td>\n",
              "      <td>2.43</td>\n",
              "    </tr>\n",
              "    <tr>\n",
              "      <th>정다운</th>\n",
              "      <td>208140</td>\n",
              "      <td>1332</td>\n",
              "      <td>1.91</td>\n",
              "    </tr>\n",
              "    <tr>\n",
              "      <th>하이로닉</th>\n",
              "      <td>149980</td>\n",
              "      <td>939</td>\n",
              "      <td>1.69</td>\n",
              "    </tr>\n",
              "    <tr>\n",
              "      <th>랩지노믹스</th>\n",
              "      <td>084650</td>\n",
              "      <td>2880</td>\n",
              "      <td>3.47</td>\n",
              "    </tr>\n",
              "    <tr>\n",
              "      <th>에이디테크놀로지</th>\n",
              "      <td>200710</td>\n",
              "      <td>3286</td>\n",
              "      <td>2.2</td>\n",
              "    </tr>\n",
              "    <tr>\n",
              "      <th>비씨월드제약</th>\n",
              "      <td>200780</td>\n",
              "      <td>1658</td>\n",
              "      <td>1.62</td>\n",
              "    </tr>\n",
              "    <tr>\n",
              "      <th>미스터블루</th>\n",
              "      <td>207760</td>\n",
              "      <td>2860</td>\n",
              "      <td>5.03</td>\n",
              "    </tr>\n",
              "    <tr>\n",
              "      <th>알테오젠</th>\n",
              "      <td>196170</td>\n",
              "      <td>40197</td>\n",
              "      <td>30.83</td>\n",
              "    </tr>\n",
              "    <tr>\n",
              "      <th>엔터메이트</th>\n",
              "      <td>206400</td>\n",
              "      <td>1563</td>\n",
              "      <td>2.98</td>\n",
              "    </tr>\n",
              "    <tr>\n",
              "      <th>SKC코오롱PI</th>\n",
              "      <td>178920</td>\n",
              "      <td>15887</td>\n",
              "      <td>5.62</td>\n",
              "    </tr>\n",
              "    <tr>\n",
              "      <th>대창스틸</th>\n",
              "      <td>140520</td>\n",
              "      <td>797</td>\n",
              "      <td>0.89</td>\n",
              "    </tr>\n",
              "    <tr>\n",
              "      <th>에프엔씨엔터</th>\n",
              "      <td>173940</td>\n",
              "      <td>909</td>\n",
              "      <td>1.43</td>\n",
              "    </tr>\n",
              "    <tr>\n",
              "      <th>하이제2호스팩</th>\n",
              "      <td>205470</td>\n",
              "      <td>6126</td>\n",
              "      <td>12.57</td>\n",
              "    </tr>\n",
              "    <tr>\n",
              "      <th>텔콘</th>\n",
              "      <td>200230</td>\n",
              "      <td>4135</td>\n",
              "      <td>4.53</td>\n",
              "    </tr>\n",
              "    <tr>\n",
              "      <th>파티게임즈</th>\n",
              "      <td>194510</td>\n",
              "      <td>72</td>\n",
              "      <td>0.16</td>\n",
              "    </tr>\n",
              "    <tr>\n",
              "      <th>지엘팜텍</th>\n",
              "      <td>204840</td>\n",
              "      <td>697</td>\n",
              "      <td>4.94</td>\n",
              "    </tr>\n",
              "    <tr>\n",
              "      <th>디에이테크놀로지</th>\n",
              "      <td>196490</td>\n",
              "      <td>1413</td>\n",
              "      <td>1.37</td>\n",
              "    </tr>\n",
              "    <tr>\n",
              "      <th>유안타제1호스팩</th>\n",
              "      <td>204620</td>\n",
              "      <td>1869</td>\n",
              "      <td>1.72</td>\n",
              "    </tr>\n",
              "    <tr>\n",
              "      <th>액션스퀘어</th>\n",
              "      <td>205500</td>\n",
              "      <td>2596</td>\n",
              "      <td>14.1</td>\n",
              "    </tr>\n",
              "    <tr>\n",
              "      <th>엑셈</th>\n",
              "      <td>205100</td>\n",
              "      <td>1528</td>\n",
              "      <td>1.97</td>\n",
              "    </tr>\n",
              "    <tr>\n",
              "      <th>테고사이언스</th>\n",
              "      <td>191420</td>\n",
              "      <td>2254</td>\n",
              "      <td>4.53</td>\n",
              "    </tr>\n",
              "    <tr>\n",
              "      <th>슈피겐코리아</th>\n",
              "      <td>192440</td>\n",
              "      <td>3506</td>\n",
              "      <td>1.02</td>\n",
              "    </tr>\n",
              "    <tr>\n",
              "      <th>테라셈</th>\n",
              "      <td>182690</td>\n",
              "      <td>305</td>\n",
              "      <td>1.14</td>\n",
              "    </tr>\n",
              "    <tr>\n",
              "      <th>영우디에스피</th>\n",
              "      <td>143540</td>\n",
              "      <td>1284</td>\n",
              "      <td>2.57</td>\n",
              "    </tr>\n",
              "    <tr>\n",
              "      <th>드림시큐리티</th>\n",
              "      <td>203650</td>\n",
              "      <td>2697</td>\n",
              "      <td>3.83</td>\n",
              "    </tr>\n",
              "    <tr>\n",
              "      <th>메디아나</th>\n",
              "      <td>041920</td>\n",
              "      <td>1211</td>\n",
              "      <td>1.76</td>\n",
              "    </tr>\n",
              "    <tr>\n",
              "      <th>데브시스터즈</th>\n",
              "      <td>194480</td>\n",
              "      <td>10179</td>\n",
              "      <td>7.03</td>\n",
              "    </tr>\n",
              "    <tr>\n",
              "      <th>프로스테믹스</th>\n",
              "      <td>203690</td>\n",
              "      <td>1748</td>\n",
              "      <td>7.05</td>\n",
              "    </tr>\n",
              "  </tbody>\n",
              "</table>\n",
              "</div>"
            ],
            "text/plain": [
              "             Code market_value    pbr\n",
              "퓨쳐스트림네트웍스  214270         1619   2.18\n",
              "포시에스       189690          761   1.41\n",
              "덕산네오룩스     213420        13518   7.01\n",
              "국일신동       060480          599   1.27\n",
              "바디텍메드      206640         5273    4.2\n",
              "썸에이지       208640         4391  18.33\n",
              "와이제이엠게임즈   193250         1427   2.15\n",
              "화이브라더스코리아  204630          997   3.11\n",
              "하이셈        200470         1260   1.87\n",
              "휴메딕스       200670         3595   2.53\n",
              "바이오로그디바이스  208710         2183   4.01\n",
              "서전기전       189860          862   2.15\n",
              "아스트        067390         1968   1.23\n",
              "오킨스전자      080580         3589  11.77\n",
              "지란지교시큐리티   208350          624   1.51\n",
              "NEW        160550         2763   2.62\n",
              "아이티센       124500         1264   2.24\n",
              "녹십자엠에스     142280         2355   4.13\n",
              "디티앤씨       187220          838   1.03\n",
              "셀바스헬스케어    208370          610   2.43\n",
              "정다운        208140         1332   1.91\n",
              "하이로닉       149980          939   1.69\n",
              "랩지노믹스      084650         2880   3.47\n",
              "에이디테크놀로지   200710         3286    2.2\n",
              "비씨월드제약     200780         1658   1.62\n",
              "미스터블루      207760         2860   5.03\n",
              "알테오젠       196170        40197  30.83\n",
              "엔터메이트      206400         1563   2.98\n",
              "SKC코오롱PI   178920        15887   5.62\n",
              "대창스틸       140520          797   0.89\n",
              "에프엔씨엔터     173940          909   1.43\n",
              "하이제2호스팩    205470         6126  12.57\n",
              "텔콘         200230         4135   4.53\n",
              "파티게임즈      194510           72   0.16\n",
              "지엘팜텍       204840          697   4.94\n",
              "디에이테크놀로지   196490         1413   1.37\n",
              "유안타제1호스팩   204620         1869   1.72\n",
              "액션스퀘어      205500         2596   14.1\n",
              "엑셈         205100         1528   1.97\n",
              "테고사이언스     191420         2254   4.53\n",
              "슈피겐코리아     192440         3506   1.02\n",
              "테라셈        182690          305   1.14\n",
              "영우디에스피     143540         1284   2.57\n",
              "드림시큐리티     203650         2697   3.83\n",
              "메디아나       041920         1211   1.76\n",
              "데브시스터즈     194480        10179   7.03\n",
              "프로스테믹스     203690         1748   7.05"
            ]
          },
          "metadata": {
            "tags": []
          },
          "execution_count": 22
        }
      ]
    },
    {
      "cell_type": "code",
      "metadata": {
        "id": "__6NTiwb1g4d"
      },
      "source": [
        "tmp_df = result_df.copy()"
      ],
      "execution_count": 23,
      "outputs": []
    },
    {
      "cell_type": "markdown",
      "metadata": {
        "id": "KahaLNTc8hkO"
      },
      "source": [
        "### Searching stocks"
      ]
    },
    {
      "cell_type": "code",
      "metadata": {
        "colab": {
          "base_uri": "https://localhost:8080/",
          "height": 971
        },
        "id": "jWl4XOnj8wgz",
        "outputId": "8653d056-5fa7-48b0-c060-04d344cf2a24"
      },
      "source": [
        "total_len = tmp_df.shape[0]\n",
        "#시가총액 하위20%\n",
        "tmp_df.sort_values(by='market_value', ascending=True).head(int(total_len*0.2))\n",
        "\n",
        "#pbr 0.2 초과\n",
        "tmp_df= tmp_df[(tmp_df['pbr'] > 0.2)]\n",
        "\n",
        "#pbr작은 순으로 정렬\n",
        "tmp_df.sort_values(by='pbr', ascending=True).head(30)"
      ],
      "execution_count": 35,
      "outputs": [
        {
          "output_type": "execute_result",
          "data": {
            "text/html": [
              "<div>\n",
              "<style scoped>\n",
              "    .dataframe tbody tr th:only-of-type {\n",
              "        vertical-align: middle;\n",
              "    }\n",
              "\n",
              "    .dataframe tbody tr th {\n",
              "        vertical-align: top;\n",
              "    }\n",
              "\n",
              "    .dataframe thead th {\n",
              "        text-align: right;\n",
              "    }\n",
              "</style>\n",
              "<table border=\"1\" class=\"dataframe\">\n",
              "  <thead>\n",
              "    <tr style=\"text-align: right;\">\n",
              "      <th></th>\n",
              "      <th>Code</th>\n",
              "      <th>market_value</th>\n",
              "      <th>pbr</th>\n",
              "    </tr>\n",
              "  </thead>\n",
              "  <tbody>\n",
              "    <tr>\n",
              "      <th>대창스틸</th>\n",
              "      <td>140520</td>\n",
              "      <td>797</td>\n",
              "      <td>0.89</td>\n",
              "    </tr>\n",
              "    <tr>\n",
              "      <th>슈피겐코리아</th>\n",
              "      <td>192440</td>\n",
              "      <td>3506</td>\n",
              "      <td>1.02</td>\n",
              "    </tr>\n",
              "    <tr>\n",
              "      <th>디티앤씨</th>\n",
              "      <td>187220</td>\n",
              "      <td>838</td>\n",
              "      <td>1.03</td>\n",
              "    </tr>\n",
              "    <tr>\n",
              "      <th>테라셈</th>\n",
              "      <td>182690</td>\n",
              "      <td>305</td>\n",
              "      <td>1.14</td>\n",
              "    </tr>\n",
              "    <tr>\n",
              "      <th>아스트</th>\n",
              "      <td>067390</td>\n",
              "      <td>1968</td>\n",
              "      <td>1.23</td>\n",
              "    </tr>\n",
              "    <tr>\n",
              "      <th>국일신동</th>\n",
              "      <td>060480</td>\n",
              "      <td>599</td>\n",
              "      <td>1.27</td>\n",
              "    </tr>\n",
              "    <tr>\n",
              "      <th>디에이테크놀로지</th>\n",
              "      <td>196490</td>\n",
              "      <td>1413</td>\n",
              "      <td>1.37</td>\n",
              "    </tr>\n",
              "    <tr>\n",
              "      <th>포시에스</th>\n",
              "      <td>189690</td>\n",
              "      <td>761</td>\n",
              "      <td>1.41</td>\n",
              "    </tr>\n",
              "    <tr>\n",
              "      <th>에프엔씨엔터</th>\n",
              "      <td>173940</td>\n",
              "      <td>909</td>\n",
              "      <td>1.43</td>\n",
              "    </tr>\n",
              "    <tr>\n",
              "      <th>지란지교시큐리티</th>\n",
              "      <td>208350</td>\n",
              "      <td>624</td>\n",
              "      <td>1.51</td>\n",
              "    </tr>\n",
              "    <tr>\n",
              "      <th>비씨월드제약</th>\n",
              "      <td>200780</td>\n",
              "      <td>1658</td>\n",
              "      <td>1.62</td>\n",
              "    </tr>\n",
              "    <tr>\n",
              "      <th>하이로닉</th>\n",
              "      <td>149980</td>\n",
              "      <td>939</td>\n",
              "      <td>1.69</td>\n",
              "    </tr>\n",
              "    <tr>\n",
              "      <th>유안타제1호스팩</th>\n",
              "      <td>204620</td>\n",
              "      <td>1869</td>\n",
              "      <td>1.72</td>\n",
              "    </tr>\n",
              "    <tr>\n",
              "      <th>메디아나</th>\n",
              "      <td>041920</td>\n",
              "      <td>1211</td>\n",
              "      <td>1.76</td>\n",
              "    </tr>\n",
              "    <tr>\n",
              "      <th>하이셈</th>\n",
              "      <td>200470</td>\n",
              "      <td>1260</td>\n",
              "      <td>1.87</td>\n",
              "    </tr>\n",
              "    <tr>\n",
              "      <th>정다운</th>\n",
              "      <td>208140</td>\n",
              "      <td>1332</td>\n",
              "      <td>1.91</td>\n",
              "    </tr>\n",
              "    <tr>\n",
              "      <th>엑셈</th>\n",
              "      <td>205100</td>\n",
              "      <td>1528</td>\n",
              "      <td>1.97</td>\n",
              "    </tr>\n",
              "    <tr>\n",
              "      <th>서전기전</th>\n",
              "      <td>189860</td>\n",
              "      <td>862</td>\n",
              "      <td>2.15</td>\n",
              "    </tr>\n",
              "    <tr>\n",
              "      <th>와이제이엠게임즈</th>\n",
              "      <td>193250</td>\n",
              "      <td>1427</td>\n",
              "      <td>2.15</td>\n",
              "    </tr>\n",
              "    <tr>\n",
              "      <th>퓨쳐스트림네트웍스</th>\n",
              "      <td>214270</td>\n",
              "      <td>1619</td>\n",
              "      <td>2.18</td>\n",
              "    </tr>\n",
              "    <tr>\n",
              "      <th>에이디테크놀로지</th>\n",
              "      <td>200710</td>\n",
              "      <td>3286</td>\n",
              "      <td>2.2</td>\n",
              "    </tr>\n",
              "    <tr>\n",
              "      <th>아이티센</th>\n",
              "      <td>124500</td>\n",
              "      <td>1264</td>\n",
              "      <td>2.24</td>\n",
              "    </tr>\n",
              "    <tr>\n",
              "      <th>셀바스헬스케어</th>\n",
              "      <td>208370</td>\n",
              "      <td>610</td>\n",
              "      <td>2.43</td>\n",
              "    </tr>\n",
              "    <tr>\n",
              "      <th>휴메딕스</th>\n",
              "      <td>200670</td>\n",
              "      <td>3595</td>\n",
              "      <td>2.53</td>\n",
              "    </tr>\n",
              "    <tr>\n",
              "      <th>영우디에스피</th>\n",
              "      <td>143540</td>\n",
              "      <td>1284</td>\n",
              "      <td>2.57</td>\n",
              "    </tr>\n",
              "    <tr>\n",
              "      <th>NEW</th>\n",
              "      <td>160550</td>\n",
              "      <td>2763</td>\n",
              "      <td>2.62</td>\n",
              "    </tr>\n",
              "    <tr>\n",
              "      <th>엔터메이트</th>\n",
              "      <td>206400</td>\n",
              "      <td>1563</td>\n",
              "      <td>2.98</td>\n",
              "    </tr>\n",
              "    <tr>\n",
              "      <th>화이브라더스코리아</th>\n",
              "      <td>204630</td>\n",
              "      <td>997</td>\n",
              "      <td>3.11</td>\n",
              "    </tr>\n",
              "    <tr>\n",
              "      <th>랩지노믹스</th>\n",
              "      <td>084650</td>\n",
              "      <td>2880</td>\n",
              "      <td>3.47</td>\n",
              "    </tr>\n",
              "    <tr>\n",
              "      <th>드림시큐리티</th>\n",
              "      <td>203650</td>\n",
              "      <td>2697</td>\n",
              "      <td>3.83</td>\n",
              "    </tr>\n",
              "  </tbody>\n",
              "</table>\n",
              "</div>"
            ],
            "text/plain": [
              "             Code market_value   pbr\n",
              "대창스틸       140520          797  0.89\n",
              "슈피겐코리아     192440         3506  1.02\n",
              "디티앤씨       187220          838  1.03\n",
              "테라셈        182690          305  1.14\n",
              "아스트        067390         1968  1.23\n",
              "국일신동       060480          599  1.27\n",
              "디에이테크놀로지   196490         1413  1.37\n",
              "포시에스       189690          761  1.41\n",
              "에프엔씨엔터     173940          909  1.43\n",
              "지란지교시큐리티   208350          624  1.51\n",
              "비씨월드제약     200780         1658  1.62\n",
              "하이로닉       149980          939  1.69\n",
              "유안타제1호스팩   204620         1869  1.72\n",
              "메디아나       041920         1211  1.76\n",
              "하이셈        200470         1260  1.87\n",
              "정다운        208140         1332  1.91\n",
              "엑셈         205100         1528  1.97\n",
              "서전기전       189860          862  2.15\n",
              "와이제이엠게임즈   193250         1427  2.15\n",
              "퓨쳐스트림네트웍스  214270         1619  2.18\n",
              "에이디테크놀로지   200710         3286   2.2\n",
              "아이티센       124500         1264  2.24\n",
              "셀바스헬스케어    208370          610  2.43\n",
              "휴메딕스       200670         3595  2.53\n",
              "영우디에스피     143540         1284  2.57\n",
              "NEW        160550         2763  2.62\n",
              "엔터메이트      206400         1563  2.98\n",
              "화이브라더스코리아  204630          997  3.11\n",
              "랩지노믹스      084650         2880  3.47\n",
              "드림시큐리티     203650         2697  3.83"
            ]
          },
          "metadata": {
            "tags": []
          },
          "execution_count": 35
        }
      ]
    },
    {
      "cell_type": "code",
      "metadata": {
        "id": "yxYJOwvOC9m1"
      },
      "source": [
        ""
      ],
      "execution_count": null,
      "outputs": []
    }
  ]
}