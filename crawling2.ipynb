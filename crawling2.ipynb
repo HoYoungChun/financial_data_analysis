{
  "nbformat": 4,
  "nbformat_minor": 0,
  "metadata": {
    "colab": {
      "name": "crawling2.ipynb",
      "provenance": [],
      "collapsed_sections": [],
      "include_colab_link": true
    },
    "kernelspec": {
      "name": "python3",
      "display_name": "Python 3"
    },
    "language_info": {
      "name": "python"
    }
  },
  "cells": [
    {
      "cell_type": "markdown",
      "metadata": {
        "id": "view-in-github",
        "colab_type": "text"
      },
      "source": [
        "<a href=\"https://colab.research.google.com/github/HoYoungChun/financial_data_analysis/blob/main/crawling2.ipynb\" target=\"_parent\"><img src=\"https://colab.research.google.com/assets/colab-badge.svg\" alt=\"Open In Colab\"/></a>"
      ]
    },
    {
      "cell_type": "markdown",
      "metadata": {
        "id": "ueuhggleJ6I-"
      },
      "source": [
        "## campany.csv 불러오기"
      ]
    },
    {
      "cell_type": "code",
      "metadata": {
        "id": "-6I_bN3FGyXe",
        "colab": {
          "base_uri": "https://localhost:8080/"
        },
        "outputId": "b1f0821a-e9eb-4398-b5f0-640e712f67a0"
      },
      "source": [
        "from google.colab import drive\n",
        "drive.mount('/content/drive/')"
      ],
      "execution_count": null,
      "outputs": [
        {
          "output_type": "stream",
          "text": [
            "Mounted at /content/drive/\n"
          ],
          "name": "stdout"
        }
      ]
    },
    {
      "cell_type": "code",
      "metadata": {
        "id": "kzePmNoSTLgM"
      },
      "source": [
        "import pandas as pd\n",
        "\n",
        "csv_url = '/content/drive/MyDrive/Colab/financial_data_analysis/company.csv'\n",
        "\n",
        "company = pd.read_csv(csv_url, encoding='utf-8')"
      ],
      "execution_count": null,
      "outputs": []
    },
    {
      "cell_type": "markdown",
      "metadata": {
        "id": "vC5iIBXIU2y_"
      },
      "source": [
        "## BenjaminGraham"
      ]
    },
    {
      "cell_type": "markdown",
      "metadata": {
        "id": "NkIU4lTAaHJy"
      },
      "source": [
        "#### 레벨: 초급\n",
        "#### 스타일: 밸류+퀄리티\n",
        "#### 기대CAGR: 15%\n",
        "#### 종목개수: 20~30개\n",
        "#### 매수전략:PER 10 이하(종목이 충분할 경우 PER 5 이하로 제한), 부채비율 50% 이하\n"
      ]
    },
    {
      "cell_type": "markdown",
      "metadata": {
        "id": "aV_S_ZbZauiG"
      },
      "source": [
        "### Basic Setting\n",
        "### 에프앤가이드"
      ]
    },
    {
      "cell_type": "code",
      "metadata": {
        "id": "FogbPBOPZ-e0"
      },
      "source": [
        "import pandas as pd\n",
        "import requests\n",
        "from lxml import html\n",
        "from tqdm import tqdm"
      ],
      "execution_count": null,
      "outputs": []
    },
    {
      "cell_type": "code",
      "metadata": {
        "colab": {
          "base_uri": "https://localhost:8080/"
        },
        "id": "FVaIXqJ2bJvl",
        "outputId": "bd0f0f92-843b-4415-c9a9-73fd409da016"
      },
      "source": [
        "SNAP_URL = 'https://comp.fnguide.com/SVO2/ASP/SVD_Main.asp?pGB=1&gicode=A{}&cID=&MenuYn=Y&ReportGB=&NewMenuID=101&stkGb=701'\n",
        "print(SNAP_URL)"
      ],
      "execution_count": null,
      "outputs": [
        {
          "output_type": "stream",
          "text": [
            "https://comp.fnguide.com/SVO2/ASP/SVD_Main.asp?pGB=1&gicode=A{}&cID=&MenuYn=Y&ReportGB=&NewMenuID=101&stkGb=701\n"
          ],
          "name": "stdout"
        }
      ]
    },
    {
      "cell_type": "code",
      "metadata": {
        "colab": {
          "base_uri": "https://localhost:8080/"
        },
        "id": "0dVop8jsbZ5C",
        "outputId": "8d8b2cbc-212b-41ca-8008-434e14f8f3ba"
      },
      "source": [
        "RATIO_URL = 'https://comp.fnguide.com/SVO2/ASP/SVD_FinanceRatio.asp?pGB=1&gicode=A{}&cID=&MenuYn=Y&ReportGB=&NewMenuID=104&stkGb=701'\n",
        "print(RATIO_URL)"
      ],
      "execution_count": null,
      "outputs": [
        {
          "output_type": "stream",
          "text": [
            "https://comp.fnguide.com/SVO2/ASP/SVD_FinanceRatio.asp?pGB=1&gicode=A{}&cID=&MenuYn=Y&ReportGB=&NewMenuID=104&stkGb=701\n"
          ],
          "name": "stdout"
        }
      ]
    },
    {
      "cell_type": "code",
      "metadata": {
        "id": "07qPzOCdfhyh"
      },
      "source": [
        "# 삼성전자 종목코드\n",
        "sample_code = '005930'"
      ],
      "execution_count": null,
      "outputs": []
    },
    {
      "cell_type": "code",
      "metadata": {
        "colab": {
          "base_uri": "https://localhost:8080/"
        },
        "id": "PbJB6uRRgoIM",
        "outputId": "9a5a4c9c-26cc-43fe-85d1-8d1550973867"
      },
      "source": [
        "print(SNAP_URL.format(sample_code))"
      ],
      "execution_count": null,
      "outputs": [
        {
          "output_type": "stream",
          "text": [
            "https://comp.fnguide.com/SVO2/ASP/SVD_Main.asp?pGB=1&gicode=A005930&cID=&MenuYn=Y&ReportGB=&NewMenuID=101&stkGb=701\n"
          ],
          "name": "stdout"
        }
      ]
    },
    {
      "cell_type": "markdown",
      "metadata": {
        "id": "54Kf-6iHgxWa"
      },
      "source": [
        "### GET PER data"
      ]
    },
    {
      "cell_type": "code",
      "metadata": {
        "id": "fA7FN8g9hDhy"
      },
      "source": [
        "snap_url = SNAP_URL.format(sample_code)\n",
        "snap_content = requests.get(snap_url).content\n",
        "snap_tree = html.fromstring(snap_content)"
      ],
      "execution_count": null,
      "outputs": []
    },
    {
      "cell_type": "code",
      "metadata": {
        "id": "SmCBqvzYhpzD"
      },
      "source": [
        "per = snap_tree.xpath('//*[@id=\"corp_group2\"]/dl[2]/dd')[0].text"
      ],
      "execution_count": null,
      "outputs": []
    },
    {
      "cell_type": "code",
      "metadata": {
        "colab": {
          "base_uri": "https://localhost:8080/"
        },
        "id": "2g7XzHfWkzm0",
        "outputId": "67d71e49-e4db-4201-fcea-4ce2e394a541"
      },
      "source": [
        "per = float(per)\n",
        "per"
      ],
      "execution_count": null,
      "outputs": [
        {
          "output_type": "execute_result",
          "data": {
            "text/plain": [
              "13.0"
            ]
          },
          "metadata": {
            "tags": []
          },
          "execution_count": 15
        }
      ]
    },
    {
      "cell_type": "code",
      "metadata": {
        "colab": {
          "base_uri": "https://localhost:8080/"
        },
        "id": "NOfGdzMglcL5",
        "outputId": "3b09d27a-5ef1-4aa8-aa89-0ff93f99f5ff"
      },
      "source": [
        "per<10"
      ],
      "execution_count": null,
      "outputs": [
        {
          "output_type": "execute_result",
          "data": {
            "text/plain": [
              "False"
            ]
          },
          "metadata": {
            "tags": []
          },
          "execution_count": 16
        }
      ]
    },
    {
      "cell_type": "markdown",
      "metadata": {
        "id": "19E38bWDqLP0"
      },
      "source": [
        "### GET Debt Ratio data"
      ]
    },
    {
      "cell_type": "code",
      "metadata": {
        "id": "Bb-LJMapqPdT"
      },
      "source": [
        "# 부채비율 크롤링\n",
        "ratio_url = RATIO_URL.format(sample_code)\n",
        "ratio_content = requests.get(ratio_url).content\n",
        "ratio_tree = html.fromstring(ratio_content)"
      ],
      "execution_count": null,
      "outputs": []
    },
    {
      "cell_type": "code",
      "metadata": {
        "id": "uEY9AXYRqWYM"
      },
      "source": [
        "dept_ratio = ratio_tree.xpath('//*[@id=\"p_grid1_3\"]/td[5]')[0].text"
      ],
      "execution_count": null,
      "outputs": []
    },
    {
      "cell_type": "code",
      "metadata": {
        "colab": {
          "base_uri": "https://localhost:8080/"
        },
        "id": "K-cgAjXUrdx1",
        "outputId": "351d87d9-a777-4b12-983b-5cddbcfdbaf8"
      },
      "source": [
        "dept_ratio = float(dept_ratio)\n",
        "dept_ratio"
      ],
      "execution_count": null,
      "outputs": [
        {
          "output_type": "execute_result",
          "data": {
            "text/plain": [
              "43.2"
            ]
          },
          "metadata": {
            "tags": []
          },
          "execution_count": 19
        }
      ]
    },
    {
      "cell_type": "code",
      "metadata": {
        "colab": {
          "base_uri": "https://localhost:8080/"
        },
        "id": "lRNhJ1R8rfvt",
        "outputId": "d61298ee-cfae-40a1-80f5-f1261e649d97"
      },
      "source": [
        "dept_ratio<50"
      ],
      "execution_count": null,
      "outputs": [
        {
          "output_type": "execute_result",
          "data": {
            "text/plain": [
              "True"
            ]
          },
          "metadata": {
            "tags": []
          },
          "execution_count": 20
        }
      ]
    },
    {
      "cell_type": "markdown",
      "metadata": {
        "id": "zn0D1hTCteDH"
      },
      "source": [
        "### GET All stock code"
      ]
    },
    {
      "cell_type": "code",
      "metadata": {
        "colab": {
          "base_uri": "https://localhost:8080/",
          "height": 559
        },
        "id": "DuMqWLF2tjSp",
        "outputId": "513f2bac-01c8-4854-a496-f0db79f7f853"
      },
      "source": [
        "print(company.shape)\n",
        "company.head(10)"
      ],
      "execution_count": null,
      "outputs": [
        {
          "output_type": "stream",
          "text": [
            "(2022, 11)\n"
          ],
          "name": "stdout"
        },
        {
          "output_type": "execute_result",
          "data": {
            "text/html": [
              "<div>\n",
              "<style scoped>\n",
              "    .dataframe tbody tr th:only-of-type {\n",
              "        vertical-align: middle;\n",
              "    }\n",
              "\n",
              "    .dataframe tbody tr th {\n",
              "        vertical-align: top;\n",
              "    }\n",
              "\n",
              "    .dataframe thead th {\n",
              "        text-align: right;\n",
              "    }\n",
              "</style>\n",
              "<table border=\"1\" class=\"dataframe\">\n",
              "  <thead>\n",
              "    <tr style=\"text-align: right;\">\n",
              "      <th></th>\n",
              "      <th>분류</th>\n",
              "      <th>회사명</th>\n",
              "      <th>종목코드</th>\n",
              "      <th>업종</th>\n",
              "      <th>주요제품</th>\n",
              "      <th>상장일</th>\n",
              "      <th>결산월</th>\n",
              "      <th>대표자명</th>\n",
              "      <th>홈페이지</th>\n",
              "      <th>지역</th>\n",
              "      <th>구글코드</th>\n",
              "    </tr>\n",
              "  </thead>\n",
              "  <tbody>\n",
              "    <tr>\n",
              "      <th>0</th>\n",
              "      <td>코스피</td>\n",
              "      <td>두산우</td>\n",
              "      <td>000155</td>\n",
              "      <td>회사 본부 및 경영 컨설팅 서비스업</td>\n",
              "      <td>청주,소주,인쇄회로기판(인쇄회로용동박적층판),관련전자부품,기계 제조,판매/출판사업,...</td>\n",
              "      <td>1973-06-29</td>\n",
              "      <td>12월</td>\n",
              "      <td>박정원, 이재경</td>\n",
              "      <td>http://www.doosancorp.co.kr</td>\n",
              "      <td>서울특별시</td>\n",
              "      <td>KRX:000155</td>\n",
              "    </tr>\n",
              "    <tr>\n",
              "      <th>1</th>\n",
              "      <td>코스피</td>\n",
              "      <td>한화3우B</td>\n",
              "      <td>00088K</td>\n",
              "      <td>기타 화학제품 제조업</td>\n",
              "      <td>화약,화공품,자동선반류,공작기계 제조,전자교환기,건설,정보통신,종합무역/임직원 및 ...</td>\n",
              "      <td>1976-06-24</td>\n",
              "      <td>12월</td>\n",
              "      <td>최양수, 이태종, 김연철, 이민석</td>\n",
              "      <td>http://www.hanwhacorp.co.kr</td>\n",
              "      <td>서울특별시</td>\n",
              "      <td>KRX:00088K</td>\n",
              "    </tr>\n",
              "    <tr>\n",
              "      <th>2</th>\n",
              "      <td>코스피</td>\n",
              "      <td>S-Oil우</td>\n",
              "      <td>010955</td>\n",
              "      <td>석유 정제품 제조업</td>\n",
              "      <td>석유제품,가스,윤활기유,윤활유,그리스,석유화학제품 제조,도매</td>\n",
              "      <td>1987-05-27</td>\n",
              "      <td>12월</td>\n",
              "      <td>Othman Al-Ghamdi</td>\n",
              "      <td>http://www.s-oil.com</td>\n",
              "      <td>서울특별시</td>\n",
              "      <td>KRX:010955</td>\n",
              "    </tr>\n",
              "    <tr>\n",
              "      <th>3</th>\n",
              "      <td>코스피</td>\n",
              "      <td>LG화학우</td>\n",
              "      <td>051915</td>\n",
              "      <td>기초 화학물질 제조업</td>\n",
              "      <td>유화/기능/합성수지,재생섬유소,산업재,리튬이온전지,평광판,PVC 제조,도매</td>\n",
              "      <td>2001-04-25</td>\n",
              "      <td>12월</td>\n",
              "      <td>박진수</td>\n",
              "      <td>http://www.lgchem.com</td>\n",
              "      <td>서울특별시</td>\n",
              "      <td>KRX:051915</td>\n",
              "    </tr>\n",
              "    <tr>\n",
              "      <th>4</th>\n",
              "      <td>코스피</td>\n",
              "      <td>한국금융지주우</td>\n",
              "      <td>071055</td>\n",
              "      <td>기타 금융업</td>\n",
              "      <td>금융지주회사</td>\n",
              "      <td>2003-07-21</td>\n",
              "      <td>12월</td>\n",
              "      <td>김남구</td>\n",
              "      <td>http://www.koreaholdings.com</td>\n",
              "      <td>서울특별시</td>\n",
              "      <td>KRX:071055</td>\n",
              "    </tr>\n",
              "    <tr>\n",
              "      <th>5</th>\n",
              "      <td>코스피</td>\n",
              "      <td>GS우</td>\n",
              "      <td>078935</td>\n",
              "      <td>기타 금융업</td>\n",
              "      <td>지주회사/부동산 임대</td>\n",
              "      <td>2004-08-05</td>\n",
              "      <td>12월</td>\n",
              "      <td>허창수, 정택근 (각자 대표이사)</td>\n",
              "      <td>NaN</td>\n",
              "      <td>서울특별시</td>\n",
              "      <td>KRX:078935</td>\n",
              "    </tr>\n",
              "    <tr>\n",
              "      <th>6</th>\n",
              "      <td>코스피</td>\n",
              "      <td>SK이노베이션우</td>\n",
              "      <td>096775</td>\n",
              "      <td>기타 금융업</td>\n",
              "      <td>석유정제,석유화학제품,윤활유제품,아스팔트제품,의약중간체 제조,판매,유전개발,대체에너지사업</td>\n",
              "      <td>2007-07-25</td>\n",
              "      <td>12월</td>\n",
              "      <td>김준</td>\n",
              "      <td>http://www.SKinnovation.com</td>\n",
              "      <td>서울특별시</td>\n",
              "      <td>KRX:096775</td>\n",
              "    </tr>\n",
              "    <tr>\n",
              "      <th>7</th>\n",
              "      <td>코스피</td>\n",
              "      <td>코오롱인더우</td>\n",
              "      <td>120115</td>\n",
              "      <td>화학섬유 제조업</td>\n",
              "      <td>산업자재, 화학, 필름</td>\n",
              "      <td>2010-02-01</td>\n",
              "      <td>12월</td>\n",
              "      <td>이웅열, 박동문, 안태환</td>\n",
              "      <td>NaN</td>\n",
              "      <td>경기도</td>\n",
              "      <td>KRX:120115</td>\n",
              "    </tr>\n",
              "    <tr>\n",
              "      <th>8</th>\n",
              "      <td>코스피</td>\n",
              "      <td>삼성화재우</td>\n",
              "      <td>000815</td>\n",
              "      <td>보험업</td>\n",
              "      <td>손해보험의 원수,재보험,운용자산의 투자활동</td>\n",
              "      <td>1975-06-30</td>\n",
              "      <td>12월</td>\n",
              "      <td>안민수</td>\n",
              "      <td>http://www.samsungfire.com</td>\n",
              "      <td>서울특별시</td>\n",
              "      <td>KRX:000815</td>\n",
              "    </tr>\n",
              "    <tr>\n",
              "      <th>9</th>\n",
              "      <td>코스피</td>\n",
              "      <td>현대차2우B</td>\n",
              "      <td>005387</td>\n",
              "      <td>자동차용 엔진 및 자동차 제조업</td>\n",
              "      <td>자동차(승용차,버스,트럭,특장차),자동차부품,자동차전착도료 제조,차량정비사업</td>\n",
              "      <td>1974-06-28</td>\n",
              "      <td>12월</td>\n",
              "      <td>정몽구, 윤갑한, 이원희(각자 대표이사)</td>\n",
              "      <td>http://www.hyundai.com</td>\n",
              "      <td>서울특별시</td>\n",
              "      <td>KRX:005387</td>\n",
              "    </tr>\n",
              "  </tbody>\n",
              "</table>\n",
              "</div>"
            ],
            "text/plain": [
              "    분류       회사명    종목코드  ...                          홈페이지     지역        구글코드\n",
              "0  코스피       두산우  000155  ...   http://www.doosancorp.co.kr  서울특별시  KRX:000155\n",
              "1  코스피     한화3우B  00088K  ...   http://www.hanwhacorp.co.kr  서울특별시  KRX:00088K\n",
              "2  코스피    S-Oil우  010955  ...          http://www.s-oil.com  서울특별시  KRX:010955\n",
              "3  코스피     LG화학우  051915  ...         http://www.lgchem.com  서울특별시  KRX:051915\n",
              "4  코스피   한국금융지주우  071055  ...  http://www.koreaholdings.com  서울특별시  KRX:071055\n",
              "5  코스피       GS우  078935  ...                           NaN  서울특별시  KRX:078935\n",
              "6  코스피  SK이노베이션우  096775  ...   http://www.SKinnovation.com  서울특별시  KRX:096775\n",
              "7  코스피    코오롱인더우  120115  ...                           NaN    경기도  KRX:120115\n",
              "8  코스피     삼성화재우  000815  ...    http://www.samsungfire.com  서울특별시  KRX:000815\n",
              "9  코스피    현대차2우B  005387  ...        http://www.hyundai.com  서울특별시  KRX:005387\n",
              "\n",
              "[10 rows x 11 columns]"
            ]
          },
          "metadata": {
            "tags": []
          },
          "execution_count": 21
        }
      ]
    },
    {
      "cell_type": "code",
      "metadata": {
        "id": "0Tg8bvZNtuQA"
      },
      "source": [
        "code_list = company['종목코드']"
      ],
      "execution_count": null,
      "outputs": []
    },
    {
      "cell_type": "code",
      "metadata": {
        "colab": {
          "base_uri": "https://localhost:8080/"
        },
        "id": "G0FZEPQ7uaVD",
        "outputId": "6578371c-db06-42bb-d68d-9049596af915"
      },
      "source": [
        "sample_code_list = code_list[1000:1050]\n",
        "sample_code_list"
      ],
      "execution_count": null,
      "outputs": [
        {
          "output_type": "execute_result",
          "data": {
            "text/plain": [
              "1000    207930\n",
              "1001    214270\n",
              "1002    189690\n",
              "1003    213420\n",
              "1004    206660\n",
              "1005    060480\n",
              "1006    206640\n",
              "1007    208640\n",
              "1008    193250\n",
              "1009    204630\n",
              "1010    200470\n",
              "1011    200670\n",
              "1012    208710\n",
              "1013    189860\n",
              "1014    067390\n",
              "1015    080580\n",
              "1016    208350\n",
              "1017    160550\n",
              "1018    124500\n",
              "1019    142280\n",
              "1020    187220\n",
              "1021    208370\n",
              "1022    207720\n",
              "1023    208140\n",
              "1024    149980\n",
              "1025    084650\n",
              "1026    200710\n",
              "1027    200780\n",
              "1028    207760\n",
              "1029    196170\n",
              "1030    206400\n",
              "1031    178920\n",
              "1032    140520\n",
              "1033    173940\n",
              "1034    205470\n",
              "1035    200230\n",
              "1036    194510\n",
              "1037    204840\n",
              "1038    196490\n",
              "1039    204620\n",
              "1040    205500\n",
              "1041    205100\n",
              "1042    191420\n",
              "1043    192440\n",
              "1044    182690\n",
              "1045    143540\n",
              "1046    203650\n",
              "1047    041920\n",
              "1048    194480\n",
              "1049    203690\n",
              "Name: 종목코드, dtype: object"
            ]
          },
          "metadata": {
            "tags": []
          },
          "execution_count": 23
        }
      ]
    },
    {
      "cell_type": "code",
      "metadata": {
        "id": "Vvj1Td35vAGT"
      },
      "source": [
        "def crawler(li):\n",
        "  SNAP_URL = 'https://comp.fnguide.com/SVO2/ASP/SVD_Main.asp?pGB=1&gicode=A{}&cID=&MenuYn=Y&ReportGB=&NewMenuID=101&stkGb=701'\n",
        "  RATIO_URL = 'https://comp.fnguide.com/SVO2/ASP/SVD_FinanceRatio.asp?pGB=1&gicode=A{}&cID=&MenuYn=Y&ReportGB=&NewMenuID=104&stkGb=701'\n",
        "\n",
        "  result = {}\n",
        "  for code in tqdm(li):\n",
        "    try:\n",
        "      #get pbr\n",
        "      snap_url = SNAP_URL.format(code)\n",
        "      snap_content = requests.get(snap_url).content\n",
        "      snap_tree = html.fromstring(snap_content)\n",
        "\n",
        "      pbr = snap_tree.xpath('//*[@id=\"corp_group2\"]/dl[4]/dd')[0].text\n",
        "      pbr = float(pbr)\n",
        "\n",
        "      #get debt ratio, roa\n",
        "      ratio_url = RATIO_URL.format(code)\n",
        "      ratio_content = requests.get(ratio_url).content\n",
        "      ratio_tree = html.fromstring(ratio_content)\n",
        "\n",
        "      dept_ratio = ratio_tree.xpath('//*[@id=\"p_grid1_3\"]/td[5]')[0].text\n",
        "      dept_ratio = float(dept_ratio)\n",
        "\n",
        "      roa = ratio_tree.xpath('//*[@id=\"p_grid1_17\"]/td[5]')[0].text\n",
        "      roa = float(roa)\n",
        "\n",
        "      #company name\n",
        "      name = company[company['종목코드'] == code]['회사명'].values[0]\n",
        "      result[name]=[code, roa, dept_ratio, pbr]\n",
        "\n",
        "    except(TypeError, AttributeError, IndexError, ValueError) as err: #alias\n",
        "      pass\n",
        "\n",
        "  result_df = pd.DataFrame(result)\n",
        "  result_df = result_df.transpose()\n",
        "  result_df.columns=['Code','ROA','Debt_Ratio', 'PBR']\n",
        "  return result_df"
      ],
      "execution_count": null,
      "outputs": []
    },
    {
      "cell_type": "code",
      "metadata": {
        "colab": {
          "base_uri": "https://localhost:8080/",
          "height": 898
        },
        "id": "N3Z1VWBtYWdR",
        "outputId": "09ebfb5b-8991-4e6a-9200-966402fe1619"
      },
      "source": [
        "result_df = crawler(sample_code_list)\n",
        "result_df"
      ],
      "execution_count": null,
      "outputs": [
        {
          "output_type": "stream",
          "text": [
            "100%|██████████| 50/50 [01:21<00:00,  1.64s/it]\n"
          ],
          "name": "stderr"
        },
        {
          "output_type": "execute_result",
          "data": {
            "text/html": [
              "<div>\n",
              "<style scoped>\n",
              "    .dataframe tbody tr th:only-of-type {\n",
              "        vertical-align: middle;\n",
              "    }\n",
              "\n",
              "    .dataframe tbody tr th {\n",
              "        vertical-align: top;\n",
              "    }\n",
              "\n",
              "    .dataframe thead th {\n",
              "        text-align: right;\n",
              "    }\n",
              "</style>\n",
              "<table border=\"1\" class=\"dataframe\">\n",
              "  <thead>\n",
              "    <tr style=\"text-align: right;\">\n",
              "      <th></th>\n",
              "      <th>Code</th>\n",
              "      <th>ROA</th>\n",
              "      <th>Debt_Ratio</th>\n",
              "      <th>PBR</th>\n",
              "    </tr>\n",
              "  </thead>\n",
              "  <tbody>\n",
              "    <tr>\n",
              "      <th>포시에스</th>\n",
              "      <td>189690</td>\n",
              "      <td>5.7</td>\n",
              "      <td>3.1</td>\n",
              "      <td>1.39</td>\n",
              "    </tr>\n",
              "    <tr>\n",
              "      <th>덕산네오룩스</th>\n",
              "      <td>213420</td>\n",
              "      <td>21.6</td>\n",
              "      <td>13.8</td>\n",
              "      <td>7.11</td>\n",
              "    </tr>\n",
              "    <tr>\n",
              "      <th>국일신동</th>\n",
              "      <td>060480</td>\n",
              "      <td>3.3</td>\n",
              "      <td>11</td>\n",
              "      <td>1.25</td>\n",
              "    </tr>\n",
              "    <tr>\n",
              "      <th>바디텍메드</th>\n",
              "      <td>206640</td>\n",
              "      <td>29.5</td>\n",
              "      <td>26.5</td>\n",
              "      <td>4.26</td>\n",
              "    </tr>\n",
              "    <tr>\n",
              "      <th>썸에이지</th>\n",
              "      <td>208640</td>\n",
              "      <td>127</td>\n",
              "      <td>6.7</td>\n",
              "      <td>17.13</td>\n",
              "    </tr>\n",
              "    <tr>\n",
              "      <th>휴메딕스</th>\n",
              "      <td>200670</td>\n",
              "      <td>8.9</td>\n",
              "      <td>33.5</td>\n",
              "      <td>2.56</td>\n",
              "    </tr>\n",
              "    <tr>\n",
              "      <th>오킨스전자</th>\n",
              "      <td>080580</td>\n",
              "      <td>0.9</td>\n",
              "      <td>96.5</td>\n",
              "      <td>11.57</td>\n",
              "    </tr>\n",
              "    <tr>\n",
              "      <th>NEW</th>\n",
              "      <td>160550</td>\n",
              "      <td>0.8</td>\n",
              "      <td>149.5</td>\n",
              "      <td>2.63</td>\n",
              "    </tr>\n",
              "    <tr>\n",
              "      <th>녹십자엠에스</th>\n",
              "      <td>142280</td>\n",
              "      <td>5.4</td>\n",
              "      <td>111.5</td>\n",
              "      <td>4.13</td>\n",
              "    </tr>\n",
              "    <tr>\n",
              "      <th>정다운</th>\n",
              "      <td>208140</td>\n",
              "      <td>6.1</td>\n",
              "      <td>113.9</td>\n",
              "      <td>1.92</td>\n",
              "    </tr>\n",
              "    <tr>\n",
              "      <th>하이로닉</th>\n",
              "      <td>149980</td>\n",
              "      <td>2.8</td>\n",
              "      <td>9.2</td>\n",
              "      <td>1.66</td>\n",
              "    </tr>\n",
              "    <tr>\n",
              "      <th>랩지노믹스</th>\n",
              "      <td>084650</td>\n",
              "      <td>44.9</td>\n",
              "      <td>36.5</td>\n",
              "      <td>3.49</td>\n",
              "    </tr>\n",
              "    <tr>\n",
              "      <th>에이디테크놀로지</th>\n",
              "      <td>200710</td>\n",
              "      <td>9.2</td>\n",
              "      <td>52.3</td>\n",
              "      <td>2.09</td>\n",
              "    </tr>\n",
              "    <tr>\n",
              "      <th>비씨월드제약</th>\n",
              "      <td>200780</td>\n",
              "      <td>1.5</td>\n",
              "      <td>90.6</td>\n",
              "      <td>1.59</td>\n",
              "    </tr>\n",
              "    <tr>\n",
              "      <th>미스터블루</th>\n",
              "      <td>207760</td>\n",
              "      <td>19.3</td>\n",
              "      <td>33.5</td>\n",
              "      <td>5.07</td>\n",
              "    </tr>\n",
              "    <tr>\n",
              "      <th>알테오젠</th>\n",
              "      <td>196170</td>\n",
              "      <td>0.7</td>\n",
              "      <td>9.1</td>\n",
              "      <td>31.15</td>\n",
              "    </tr>\n",
              "    <tr>\n",
              "      <th>엔터메이트</th>\n",
              "      <td>206400</td>\n",
              "      <td>22.2</td>\n",
              "      <td>31.7</td>\n",
              "      <td>2.97</td>\n",
              "    </tr>\n",
              "    <tr>\n",
              "      <th>SKC코오롱PI</th>\n",
              "      <td>178920</td>\n",
              "      <td>15.8</td>\n",
              "      <td>49.7</td>\n",
              "      <td>5.66</td>\n",
              "    </tr>\n",
              "    <tr>\n",
              "      <th>대창스틸</th>\n",
              "      <td>140520</td>\n",
              "      <td>8.9</td>\n",
              "      <td>181</td>\n",
              "      <td>0.84</td>\n",
              "    </tr>\n",
              "    <tr>\n",
              "      <th>하이제2호스팩</th>\n",
              "      <td>205470</td>\n",
              "      <td>55.1</td>\n",
              "      <td>32.4</td>\n",
              "      <td>12.64</td>\n",
              "    </tr>\n",
              "    <tr>\n",
              "      <th>텔콘</th>\n",
              "      <td>200230</td>\n",
              "      <td>5.7</td>\n",
              "      <td>100.2</td>\n",
              "      <td>4.48</td>\n",
              "    </tr>\n",
              "    <tr>\n",
              "      <th>슈피겐코리아</th>\n",
              "      <td>192440</td>\n",
              "      <td>16.4</td>\n",
              "      <td>18</td>\n",
              "      <td>1.02</td>\n",
              "    </tr>\n",
              "    <tr>\n",
              "      <th>영우디에스피</th>\n",
              "      <td>143540</td>\n",
              "      <td>29.7</td>\n",
              "      <td>64.5</td>\n",
              "      <td>2.51</td>\n",
              "    </tr>\n",
              "    <tr>\n",
              "      <th>드림시큐리티</th>\n",
              "      <td>203650</td>\n",
              "      <td>1.4</td>\n",
              "      <td>145</td>\n",
              "      <td>3.89</td>\n",
              "    </tr>\n",
              "    <tr>\n",
              "      <th>메디아나</th>\n",
              "      <td>041920</td>\n",
              "      <td>12.7</td>\n",
              "      <td>15.7</td>\n",
              "      <td>1.78</td>\n",
              "    </tr>\n",
              "    <tr>\n",
              "      <th>데브시스터즈</th>\n",
              "      <td>194480</td>\n",
              "      <td>52.1</td>\n",
              "      <td>47.5</td>\n",
              "      <td>7.18</td>\n",
              "    </tr>\n",
              "    <tr>\n",
              "      <th>프로스테믹스</th>\n",
              "      <td>203690</td>\n",
              "      <td>18.1</td>\n",
              "      <td>151.2</td>\n",
              "      <td>7.18</td>\n",
              "    </tr>\n",
              "  </tbody>\n",
              "</table>\n",
              "</div>"
            ],
            "text/plain": [
              "            Code   ROA Debt_Ratio    PBR\n",
              "포시에스      189690   5.7        3.1   1.39\n",
              "덕산네오룩스    213420  21.6       13.8   7.11\n",
              "국일신동      060480   3.3         11   1.25\n",
              "바디텍메드     206640  29.5       26.5   4.26\n",
              "썸에이지      208640   127        6.7  17.13\n",
              "휴메딕스      200670   8.9       33.5   2.56\n",
              "오킨스전자     080580   0.9       96.5  11.57\n",
              "NEW       160550   0.8      149.5   2.63\n",
              "녹십자엠에스    142280   5.4      111.5   4.13\n",
              "정다운       208140   6.1      113.9   1.92\n",
              "하이로닉      149980   2.8        9.2   1.66\n",
              "랩지노믹스     084650  44.9       36.5   3.49\n",
              "에이디테크놀로지  200710   9.2       52.3   2.09\n",
              "비씨월드제약    200780   1.5       90.6   1.59\n",
              "미스터블루     207760  19.3       33.5   5.07\n",
              "알테오젠      196170   0.7        9.1  31.15\n",
              "엔터메이트     206400  22.2       31.7   2.97\n",
              "SKC코오롱PI  178920  15.8       49.7   5.66\n",
              "대창스틸      140520   8.9        181   0.84\n",
              "하이제2호스팩   205470  55.1       32.4  12.64\n",
              "텔콘        200230   5.7      100.2   4.48\n",
              "슈피겐코리아    192440  16.4         18   1.02\n",
              "영우디에스피    143540  29.7       64.5   2.51\n",
              "드림시큐리티    203650   1.4        145   3.89\n",
              "메디아나      041920  12.7       15.7   1.78\n",
              "데브시스터즈    194480  52.1       47.5   7.18\n",
              "프로스테믹스    203690  18.1      151.2   7.18"
            ]
          },
          "metadata": {
            "tags": []
          },
          "execution_count": 25
        }
      ]
    },
    {
      "cell_type": "code",
      "metadata": {
        "colab": {
          "base_uri": "https://localhost:8080/"
        },
        "id": "JrvbEjG8YaA-",
        "outputId": "d73c854e-00a2-4d81-fe64-4352fa65b753"
      },
      "source": [
        "!pip install tqdm"
      ],
      "execution_count": null,
      "outputs": [
        {
          "output_type": "stream",
          "text": [
            "Requirement already satisfied: tqdm in /usr/local/lib/python3.7/dist-packages (4.41.1)\n"
          ],
          "name": "stdout"
        }
      ]
    },
    {
      "cell_type": "code",
      "metadata": {
        "id": "l2z5NT_mcHLM"
      },
      "source": [
        "copy_df = result_df.copy()"
      ],
      "execution_count": null,
      "outputs": []
    },
    {
      "cell_type": "markdown",
      "metadata": {
        "id": "yAQbDxo5mNX2"
      },
      "source": [
        "### Searching Stocks"
      ]
    },
    {
      "cell_type": "code",
      "metadata": {
        "id": "v1BjJex3mbg7"
      },
      "source": [
        "filtered_df = copy_df[(copy_df['ROA'] >= 5) & (copy_df['Debt_Ratio'] <= 50)& (copy_df['PBR'] > 0.2)]"
      ],
      "execution_count": null,
      "outputs": []
    },
    {
      "cell_type": "code",
      "metadata": {
        "colab": {
          "base_uri": "https://localhost:8080/",
          "height": 450
        },
        "id": "CSBhURAVmoXR",
        "outputId": "2c101a6f-c3c2-403b-a9b9-7310e5fdf63d"
      },
      "source": [
        "filtered_df.sort_values(by='PBR', ascending=True).head(30)"
      ],
      "execution_count": null,
      "outputs": [
        {
          "output_type": "execute_result",
          "data": {
            "text/html": [
              "<div>\n",
              "<style scoped>\n",
              "    .dataframe tbody tr th:only-of-type {\n",
              "        vertical-align: middle;\n",
              "    }\n",
              "\n",
              "    .dataframe tbody tr th {\n",
              "        vertical-align: top;\n",
              "    }\n",
              "\n",
              "    .dataframe thead th {\n",
              "        text-align: right;\n",
              "    }\n",
              "</style>\n",
              "<table border=\"1\" class=\"dataframe\">\n",
              "  <thead>\n",
              "    <tr style=\"text-align: right;\">\n",
              "      <th></th>\n",
              "      <th>Code</th>\n",
              "      <th>ROA</th>\n",
              "      <th>Debt_Ratio</th>\n",
              "      <th>PBR</th>\n",
              "    </tr>\n",
              "  </thead>\n",
              "  <tbody>\n",
              "    <tr>\n",
              "      <th>슈피겐코리아</th>\n",
              "      <td>192440</td>\n",
              "      <td>16.4</td>\n",
              "      <td>18</td>\n",
              "      <td>1.02</td>\n",
              "    </tr>\n",
              "    <tr>\n",
              "      <th>포시에스</th>\n",
              "      <td>189690</td>\n",
              "      <td>5.7</td>\n",
              "      <td>3.1</td>\n",
              "      <td>1.39</td>\n",
              "    </tr>\n",
              "    <tr>\n",
              "      <th>메디아나</th>\n",
              "      <td>041920</td>\n",
              "      <td>12.7</td>\n",
              "      <td>15.7</td>\n",
              "      <td>1.78</td>\n",
              "    </tr>\n",
              "    <tr>\n",
              "      <th>휴메딕스</th>\n",
              "      <td>200670</td>\n",
              "      <td>8.9</td>\n",
              "      <td>33.5</td>\n",
              "      <td>2.56</td>\n",
              "    </tr>\n",
              "    <tr>\n",
              "      <th>엔터메이트</th>\n",
              "      <td>206400</td>\n",
              "      <td>22.2</td>\n",
              "      <td>31.7</td>\n",
              "      <td>2.97</td>\n",
              "    </tr>\n",
              "    <tr>\n",
              "      <th>랩지노믹스</th>\n",
              "      <td>084650</td>\n",
              "      <td>44.9</td>\n",
              "      <td>36.5</td>\n",
              "      <td>3.49</td>\n",
              "    </tr>\n",
              "    <tr>\n",
              "      <th>바디텍메드</th>\n",
              "      <td>206640</td>\n",
              "      <td>29.5</td>\n",
              "      <td>26.5</td>\n",
              "      <td>4.26</td>\n",
              "    </tr>\n",
              "    <tr>\n",
              "      <th>미스터블루</th>\n",
              "      <td>207760</td>\n",
              "      <td>19.3</td>\n",
              "      <td>33.5</td>\n",
              "      <td>5.07</td>\n",
              "    </tr>\n",
              "    <tr>\n",
              "      <th>SKC코오롱PI</th>\n",
              "      <td>178920</td>\n",
              "      <td>15.8</td>\n",
              "      <td>49.7</td>\n",
              "      <td>5.66</td>\n",
              "    </tr>\n",
              "    <tr>\n",
              "      <th>덕산네오룩스</th>\n",
              "      <td>213420</td>\n",
              "      <td>21.6</td>\n",
              "      <td>13.8</td>\n",
              "      <td>7.11</td>\n",
              "    </tr>\n",
              "    <tr>\n",
              "      <th>데브시스터즈</th>\n",
              "      <td>194480</td>\n",
              "      <td>52.1</td>\n",
              "      <td>47.5</td>\n",
              "      <td>7.18</td>\n",
              "    </tr>\n",
              "    <tr>\n",
              "      <th>하이제2호스팩</th>\n",
              "      <td>205470</td>\n",
              "      <td>55.1</td>\n",
              "      <td>32.4</td>\n",
              "      <td>12.64</td>\n",
              "    </tr>\n",
              "    <tr>\n",
              "      <th>썸에이지</th>\n",
              "      <td>208640</td>\n",
              "      <td>127</td>\n",
              "      <td>6.7</td>\n",
              "      <td>17.13</td>\n",
              "    </tr>\n",
              "  </tbody>\n",
              "</table>\n",
              "</div>"
            ],
            "text/plain": [
              "            Code   ROA Debt_Ratio    PBR\n",
              "슈피겐코리아    192440  16.4         18   1.02\n",
              "포시에스      189690   5.7        3.1   1.39\n",
              "메디아나      041920  12.7       15.7   1.78\n",
              "휴메딕스      200670   8.9       33.5   2.56\n",
              "엔터메이트     206400  22.2       31.7   2.97\n",
              "랩지노믹스     084650  44.9       36.5   3.49\n",
              "바디텍메드     206640  29.5       26.5   4.26\n",
              "미스터블루     207760  19.3       33.5   5.07\n",
              "SKC코오롱PI  178920  15.8       49.7   5.66\n",
              "덕산네오룩스    213420  21.6       13.8   7.11\n",
              "데브시스터즈    194480  52.1       47.5   7.18\n",
              "하이제2호스팩   205470  55.1       32.4  12.64\n",
              "썸에이지      208640   127        6.7  17.13"
            ]
          },
          "metadata": {
            "tags": []
          },
          "execution_count": 28
        }
      ]
    }
  ]
}