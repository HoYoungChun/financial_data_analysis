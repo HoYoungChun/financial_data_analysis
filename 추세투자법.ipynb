{
  "nbformat": 4,
  "nbformat_minor": 0,
  "metadata": {
    "colab": {
      "name": "추세투자법.ipynb",
      "provenance": [],
      "authorship_tag": "ABX9TyPZFjbyKPhlWpk2gEh6ESpo",
      "include_colab_link": true
    },
    "kernelspec": {
      "name": "python3",
      "display_name": "Python 3"
    },
    "language_info": {
      "name": "python"
    }
  },
  "cells": [
    {
      "cell_type": "markdown",
      "metadata": {
        "id": "view-in-github",
        "colab_type": "text"
      },
      "source": [
        "<a href=\"https://colab.research.google.com/github/HoYoungChun/financial_data_analysis/blob/main/%EC%B6%94%EC%84%B8%ED%88%AC%EC%9E%90%EB%B2%95.ipynb\" target=\"_parent\"><img src=\"https://colab.research.google.com/assets/colab-badge.svg\" alt=\"Open In Colab\"/></a>"
      ]
    },
    {
      "cell_type": "markdown",
      "metadata": {
        "id": "UoZhXGa4CKiz"
      },
      "source": [
        "## Import libraries"
      ]
    },
    {
      "cell_type": "code",
      "metadata": {
        "id": "9nDSlUvQCW-p"
      },
      "source": [
        "import pandas as pd\n",
        "import requests\n",
        "import numpy as np\n",
        "from tqdm import tqdm"
      ],
      "execution_count": 3,
      "outputs": []
    },
    {
      "cell_type": "markdown",
      "metadata": {
        "id": "eTwNhiX4CabV"
      },
      "source": [
        "### Get KOSPI 200 market data(Daily)"
      ]
    },
    {
      "cell_type": "code",
      "metadata": {
        "colab": {
          "base_uri": "https://localhost:8080/",
          "height": 434
        },
        "id": "pe8CKd9eCkkb",
        "outputId": "1360cdff-2083-43f9-c249-1852789b81ca"
      },
      "source": [
        "kodex_200 = pd.DataFrame()\n",
        "\n",
        "kodex_url = 'https://finance.naver.com/item/sise_day.nhn?code=069500'\n",
        "\n",
        "for page in tqdm(range(1,100)):\n",
        "    pg_url = '{url}&page={page}'.format(url=kodex_url, page=page)\n",
        "    pg_url = requests.get(pg_url, headers={'User-agent':'Mozilla/5.0'}).text\n",
        "    kodex_200 = kodex_200.append(pd.read_html(pg_url)[0], ignore_index=True)\n",
        "    #pd.read_html(pg_url)[0]\n",
        "kodex_200"
      ],
      "execution_count": 4,
      "outputs": [
        {
          "output_type": "stream",
          "text": [
            "100%|██████████| 99/99 [01:00<00:00,  1.64it/s]\n"
          ],
          "name": "stderr"
        },
        {
          "output_type": "execute_result",
          "data": {
            "text/html": [
              "<div>\n",
              "<style scoped>\n",
              "    .dataframe tbody tr th:only-of-type {\n",
              "        vertical-align: middle;\n",
              "    }\n",
              "\n",
              "    .dataframe tbody tr th {\n",
              "        vertical-align: top;\n",
              "    }\n",
              "\n",
              "    .dataframe thead th {\n",
              "        text-align: right;\n",
              "    }\n",
              "</style>\n",
              "<table border=\"1\" class=\"dataframe\">\n",
              "  <thead>\n",
              "    <tr style=\"text-align: right;\">\n",
              "      <th></th>\n",
              "      <th>날짜</th>\n",
              "      <th>종가</th>\n",
              "      <th>전일비</th>\n",
              "      <th>시가</th>\n",
              "      <th>고가</th>\n",
              "      <th>저가</th>\n",
              "      <th>거래량</th>\n",
              "    </tr>\n",
              "  </thead>\n",
              "  <tbody>\n",
              "    <tr>\n",
              "      <th>0</th>\n",
              "      <td>NaN</td>\n",
              "      <td>NaN</td>\n",
              "      <td>NaN</td>\n",
              "      <td>NaN</td>\n",
              "      <td>NaN</td>\n",
              "      <td>NaN</td>\n",
              "      <td>NaN</td>\n",
              "    </tr>\n",
              "    <tr>\n",
              "      <th>1</th>\n",
              "      <td>2021.07.14</td>\n",
              "      <td>43405.0</td>\n",
              "      <td>145.0</td>\n",
              "      <td>43400.0</td>\n",
              "      <td>43465.0</td>\n",
              "      <td>43225.0</td>\n",
              "      <td>1249603.0</td>\n",
              "    </tr>\n",
              "    <tr>\n",
              "      <th>2</th>\n",
              "      <td>2021.07.13</td>\n",
              "      <td>43550.0</td>\n",
              "      <td>365.0</td>\n",
              "      <td>43380.0</td>\n",
              "      <td>43565.0</td>\n",
              "      <td>43380.0</td>\n",
              "      <td>3654600.0</td>\n",
              "    </tr>\n",
              "    <tr>\n",
              "      <th>3</th>\n",
              "      <td>2021.07.12</td>\n",
              "      <td>43185.0</td>\n",
              "      <td>385.0</td>\n",
              "      <td>43060.0</td>\n",
              "      <td>43260.0</td>\n",
              "      <td>43060.0</td>\n",
              "      <td>3929269.0</td>\n",
              "    </tr>\n",
              "    <tr>\n",
              "      <th>4</th>\n",
              "      <td>2021.07.09</td>\n",
              "      <td>42800.0</td>\n",
              "      <td>460.0</td>\n",
              "      <td>42840.0</td>\n",
              "      <td>43050.0</td>\n",
              "      <td>42445.0</td>\n",
              "      <td>8288519.0</td>\n",
              "    </tr>\n",
              "    <tr>\n",
              "      <th>...</th>\n",
              "      <td>...</td>\n",
              "      <td>...</td>\n",
              "      <td>...</td>\n",
              "      <td>...</td>\n",
              "      <td>...</td>\n",
              "      <td>...</td>\n",
              "      <td>...</td>\n",
              "    </tr>\n",
              "    <tr>\n",
              "      <th>1480</th>\n",
              "      <td>2017.07.10</td>\n",
              "      <td>31305.0</td>\n",
              "      <td>105.0</td>\n",
              "      <td>31300.0</td>\n",
              "      <td>31390.0</td>\n",
              "      <td>31220.0</td>\n",
              "      <td>4338365.0</td>\n",
              "    </tr>\n",
              "    <tr>\n",
              "      <th>1481</th>\n",
              "      <td>2017.07.07</td>\n",
              "      <td>31200.0</td>\n",
              "      <td>125.0</td>\n",
              "      <td>31200.0</td>\n",
              "      <td>31285.0</td>\n",
              "      <td>31115.0</td>\n",
              "      <td>5436532.0</td>\n",
              "    </tr>\n",
              "    <tr>\n",
              "      <th>1482</th>\n",
              "      <td>2017.07.06</td>\n",
              "      <td>31325.0</td>\n",
              "      <td>5.0</td>\n",
              "      <td>31395.0</td>\n",
              "      <td>31395.0</td>\n",
              "      <td>31240.0</td>\n",
              "      <td>6394300.0</td>\n",
              "    </tr>\n",
              "    <tr>\n",
              "      <th>1483</th>\n",
              "      <td>2017.07.05</td>\n",
              "      <td>31320.0</td>\n",
              "      <td>120.0</td>\n",
              "      <td>31125.0</td>\n",
              "      <td>31355.0</td>\n",
              "      <td>31115.0</td>\n",
              "      <td>5744072.0</td>\n",
              "    </tr>\n",
              "    <tr>\n",
              "      <th>1484</th>\n",
              "      <td>NaN</td>\n",
              "      <td>NaN</td>\n",
              "      <td>NaN</td>\n",
              "      <td>NaN</td>\n",
              "      <td>NaN</td>\n",
              "      <td>NaN</td>\n",
              "      <td>NaN</td>\n",
              "    </tr>\n",
              "  </tbody>\n",
              "</table>\n",
              "<p>1485 rows × 7 columns</p>\n",
              "</div>"
            ],
            "text/plain": [
              "              날짜       종가    전일비       시가       고가       저가        거래량\n",
              "0            NaN      NaN    NaN      NaN      NaN      NaN        NaN\n",
              "1     2021.07.14  43405.0  145.0  43400.0  43465.0  43225.0  1249603.0\n",
              "2     2021.07.13  43550.0  365.0  43380.0  43565.0  43380.0  3654600.0\n",
              "3     2021.07.12  43185.0  385.0  43060.0  43260.0  43060.0  3929269.0\n",
              "4     2021.07.09  42800.0  460.0  42840.0  43050.0  42445.0  8288519.0\n",
              "...          ...      ...    ...      ...      ...      ...        ...\n",
              "1480  2017.07.10  31305.0  105.0  31300.0  31390.0  31220.0  4338365.0\n",
              "1481  2017.07.07  31200.0  125.0  31200.0  31285.0  31115.0  5436532.0\n",
              "1482  2017.07.06  31325.0    5.0  31395.0  31395.0  31240.0  6394300.0\n",
              "1483  2017.07.05  31320.0  120.0  31125.0  31355.0  31115.0  5744072.0\n",
              "1484         NaN      NaN    NaN      NaN      NaN      NaN        NaN\n",
              "\n",
              "[1485 rows x 7 columns]"
            ]
          },
          "metadata": {
            "tags": []
          },
          "execution_count": 4
        }
      ]
    },
    {
      "cell_type": "code",
      "metadata": {
        "colab": {
          "base_uri": "https://localhost:8080/",
          "height": 364
        },
        "id": "EZcOf6zDD8SB",
        "outputId": "8ad3e63d-c43f-4867-8014-caf50c70ddc5"
      },
      "source": [
        "kodex_200 = kodex_200.dropna()\n",
        "kodex_200.columns = ['date','close','over_the_day','open','high','low','volume']\n",
        "kodex_200.date = pd.to_datetime(kodex_200.date)\n",
        "\n",
        "print('출처: ', kodex_url)\n",
        "print(kodex_200.shape)\n",
        "kodex_200.head()"
      ],
      "execution_count": 5,
      "outputs": [
        {
          "output_type": "stream",
          "text": [
            "출처:  https://finance.naver.com/item/sise_day.nhn?code=069500\n",
            "(990, 7)\n"
          ],
          "name": "stdout"
        },
        {
          "output_type": "stream",
          "text": [
            "/usr/local/lib/python3.7/dist-packages/pandas/core/generic.py:5170: SettingWithCopyWarning: \n",
            "A value is trying to be set on a copy of a slice from a DataFrame.\n",
            "Try using .loc[row_indexer,col_indexer] = value instead\n",
            "\n",
            "See the caveats in the documentation: https://pandas.pydata.org/pandas-docs/stable/user_guide/indexing.html#returning-a-view-versus-a-copy\n",
            "  self[name] = value\n"
          ],
          "name": "stderr"
        },
        {
          "output_type": "execute_result",
          "data": {
            "text/html": [
              "<div>\n",
              "<style scoped>\n",
              "    .dataframe tbody tr th:only-of-type {\n",
              "        vertical-align: middle;\n",
              "    }\n",
              "\n",
              "    .dataframe tbody tr th {\n",
              "        vertical-align: top;\n",
              "    }\n",
              "\n",
              "    .dataframe thead th {\n",
              "        text-align: right;\n",
              "    }\n",
              "</style>\n",
              "<table border=\"1\" class=\"dataframe\">\n",
              "  <thead>\n",
              "    <tr style=\"text-align: right;\">\n",
              "      <th></th>\n",
              "      <th>date</th>\n",
              "      <th>close</th>\n",
              "      <th>over_the_day</th>\n",
              "      <th>open</th>\n",
              "      <th>high</th>\n",
              "      <th>low</th>\n",
              "      <th>volume</th>\n",
              "    </tr>\n",
              "  </thead>\n",
              "  <tbody>\n",
              "    <tr>\n",
              "      <th>1</th>\n",
              "      <td>2021-07-14</td>\n",
              "      <td>43405.0</td>\n",
              "      <td>145.0</td>\n",
              "      <td>43400.0</td>\n",
              "      <td>43465.0</td>\n",
              "      <td>43225.0</td>\n",
              "      <td>1249603.0</td>\n",
              "    </tr>\n",
              "    <tr>\n",
              "      <th>2</th>\n",
              "      <td>2021-07-13</td>\n",
              "      <td>43550.0</td>\n",
              "      <td>365.0</td>\n",
              "      <td>43380.0</td>\n",
              "      <td>43565.0</td>\n",
              "      <td>43380.0</td>\n",
              "      <td>3654600.0</td>\n",
              "    </tr>\n",
              "    <tr>\n",
              "      <th>3</th>\n",
              "      <td>2021-07-12</td>\n",
              "      <td>43185.0</td>\n",
              "      <td>385.0</td>\n",
              "      <td>43060.0</td>\n",
              "      <td>43260.0</td>\n",
              "      <td>43060.0</td>\n",
              "      <td>3929269.0</td>\n",
              "    </tr>\n",
              "    <tr>\n",
              "      <th>4</th>\n",
              "      <td>2021-07-09</td>\n",
              "      <td>42800.0</td>\n",
              "      <td>460.0</td>\n",
              "      <td>42840.0</td>\n",
              "      <td>43050.0</td>\n",
              "      <td>42445.0</td>\n",
              "      <td>8288519.0</td>\n",
              "    </tr>\n",
              "    <tr>\n",
              "      <th>5</th>\n",
              "      <td>2021-07-08</td>\n",
              "      <td>43260.0</td>\n",
              "      <td>455.0</td>\n",
              "      <td>43765.0</td>\n",
              "      <td>43875.0</td>\n",
              "      <td>43260.0</td>\n",
              "      <td>5209381.0</td>\n",
              "    </tr>\n",
              "  </tbody>\n",
              "</table>\n",
              "</div>"
            ],
            "text/plain": [
              "        date    close  over_the_day     open     high      low     volume\n",
              "1 2021-07-14  43405.0         145.0  43400.0  43465.0  43225.0  1249603.0\n",
              "2 2021-07-13  43550.0         365.0  43380.0  43565.0  43380.0  3654600.0\n",
              "3 2021-07-12  43185.0         385.0  43060.0  43260.0  43060.0  3929269.0\n",
              "4 2021-07-09  42800.0         460.0  42840.0  43050.0  42445.0  8288519.0\n",
              "5 2021-07-08  43260.0         455.0  43765.0  43875.0  43260.0  5209381.0"
            ]
          },
          "metadata": {
            "tags": []
          },
          "execution_count": 5
        }
      ]
    },
    {
      "cell_type": "code",
      "metadata": {
        "id": "vW99QF2CEd-d"
      },
      "source": [
        "movg_90 = kodex_200.close.rolling(window=90).mean()\n",
        "movg_90.head(90)"
      ],
      "execution_count": null,
      "outputs": []
    },
    {
      "cell_type": "code",
      "metadata": {
        "colab": {
          "base_uri": "https://localhost:8080/",
          "height": 710
        },
        "id": "2jNjvD_-FOzP",
        "outputId": "3363cb74-98cb-4e7e-eaff-15e903df7e10"
      },
      "source": [
        "kodex_200['MAVG_90'] = movg_90\n",
        "kodex_200 = kodex_200.dropna()\n",
        "kodex_200"
      ],
      "execution_count": 13,
      "outputs": [
        {
          "output_type": "stream",
          "text": [
            "/usr/local/lib/python3.7/dist-packages/ipykernel_launcher.py:1: SettingWithCopyWarning: \n",
            "A value is trying to be set on a copy of a slice from a DataFrame.\n",
            "Try using .loc[row_indexer,col_indexer] = value instead\n",
            "\n",
            "See the caveats in the documentation: https://pandas.pydata.org/pandas-docs/stable/user_guide/indexing.html#returning-a-view-versus-a-copy\n",
            "  \"\"\"Entry point for launching an IPython kernel.\n"
          ],
          "name": "stderr"
        },
        {
          "output_type": "execute_result",
          "data": {
            "text/html": [
              "<div>\n",
              "<style scoped>\n",
              "    .dataframe tbody tr th:only-of-type {\n",
              "        vertical-align: middle;\n",
              "    }\n",
              "\n",
              "    .dataframe tbody tr th {\n",
              "        vertical-align: top;\n",
              "    }\n",
              "\n",
              "    .dataframe thead th {\n",
              "        text-align: right;\n",
              "    }\n",
              "</style>\n",
              "<table border=\"1\" class=\"dataframe\">\n",
              "  <thead>\n",
              "    <tr style=\"text-align: right;\">\n",
              "      <th></th>\n",
              "      <th>date</th>\n",
              "      <th>close</th>\n",
              "      <th>over_the_day</th>\n",
              "      <th>open</th>\n",
              "      <th>high</th>\n",
              "      <th>low</th>\n",
              "      <th>volume</th>\n",
              "      <th>MAVG_90</th>\n",
              "    </tr>\n",
              "  </thead>\n",
              "  <tbody>\n",
              "    <tr>\n",
              "      <th>133</th>\n",
              "      <td>2021-03-09</td>\n",
              "      <td>41215.0</td>\n",
              "      <td>260.0</td>\n",
              "      <td>41485.0</td>\n",
              "      <td>41540.0</td>\n",
              "      <td>40565.0</td>\n",
              "      <td>11896444.0</td>\n",
              "      <td>42887.777778</td>\n",
              "    </tr>\n",
              "    <tr>\n",
              "      <th>136</th>\n",
              "      <td>2021-03-08</td>\n",
              "      <td>41475.0</td>\n",
              "      <td>395.0</td>\n",
              "      <td>42250.0</td>\n",
              "      <td>42250.0</td>\n",
              "      <td>41390.0</td>\n",
              "      <td>8296841.0</td>\n",
              "      <td>42866.333333</td>\n",
              "    </tr>\n",
              "    <tr>\n",
              "      <th>137</th>\n",
              "      <td>2021-03-05</td>\n",
              "      <td>41870.0</td>\n",
              "      <td>225.0</td>\n",
              "      <td>41470.0</td>\n",
              "      <td>42005.0</td>\n",
              "      <td>41235.0</td>\n",
              "      <td>10363864.0</td>\n",
              "      <td>42847.666667</td>\n",
              "    </tr>\n",
              "    <tr>\n",
              "      <th>138</th>\n",
              "      <td>2021-03-04</td>\n",
              "      <td>42095.0</td>\n",
              "      <td>545.0</td>\n",
              "      <td>42095.0</td>\n",
              "      <td>42435.0</td>\n",
              "      <td>41790.0</td>\n",
              "      <td>6777655.0</td>\n",
              "      <td>42835.555556</td>\n",
              "    </tr>\n",
              "    <tr>\n",
              "      <th>139</th>\n",
              "      <td>2021-03-03</td>\n",
              "      <td>42640.0</td>\n",
              "      <td>470.0</td>\n",
              "      <td>42070.0</td>\n",
              "      <td>42650.0</td>\n",
              "      <td>41925.0</td>\n",
              "      <td>6142052.0</td>\n",
              "      <td>42833.777778</td>\n",
              "    </tr>\n",
              "    <tr>\n",
              "      <th>...</th>\n",
              "      <td>...</td>\n",
              "      <td>...</td>\n",
              "      <td>...</td>\n",
              "      <td>...</td>\n",
              "      <td>...</td>\n",
              "      <td>...</td>\n",
              "      <td>...</td>\n",
              "      <td>...</td>\n",
              "    </tr>\n",
              "    <tr>\n",
              "      <th>1479</th>\n",
              "      <td>2017-07-11</td>\n",
              "      <td>31480.0</td>\n",
              "      <td>175.0</td>\n",
              "      <td>31345.0</td>\n",
              "      <td>31500.0</td>\n",
              "      <td>31300.0</td>\n",
              "      <td>4983074.0</td>\n",
              "      <td>32014.722222</td>\n",
              "    </tr>\n",
              "    <tr>\n",
              "      <th>1480</th>\n",
              "      <td>2017-07-10</td>\n",
              "      <td>31305.0</td>\n",
              "      <td>105.0</td>\n",
              "      <td>31300.0</td>\n",
              "      <td>31390.0</td>\n",
              "      <td>31220.0</td>\n",
              "      <td>4338365.0</td>\n",
              "      <td>31989.666667</td>\n",
              "    </tr>\n",
              "    <tr>\n",
              "      <th>1481</th>\n",
              "      <td>2017-07-07</td>\n",
              "      <td>31200.0</td>\n",
              "      <td>125.0</td>\n",
              "      <td>31200.0</td>\n",
              "      <td>31285.0</td>\n",
              "      <td>31115.0</td>\n",
              "      <td>5436532.0</td>\n",
              "      <td>31965.722222</td>\n",
              "    </tr>\n",
              "    <tr>\n",
              "      <th>1482</th>\n",
              "      <td>2017-07-06</td>\n",
              "      <td>31325.0</td>\n",
              "      <td>5.0</td>\n",
              "      <td>31395.0</td>\n",
              "      <td>31395.0</td>\n",
              "      <td>31240.0</td>\n",
              "      <td>6394300.0</td>\n",
              "      <td>31944.000000</td>\n",
              "    </tr>\n",
              "    <tr>\n",
              "      <th>1483</th>\n",
              "      <td>2017-07-05</td>\n",
              "      <td>31320.0</td>\n",
              "      <td>120.0</td>\n",
              "      <td>31125.0</td>\n",
              "      <td>31355.0</td>\n",
              "      <td>31115.0</td>\n",
              "      <td>5744072.0</td>\n",
              "      <td>31920.611111</td>\n",
              "    </tr>\n",
              "  </tbody>\n",
              "</table>\n",
              "<p>901 rows × 8 columns</p>\n",
              "</div>"
            ],
            "text/plain": [
              "           date    close  over_the_day  ...      low      volume       MAVG_90\n",
              "133  2021-03-09  41215.0         260.0  ...  40565.0  11896444.0  42887.777778\n",
              "136  2021-03-08  41475.0         395.0  ...  41390.0   8296841.0  42866.333333\n",
              "137  2021-03-05  41870.0         225.0  ...  41235.0  10363864.0  42847.666667\n",
              "138  2021-03-04  42095.0         545.0  ...  41790.0   6777655.0  42835.555556\n",
              "139  2021-03-03  42640.0         470.0  ...  41925.0   6142052.0  42833.777778\n",
              "...         ...      ...           ...  ...      ...         ...           ...\n",
              "1479 2017-07-11  31480.0         175.0  ...  31300.0   4983074.0  32014.722222\n",
              "1480 2017-07-10  31305.0         105.0  ...  31220.0   4338365.0  31989.666667\n",
              "1481 2017-07-07  31200.0         125.0  ...  31115.0   5436532.0  31965.722222\n",
              "1482 2017-07-06  31325.0           5.0  ...  31240.0   6394300.0  31944.000000\n",
              "1483 2017-07-05  31320.0         120.0  ...  31115.0   5744072.0  31920.611111\n",
              "\n",
              "[901 rows x 8 columns]"
            ]
          },
          "metadata": {
            "tags": []
          },
          "execution_count": 13
        }
      ]
    },
    {
      "cell_type": "markdown",
      "metadata": {
        "id": "ynUb0u8xGe7f"
      },
      "source": [
        "## Visulization"
      ]
    },
    {
      "cell_type": "code",
      "metadata": {
        "id": "BfNbcASmHbC2"
      },
      "source": [
        "%matplotlib inline\n",
        "import matplotlib.pyplot as plt"
      ],
      "execution_count": 14,
      "outputs": []
    },
    {
      "cell_type": "code",
      "metadata": {
        "colab": {
          "base_uri": "https://localhost:8080/",
          "height": 179
        },
        "id": "bUncQlNJHe-T",
        "outputId": "304bb5f6-b572-451f-df23-0e780f5f186d"
      },
      "source": [
        "plt.figure(figsize=(18,4))\n",
        "\n",
        "plt.plot(kodex_200.date, kodex_200.close, label='close')\n",
        "plt.plot(kodex_200.date, kodex_200.MAVG_90, label='MOVG_90')\n",
        "\n",
        "plt.legend(loc='best')\n",
        "plt.xlabel('Year', fontsize=18)\n",
        "plt.ylabel('Index', fontsize=18)\n",
        "plt.grid()\n",
        "\n",
        "plt.show()"
      ],
      "execution_count": 16,
      "outputs": [
        {
          "output_type": "display_data",
          "data": {
            "image/png": "[encoded data removed]",
            "text/plain": [
              "<Figure size 1296x288 with 1 Axes>"
            ]
          },
          "metadata": {
            "tags": [],
            "needs_background": "light"
          }
        }
      ]
    },
    {
      "cell_type": "code",
      "metadata": {
        "id": "Fns2sK-fHoz1"
      },
      "source": [
        ""
      ],
      "execution_count": null,
      "outputs": []
    }
  ]
}