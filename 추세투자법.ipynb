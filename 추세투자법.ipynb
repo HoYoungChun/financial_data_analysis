{
  "nbformat": 4,
  "nbformat_minor": 0,
  "metadata": {
    "colab": {
      "name": "추세투자법.ipynb",
      "provenance": [],
      "collapsed_sections": [],
      "authorship_tag": "ABX9TyORHiCzAYjl6zAsehG2jSql",
      "include_colab_link": true
    },
    "kernelspec": {
      "name": "python3",
      "display_name": "Python 3"
    },
    "language_info": {
      "name": "python"
    }
  },
  "cells": [
    {
      "cell_type": "markdown",
      "metadata": {
        "id": "view-in-github",
        "colab_type": "text"
      },
      "source": [
        "<a href=\"https://colab.research.google.com/github/HoYoungChun/financial_data_analysis/blob/main/%EC%B6%94%EC%84%B8%ED%88%AC%EC%9E%90%EB%B2%95.ipynb\" target=\"_parent\"><img src=\"https://colab.research.google.com/assets/colab-badge.svg\" alt=\"Open In Colab\"/></a>"
      ]
    },
    {
      "cell_type": "markdown",
      "metadata": {
        "id": "UoZhXGa4CKiz"
      },
      "source": [
        "## Import libraries"
      ]
    },
    {
      "cell_type": "code",
      "metadata": {
        "id": "9nDSlUvQCW-p"
      },
      "source": [
        "import pandas as pd\n",
        "import requests\n",
        "import numpy as np\n",
        "from tqdm import tqdm"
      ],
      "execution_count": 1,
      "outputs": []
    },
    {
      "cell_type": "markdown",
      "metadata": {
        "id": "eTwNhiX4CabV"
      },
      "source": [
        "### Get KOSPI 200 market data(Daily)"
      ]
    },
    {
      "cell_type": "code",
      "metadata": {
        "colab": {
          "base_uri": "https://localhost:8080/",
          "height": 434
        },
        "id": "pe8CKd9eCkkb",
        "outputId": "a114f757-1eda-4402-9868-db541d07ec13"
      },
      "source": [
        "kodex_200 = pd.DataFrame()\n",
        "\n",
        "kodex_url = 'https://finance.naver.com/item/sise_day.nhn?code=069500'\n",
        "\n",
        "for page in tqdm(range(1,100)):\n",
        "    pg_url = '{url}&page={page}'.format(url=kodex_url, page=page)\n",
        "    pg_url = requests.get(pg_url, headers={'User-agent':'Mozilla/5.0'}).text\n",
        "    kodex_200 = kodex_200.append(pd.read_html(pg_url)[0], ignore_index=True)\n",
        "    #pd.read_html(pg_url)[0]\n",
        "kodex_200"
      ],
      "execution_count": 21,
      "outputs": [
        {
          "output_type": "stream",
          "text": [
            "100%|██████████| 99/99 [00:22<00:00,  4.37it/s]\n"
          ],
          "name": "stderr"
        },
        {
          "output_type": "execute_result",
          "data": {
            "text/html": [
              "<div>\n",
              "<style scoped>\n",
              "    .dataframe tbody tr th:only-of-type {\n",
              "        vertical-align: middle;\n",
              "    }\n",
              "\n",
              "    .dataframe tbody tr th {\n",
              "        vertical-align: top;\n",
              "    }\n",
              "\n",
              "    .dataframe thead th {\n",
              "        text-align: right;\n",
              "    }\n",
              "</style>\n",
              "<table border=\"1\" class=\"dataframe\">\n",
              "  <thead>\n",
              "    <tr style=\"text-align: right;\">\n",
              "      <th></th>\n",
              "      <th>날짜</th>\n",
              "      <th>종가</th>\n",
              "      <th>전일비</th>\n",
              "      <th>시가</th>\n",
              "      <th>고가</th>\n",
              "      <th>저가</th>\n",
              "      <th>거래량</th>\n",
              "    </tr>\n",
              "  </thead>\n",
              "  <tbody>\n",
              "    <tr>\n",
              "      <th>0</th>\n",
              "      <td>NaN</td>\n",
              "      <td>NaN</td>\n",
              "      <td>NaN</td>\n",
              "      <td>NaN</td>\n",
              "      <td>NaN</td>\n",
              "      <td>NaN</td>\n",
              "      <td>NaN</td>\n",
              "    </tr>\n",
              "    <tr>\n",
              "      <th>1</th>\n",
              "      <td>2021.07.15</td>\n",
              "      <td>43460.0</td>\n",
              "      <td>60.0</td>\n",
              "      <td>43525.0</td>\n",
              "      <td>43555.0</td>\n",
              "      <td>43380.0</td>\n",
              "      <td>355655.0</td>\n",
              "    </tr>\n",
              "    <tr>\n",
              "      <th>2</th>\n",
              "      <td>2021.07.14</td>\n",
              "      <td>43400.0</td>\n",
              "      <td>150.0</td>\n",
              "      <td>43400.0</td>\n",
              "      <td>43465.0</td>\n",
              "      <td>43225.0</td>\n",
              "      <td>3453656.0</td>\n",
              "    </tr>\n",
              "    <tr>\n",
              "      <th>3</th>\n",
              "      <td>2021.07.13</td>\n",
              "      <td>43550.0</td>\n",
              "      <td>365.0</td>\n",
              "      <td>43380.0</td>\n",
              "      <td>43565.0</td>\n",
              "      <td>43380.0</td>\n",
              "      <td>3654600.0</td>\n",
              "    </tr>\n",
              "    <tr>\n",
              "      <th>4</th>\n",
              "      <td>2021.07.12</td>\n",
              "      <td>43185.0</td>\n",
              "      <td>385.0</td>\n",
              "      <td>43060.0</td>\n",
              "      <td>43260.0</td>\n",
              "      <td>43060.0</td>\n",
              "      <td>3929269.0</td>\n",
              "    </tr>\n",
              "    <tr>\n",
              "      <th>...</th>\n",
              "      <td>...</td>\n",
              "      <td>...</td>\n",
              "      <td>...</td>\n",
              "      <td>...</td>\n",
              "      <td>...</td>\n",
              "      <td>...</td>\n",
              "      <td>...</td>\n",
              "    </tr>\n",
              "    <tr>\n",
              "      <th>1480</th>\n",
              "      <td>2017.07.11</td>\n",
              "      <td>31480.0</td>\n",
              "      <td>175.0</td>\n",
              "      <td>31345.0</td>\n",
              "      <td>31500.0</td>\n",
              "      <td>31300.0</td>\n",
              "      <td>4983074.0</td>\n",
              "    </tr>\n",
              "    <tr>\n",
              "      <th>1481</th>\n",
              "      <td>2017.07.10</td>\n",
              "      <td>31305.0</td>\n",
              "      <td>105.0</td>\n",
              "      <td>31300.0</td>\n",
              "      <td>31390.0</td>\n",
              "      <td>31220.0</td>\n",
              "      <td>4338365.0</td>\n",
              "    </tr>\n",
              "    <tr>\n",
              "      <th>1482</th>\n",
              "      <td>2017.07.07</td>\n",
              "      <td>31200.0</td>\n",
              "      <td>125.0</td>\n",
              "      <td>31200.0</td>\n",
              "      <td>31285.0</td>\n",
              "      <td>31115.0</td>\n",
              "      <td>5436532.0</td>\n",
              "    </tr>\n",
              "    <tr>\n",
              "      <th>1483</th>\n",
              "      <td>2017.07.06</td>\n",
              "      <td>31325.0</td>\n",
              "      <td>5.0</td>\n",
              "      <td>31395.0</td>\n",
              "      <td>31395.0</td>\n",
              "      <td>31240.0</td>\n",
              "      <td>6394300.0</td>\n",
              "    </tr>\n",
              "    <tr>\n",
              "      <th>1484</th>\n",
              "      <td>NaN</td>\n",
              "      <td>NaN</td>\n",
              "      <td>NaN</td>\n",
              "      <td>NaN</td>\n",
              "      <td>NaN</td>\n",
              "      <td>NaN</td>\n",
              "      <td>NaN</td>\n",
              "    </tr>\n",
              "  </tbody>\n",
              "</table>\n",
              "<p>1485 rows × 7 columns</p>\n",
              "</div>"
            ],
            "text/plain": [
              "              날짜       종가    전일비       시가       고가       저가        거래량\n",
              "0            NaN      NaN    NaN      NaN      NaN      NaN        NaN\n",
              "1     2021.07.15  43460.0   60.0  43525.0  43555.0  43380.0   355655.0\n",
              "2     2021.07.14  43400.0  150.0  43400.0  43465.0  43225.0  3453656.0\n",
              "3     2021.07.13  43550.0  365.0  43380.0  43565.0  43380.0  3654600.0\n",
              "4     2021.07.12  43185.0  385.0  43060.0  43260.0  43060.0  3929269.0\n",
              "...          ...      ...    ...      ...      ...      ...        ...\n",
              "1480  2017.07.11  31480.0  175.0  31345.0  31500.0  31300.0  4983074.0\n",
              "1481  2017.07.10  31305.0  105.0  31300.0  31390.0  31220.0  4338365.0\n",
              "1482  2017.07.07  31200.0  125.0  31200.0  31285.0  31115.0  5436532.0\n",
              "1483  2017.07.06  31325.0    5.0  31395.0  31395.0  31240.0  6394300.0\n",
              "1484         NaN      NaN    NaN      NaN      NaN      NaN        NaN\n",
              "\n",
              "[1485 rows x 7 columns]"
            ]
          },
          "metadata": {
            "tags": []
          },
          "execution_count": 21
        }
      ]
    },
    {
      "cell_type": "code",
      "metadata": {
        "colab": {
          "base_uri": "https://localhost:8080/",
          "height": 364
        },
        "id": "EZcOf6zDD8SB",
        "outputId": "f7f7f9af-83ac-44d5-8f6f-6dd362b44b05"
      },
      "source": [
        "kodex_200 = kodex_200.dropna()\n",
        "kodex_200.columns = ['date','close','over_the_day','open','high','low','volume']\n",
        "kodex_200.date = pd.to_datetime(kodex_200.date)\n",
        "\n",
        "print('출처: ', kodex_url)\n",
        "print(kodex_200.shape)\n",
        "kodex_200.head()"
      ],
      "execution_count": 22,
      "outputs": [
        {
          "output_type": "stream",
          "text": [
            "출처:  https://finance.naver.com/item/sise_day.nhn?code=069500\n",
            "(990, 7)\n"
          ],
          "name": "stdout"
        },
        {
          "output_type": "stream",
          "text": [
            "/usr/local/lib/python3.7/dist-packages/pandas/core/generic.py:5170: SettingWithCopyWarning: \n",
            "A value is trying to be set on a copy of a slice from a DataFrame.\n",
            "Try using .loc[row_indexer,col_indexer] = value instead\n",
            "\n",
            "See the caveats in the documentation: https://pandas.pydata.org/pandas-docs/stable/user_guide/indexing.html#returning-a-view-versus-a-copy\n",
            "  self[name] = value\n"
          ],
          "name": "stderr"
        },
        {
          "output_type": "execute_result",
          "data": {
            "text/html": [
              "<div>\n",
              "<style scoped>\n",
              "    .dataframe tbody tr th:only-of-type {\n",
              "        vertical-align: middle;\n",
              "    }\n",
              "\n",
              "    .dataframe tbody tr th {\n",
              "        vertical-align: top;\n",
              "    }\n",
              "\n",
              "    .dataframe thead th {\n",
              "        text-align: right;\n",
              "    }\n",
              "</style>\n",
              "<table border=\"1\" class=\"dataframe\">\n",
              "  <thead>\n",
              "    <tr style=\"text-align: right;\">\n",
              "      <th></th>\n",
              "      <th>date</th>\n",
              "      <th>close</th>\n",
              "      <th>over_the_day</th>\n",
              "      <th>open</th>\n",
              "      <th>high</th>\n",
              "      <th>low</th>\n",
              "      <th>volume</th>\n",
              "    </tr>\n",
              "  </thead>\n",
              "  <tbody>\n",
              "    <tr>\n",
              "      <th>1</th>\n",
              "      <td>2021-07-15</td>\n",
              "      <td>43460.0</td>\n",
              "      <td>60.0</td>\n",
              "      <td>43525.0</td>\n",
              "      <td>43555.0</td>\n",
              "      <td>43380.0</td>\n",
              "      <td>355655.0</td>\n",
              "    </tr>\n",
              "    <tr>\n",
              "      <th>2</th>\n",
              "      <td>2021-07-14</td>\n",
              "      <td>43400.0</td>\n",
              "      <td>150.0</td>\n",
              "      <td>43400.0</td>\n",
              "      <td>43465.0</td>\n",
              "      <td>43225.0</td>\n",
              "      <td>3453656.0</td>\n",
              "    </tr>\n",
              "    <tr>\n",
              "      <th>3</th>\n",
              "      <td>2021-07-13</td>\n",
              "      <td>43550.0</td>\n",
              "      <td>365.0</td>\n",
              "      <td>43380.0</td>\n",
              "      <td>43565.0</td>\n",
              "      <td>43380.0</td>\n",
              "      <td>3654600.0</td>\n",
              "    </tr>\n",
              "    <tr>\n",
              "      <th>4</th>\n",
              "      <td>2021-07-12</td>\n",
              "      <td>43185.0</td>\n",
              "      <td>385.0</td>\n",
              "      <td>43060.0</td>\n",
              "      <td>43260.0</td>\n",
              "      <td>43060.0</td>\n",
              "      <td>3929269.0</td>\n",
              "    </tr>\n",
              "    <tr>\n",
              "      <th>5</th>\n",
              "      <td>2021-07-09</td>\n",
              "      <td>42800.0</td>\n",
              "      <td>460.0</td>\n",
              "      <td>42840.0</td>\n",
              "      <td>43050.0</td>\n",
              "      <td>42445.0</td>\n",
              "      <td>8288519.0</td>\n",
              "    </tr>\n",
              "  </tbody>\n",
              "</table>\n",
              "</div>"
            ],
            "text/plain": [
              "        date    close  over_the_day     open     high      low     volume\n",
              "1 2021-07-15  43460.0          60.0  43525.0  43555.0  43380.0   355655.0\n",
              "2 2021-07-14  43400.0         150.0  43400.0  43465.0  43225.0  3453656.0\n",
              "3 2021-07-13  43550.0         365.0  43380.0  43565.0  43380.0  3654600.0\n",
              "4 2021-07-12  43185.0         385.0  43060.0  43260.0  43060.0  3929269.0\n",
              "5 2021-07-09  42800.0         460.0  42840.0  43050.0  42445.0  8288519.0"
            ]
          },
          "metadata": {
            "tags": []
          },
          "execution_count": 22
        }
      ]
    },
    {
      "cell_type": "code",
      "metadata": {
        "colab": {
          "base_uri": "https://localhost:8080/",
          "height": 417
        },
        "id": "FVBO9VvUpiUO",
        "outputId": "054cd5e0-2dab-4be4-9a39-8a71f03cd3d9"
      },
      "source": [
        "kodex_200 = kodex_200.sort_values(by='date')\n",
        "kodex_200"
      ],
      "execution_count": 25,
      "outputs": [
        {
          "output_type": "execute_result",
          "data": {
            "text/html": [
              "<div>\n",
              "<style scoped>\n",
              "    .dataframe tbody tr th:only-of-type {\n",
              "        vertical-align: middle;\n",
              "    }\n",
              "\n",
              "    .dataframe tbody tr th {\n",
              "        vertical-align: top;\n",
              "    }\n",
              "\n",
              "    .dataframe thead th {\n",
              "        text-align: right;\n",
              "    }\n",
              "</style>\n",
              "<table border=\"1\" class=\"dataframe\">\n",
              "  <thead>\n",
              "    <tr style=\"text-align: right;\">\n",
              "      <th></th>\n",
              "      <th>date</th>\n",
              "      <th>close</th>\n",
              "      <th>over_the_day</th>\n",
              "      <th>open</th>\n",
              "      <th>high</th>\n",
              "      <th>low</th>\n",
              "      <th>volume</th>\n",
              "    </tr>\n",
              "  </thead>\n",
              "  <tbody>\n",
              "    <tr>\n",
              "      <th>1483</th>\n",
              "      <td>2017-07-06</td>\n",
              "      <td>31325.0</td>\n",
              "      <td>5.0</td>\n",
              "      <td>31395.0</td>\n",
              "      <td>31395.0</td>\n",
              "      <td>31240.0</td>\n",
              "      <td>6394300.0</td>\n",
              "    </tr>\n",
              "    <tr>\n",
              "      <th>1482</th>\n",
              "      <td>2017-07-07</td>\n",
              "      <td>31200.0</td>\n",
              "      <td>125.0</td>\n",
              "      <td>31200.0</td>\n",
              "      <td>31285.0</td>\n",
              "      <td>31115.0</td>\n",
              "      <td>5436532.0</td>\n",
              "    </tr>\n",
              "    <tr>\n",
              "      <th>1481</th>\n",
              "      <td>2017-07-10</td>\n",
              "      <td>31305.0</td>\n",
              "      <td>105.0</td>\n",
              "      <td>31300.0</td>\n",
              "      <td>31390.0</td>\n",
              "      <td>31220.0</td>\n",
              "      <td>4338365.0</td>\n",
              "    </tr>\n",
              "    <tr>\n",
              "      <th>1480</th>\n",
              "      <td>2017-07-11</td>\n",
              "      <td>31480.0</td>\n",
              "      <td>175.0</td>\n",
              "      <td>31345.0</td>\n",
              "      <td>31500.0</td>\n",
              "      <td>31300.0</td>\n",
              "      <td>4983074.0</td>\n",
              "    </tr>\n",
              "    <tr>\n",
              "      <th>1479</th>\n",
              "      <td>2017-07-12</td>\n",
              "      <td>31475.0</td>\n",
              "      <td>5.0</td>\n",
              "      <td>31480.0</td>\n",
              "      <td>31555.0</td>\n",
              "      <td>31450.0</td>\n",
              "      <td>9780095.0</td>\n",
              "    </tr>\n",
              "    <tr>\n",
              "      <th>...</th>\n",
              "      <td>...</td>\n",
              "      <td>...</td>\n",
              "      <td>...</td>\n",
              "      <td>...</td>\n",
              "      <td>...</td>\n",
              "      <td>...</td>\n",
              "      <td>...</td>\n",
              "    </tr>\n",
              "    <tr>\n",
              "      <th>5</th>\n",
              "      <td>2021-07-09</td>\n",
              "      <td>42800.0</td>\n",
              "      <td>460.0</td>\n",
              "      <td>42840.0</td>\n",
              "      <td>43050.0</td>\n",
              "      <td>42445.0</td>\n",
              "      <td>8288519.0</td>\n",
              "    </tr>\n",
              "    <tr>\n",
              "      <th>4</th>\n",
              "      <td>2021-07-12</td>\n",
              "      <td>43185.0</td>\n",
              "      <td>385.0</td>\n",
              "      <td>43060.0</td>\n",
              "      <td>43260.0</td>\n",
              "      <td>43060.0</td>\n",
              "      <td>3929269.0</td>\n",
              "    </tr>\n",
              "    <tr>\n",
              "      <th>3</th>\n",
              "      <td>2021-07-13</td>\n",
              "      <td>43550.0</td>\n",
              "      <td>365.0</td>\n",
              "      <td>43380.0</td>\n",
              "      <td>43565.0</td>\n",
              "      <td>43380.0</td>\n",
              "      <td>3654600.0</td>\n",
              "    </tr>\n",
              "    <tr>\n",
              "      <th>2</th>\n",
              "      <td>2021-07-14</td>\n",
              "      <td>43400.0</td>\n",
              "      <td>150.0</td>\n",
              "      <td>43400.0</td>\n",
              "      <td>43465.0</td>\n",
              "      <td>43225.0</td>\n",
              "      <td>3453656.0</td>\n",
              "    </tr>\n",
              "    <tr>\n",
              "      <th>1</th>\n",
              "      <td>2021-07-15</td>\n",
              "      <td>43460.0</td>\n",
              "      <td>60.0</td>\n",
              "      <td>43525.0</td>\n",
              "      <td>43555.0</td>\n",
              "      <td>43380.0</td>\n",
              "      <td>355655.0</td>\n",
              "    </tr>\n",
              "  </tbody>\n",
              "</table>\n",
              "<p>990 rows × 7 columns</p>\n",
              "</div>"
            ],
            "text/plain": [
              "           date    close  over_the_day     open     high      low     volume\n",
              "1483 2017-07-06  31325.0           5.0  31395.0  31395.0  31240.0  6394300.0\n",
              "1482 2017-07-07  31200.0         125.0  31200.0  31285.0  31115.0  5436532.0\n",
              "1481 2017-07-10  31305.0         105.0  31300.0  31390.0  31220.0  4338365.0\n",
              "1480 2017-07-11  31480.0         175.0  31345.0  31500.0  31300.0  4983074.0\n",
              "1479 2017-07-12  31475.0           5.0  31480.0  31555.0  31450.0  9780095.0\n",
              "...         ...      ...           ...      ...      ...      ...        ...\n",
              "5    2021-07-09  42800.0         460.0  42840.0  43050.0  42445.0  8288519.0\n",
              "4    2021-07-12  43185.0         385.0  43060.0  43260.0  43060.0  3929269.0\n",
              "3    2021-07-13  43550.0         365.0  43380.0  43565.0  43380.0  3654600.0\n",
              "2    2021-07-14  43400.0         150.0  43400.0  43465.0  43225.0  3453656.0\n",
              "1    2021-07-15  43460.0          60.0  43525.0  43555.0  43380.0   355655.0\n",
              "\n",
              "[990 rows x 7 columns]"
            ]
          },
          "metadata": {
            "tags": []
          },
          "execution_count": 25
        }
      ]
    },
    {
      "cell_type": "code",
      "metadata": {
        "id": "vW99QF2CEd-d",
        "colab": {
          "base_uri": "https://localhost:8080/"
        },
        "outputId": "249d717b-58a8-4081-8e2e-8e146f257bac"
      },
      "source": [
        "movg_90 = kodex_200.close.rolling(window=90).mean()\n",
        "movg_90.head(90)"
      ],
      "execution_count": 26,
      "outputs": [
        {
          "output_type": "execute_result",
          "data": {
            "text/plain": [
              "1483        NaN\n",
              "1482        NaN\n",
              "1481        NaN\n",
              "1480        NaN\n",
              "1479        NaN\n",
              "         ...   \n",
              "1355        NaN\n",
              "1354        NaN\n",
              "1353        NaN\n",
              "1352        NaN\n",
              "1351    31944.0\n",
              "Name: close, Length: 90, dtype: float64"
            ]
          },
          "metadata": {
            "tags": []
          },
          "execution_count": 26
        }
      ]
    },
    {
      "cell_type": "code",
      "metadata": {
        "colab": {
          "base_uri": "https://localhost:8080/",
          "height": 605
        },
        "id": "2jNjvD_-FOzP",
        "outputId": "3df8cbe1-9b84-4313-944e-25b5c6132c67"
      },
      "source": [
        "kodex_200['MAVG_90'] = movg_90\n",
        "kodex_200 = kodex_200.dropna()\n",
        "kodex_200"
      ],
      "execution_count": 27,
      "outputs": [
        {
          "output_type": "execute_result",
          "data": {
            "text/html": [
              "<div>\n",
              "<style scoped>\n",
              "    .dataframe tbody tr th:only-of-type {\n",
              "        vertical-align: middle;\n",
              "    }\n",
              "\n",
              "    .dataframe tbody tr th {\n",
              "        vertical-align: top;\n",
              "    }\n",
              "\n",
              "    .dataframe thead th {\n",
              "        text-align: right;\n",
              "    }\n",
              "</style>\n",
              "<table border=\"1\" class=\"dataframe\">\n",
              "  <thead>\n",
              "    <tr style=\"text-align: right;\">\n",
              "      <th></th>\n",
              "      <th>date</th>\n",
              "      <th>close</th>\n",
              "      <th>over_the_day</th>\n",
              "      <th>open</th>\n",
              "      <th>high</th>\n",
              "      <th>low</th>\n",
              "      <th>volume</th>\n",
              "      <th>MAVG_90</th>\n",
              "    </tr>\n",
              "  </thead>\n",
              "  <tbody>\n",
              "    <tr>\n",
              "      <th>1351</th>\n",
              "      <td>2017-11-17</td>\n",
              "      <td>33425.0</td>\n",
              "      <td>10.0</td>\n",
              "      <td>33605.0</td>\n",
              "      <td>33835.0</td>\n",
              "      <td>33425.0</td>\n",
              "      <td>16551618.0</td>\n",
              "      <td>31944.000000</td>\n",
              "    </tr>\n",
              "    <tr>\n",
              "      <th>1348</th>\n",
              "      <td>2017-11-20</td>\n",
              "      <td>33280.0</td>\n",
              "      <td>145.0</td>\n",
              "      <td>33485.0</td>\n",
              "      <td>33545.0</td>\n",
              "      <td>33245.0</td>\n",
              "      <td>16318516.0</td>\n",
              "      <td>31965.722222</td>\n",
              "    </tr>\n",
              "    <tr>\n",
              "      <th>1347</th>\n",
              "      <td>2017-11-21</td>\n",
              "      <td>33355.0</td>\n",
              "      <td>75.0</td>\n",
              "      <td>33410.0</td>\n",
              "      <td>33505.0</td>\n",
              "      <td>33300.0</td>\n",
              "      <td>9555691.0</td>\n",
              "      <td>31989.666667</td>\n",
              "    </tr>\n",
              "    <tr>\n",
              "      <th>1346</th>\n",
              "      <td>2017-11-22</td>\n",
              "      <td>33560.0</td>\n",
              "      <td>205.0</td>\n",
              "      <td>33600.0</td>\n",
              "      <td>33735.0</td>\n",
              "      <td>33485.0</td>\n",
              "      <td>13442803.0</td>\n",
              "      <td>32014.722222</td>\n",
              "    </tr>\n",
              "    <tr>\n",
              "      <th>1345</th>\n",
              "      <td>2017-11-23</td>\n",
              "      <td>33500.0</td>\n",
              "      <td>60.0</td>\n",
              "      <td>33610.0</td>\n",
              "      <td>33615.0</td>\n",
              "      <td>33445.0</td>\n",
              "      <td>7849119.0</td>\n",
              "      <td>32037.166667</td>\n",
              "    </tr>\n",
              "    <tr>\n",
              "      <th>...</th>\n",
              "      <td>...</td>\n",
              "      <td>...</td>\n",
              "      <td>...</td>\n",
              "      <td>...</td>\n",
              "      <td>...</td>\n",
              "      <td>...</td>\n",
              "      <td>...</td>\n",
              "      <td>...</td>\n",
              "    </tr>\n",
              "    <tr>\n",
              "      <th>5</th>\n",
              "      <td>2021-07-09</td>\n",
              "      <td>42800.0</td>\n",
              "      <td>460.0</td>\n",
              "      <td>42840.0</td>\n",
              "      <td>43050.0</td>\n",
              "      <td>42445.0</td>\n",
              "      <td>8288519.0</td>\n",
              "      <td>42835.555556</td>\n",
              "    </tr>\n",
              "    <tr>\n",
              "      <th>4</th>\n",
              "      <td>2021-07-12</td>\n",
              "      <td>43185.0</td>\n",
              "      <td>385.0</td>\n",
              "      <td>43060.0</td>\n",
              "      <td>43260.0</td>\n",
              "      <td>43060.0</td>\n",
              "      <td>3929269.0</td>\n",
              "      <td>42847.666667</td>\n",
              "    </tr>\n",
              "    <tr>\n",
              "      <th>3</th>\n",
              "      <td>2021-07-13</td>\n",
              "      <td>43550.0</td>\n",
              "      <td>365.0</td>\n",
              "      <td>43380.0</td>\n",
              "      <td>43565.0</td>\n",
              "      <td>43380.0</td>\n",
              "      <td>3654600.0</td>\n",
              "      <td>42866.333333</td>\n",
              "    </tr>\n",
              "    <tr>\n",
              "      <th>2</th>\n",
              "      <td>2021-07-14</td>\n",
              "      <td>43400.0</td>\n",
              "      <td>150.0</td>\n",
              "      <td>43400.0</td>\n",
              "      <td>43465.0</td>\n",
              "      <td>43225.0</td>\n",
              "      <td>3453656.0</td>\n",
              "      <td>42887.722222</td>\n",
              "    </tr>\n",
              "    <tr>\n",
              "      <th>1</th>\n",
              "      <td>2021-07-15</td>\n",
              "      <td>43460.0</td>\n",
              "      <td>60.0</td>\n",
              "      <td>43525.0</td>\n",
              "      <td>43555.0</td>\n",
              "      <td>43380.0</td>\n",
              "      <td>355655.0</td>\n",
              "      <td>42912.666667</td>\n",
              "    </tr>\n",
              "  </tbody>\n",
              "</table>\n",
              "<p>901 rows × 8 columns</p>\n",
              "</div>"
            ],
            "text/plain": [
              "           date    close  over_the_day  ...      low      volume       MAVG_90\n",
              "1351 2017-11-17  33425.0          10.0  ...  33425.0  16551618.0  31944.000000\n",
              "1348 2017-11-20  33280.0         145.0  ...  33245.0  16318516.0  31965.722222\n",
              "1347 2017-11-21  33355.0          75.0  ...  33300.0   9555691.0  31989.666667\n",
              "1346 2017-11-22  33560.0         205.0  ...  33485.0  13442803.0  32014.722222\n",
              "1345 2017-11-23  33500.0          60.0  ...  33445.0   7849119.0  32037.166667\n",
              "...         ...      ...           ...  ...      ...         ...           ...\n",
              "5    2021-07-09  42800.0         460.0  ...  42445.0   8288519.0  42835.555556\n",
              "4    2021-07-12  43185.0         385.0  ...  43060.0   3929269.0  42847.666667\n",
              "3    2021-07-13  43550.0         365.0  ...  43380.0   3654600.0  42866.333333\n",
              "2    2021-07-14  43400.0         150.0  ...  43225.0   3453656.0  42887.722222\n",
              "1    2021-07-15  43460.0          60.0  ...  43380.0    355655.0  42912.666667\n",
              "\n",
              "[901 rows x 8 columns]"
            ]
          },
          "metadata": {
            "tags": []
          },
          "execution_count": 27
        }
      ]
    },
    {
      "cell_type": "markdown",
      "metadata": {
        "id": "ynUb0u8xGe7f"
      },
      "source": [
        "## Visulization"
      ]
    },
    {
      "cell_type": "code",
      "metadata": {
        "id": "BfNbcASmHbC2"
      },
      "source": [
        "%matplotlib inline\n",
        "import matplotlib.pyplot as plt"
      ],
      "execution_count": 28,
      "outputs": []
    },
    {
      "cell_type": "code",
      "metadata": {
        "colab": {
          "base_uri": "https://localhost:8080/",
          "height": 179
        },
        "id": "bUncQlNJHe-T",
        "outputId": "ea5efa6a-bb0e-41cb-af56-2fb310f84ea7"
      },
      "source": [
        "plt.figure(figsize=(18,4))\n",
        "\n",
        "plt.plot(kodex_200.date, kodex_200.close, label='close')\n",
        "plt.plot(kodex_200.date, kodex_200.MAVG_90, label='MOVG_90')\n",
        "\n",
        "plt.legend(loc='best')\n",
        "plt.xlabel('Year', fontsize=18)\n",
        "plt.ylabel('Index', fontsize=18)\n",
        "plt.grid()\n",
        "\n",
        "plt.show()"
      ],
      "execution_count": 29,
      "outputs": [
        {
          "output_type": "display_data",
          "data": {
            "image/png": "[encoded data removed]",
            "text/plain": [
              "<Figure size 1296x288 with 1 Axes>"
            ]
          },
          "metadata": {
            "tags": [],
            "needs_background": "light"
          }
        }
      ]
    },
    {
      "cell_type": "markdown",
      "metadata": {
        "id": "Fns2sK-fHoz1"
      },
      "source": [
        "## Backtesting"
      ]
    },
    {
      "cell_type": "code",
      "metadata": {
        "id": "B2ttUFVFgu4V"
      },
      "source": [
        "def backtest(beginning_asset=100000):\n",
        "    asset=[beginning_asset]\n",
        "\n",
        "    for i in range(len(kodex_200) - 1):\n",
        "        #이전 시점 코스피 이평선 대비 현 시점 코스피 이평선이 상승했을 경우,\n",
        "        if kodex_200.iloc[i-1].MAVG_90 < kodex_200.iloc[i].MAVG_90:\n",
        "            kodex_shares = beginning_asset / kodex_200.iloc[i].close\n",
        "            kodex_ending_value = kodex_shares * kodex_200.iloc[i+1].close\n",
        "\n",
        "            asset.append(kodex_ending_value)\n",
        "            beginning_asset = kodex_ending_value\n",
        "\n",
        "        #이전 시점 코스피 이평선 대비 현 시점 코스피 이평선이 하락했을 경우,\n",
        "        elif kodex_200.iloc[i-1].MAVG_90 > kodex_200.iloc[i].MAVG_90:\n",
        "            kodex_shares = 0\n",
        "            kodex_ending_value = beginning_asset\n",
        "\n",
        "            asset.append(kodex_ending_value)\n",
        "            beginning_asset = kodex_ending_value\n",
        "\n",
        "    return asset"
      ],
      "execution_count": 30,
      "outputs": []
    },
    {
      "cell_type": "code",
      "metadata": {
        "id": "4UF5LnPYnJUi"
      },
      "source": [
        "result = backtest()"
      ],
      "execution_count": 31,
      "outputs": []
    },
    {
      "cell_type": "code",
      "metadata": {
        "id": "629Ym0QDndbB"
      },
      "source": [
        "back_test = {\n",
        "    'date':kodex_200.date,\n",
        "    'backtest':result,\n",
        "    'kospi':kodex_200.close/kodex_200.iloc[0].close * 100000\n",
        "}"
      ],
      "execution_count": 32,
      "outputs": []
    },
    {
      "cell_type": "code",
      "metadata": {
        "colab": {
          "base_uri": "https://localhost:8080/",
          "height": 417
        },
        "id": "TyALvZKpney6",
        "outputId": "b1598d6b-1318-49e6-bd70-5047f0e361b1"
      },
      "source": [
        "back_test = pd.DataFrame(back_test)\n",
        "back_test"
      ],
      "execution_count": 33,
      "outputs": [
        {
          "output_type": "execute_result",
          "data": {
            "text/html": [
              "<div>\n",
              "<style scoped>\n",
              "    .dataframe tbody tr th:only-of-type {\n",
              "        vertical-align: middle;\n",
              "    }\n",
              "\n",
              "    .dataframe tbody tr th {\n",
              "        vertical-align: top;\n",
              "    }\n",
              "\n",
              "    .dataframe thead th {\n",
              "        text-align: right;\n",
              "    }\n",
              "</style>\n",
              "<table border=\"1\" class=\"dataframe\">\n",
              "  <thead>\n",
              "    <tr style=\"text-align: right;\">\n",
              "      <th></th>\n",
              "      <th>date</th>\n",
              "      <th>backtest</th>\n",
              "      <th>kospi</th>\n",
              "    </tr>\n",
              "  </thead>\n",
              "  <tbody>\n",
              "    <tr>\n",
              "      <th>1351</th>\n",
              "      <td>2017-11-17</td>\n",
              "      <td>100000.000000</td>\n",
              "      <td>100000.000000</td>\n",
              "    </tr>\n",
              "    <tr>\n",
              "      <th>1348</th>\n",
              "      <td>2017-11-20</td>\n",
              "      <td>100000.000000</td>\n",
              "      <td>99566.192969</td>\n",
              "    </tr>\n",
              "    <tr>\n",
              "      <th>1347</th>\n",
              "      <td>2017-11-21</td>\n",
              "      <td>100225.360577</td>\n",
              "      <td>99790.575916</td>\n",
              "    </tr>\n",
              "    <tr>\n",
              "      <th>1346</th>\n",
              "      <td>2017-11-22</td>\n",
              "      <td>100841.346154</td>\n",
              "      <td>100403.889304</td>\n",
              "    </tr>\n",
              "    <tr>\n",
              "      <th>1345</th>\n",
              "      <td>2017-11-23</td>\n",
              "      <td>100661.057692</td>\n",
              "      <td>100224.382947</td>\n",
              "    </tr>\n",
              "    <tr>\n",
              "      <th>...</th>\n",
              "      <td>...</td>\n",
              "      <td>...</td>\n",
              "      <td>...</td>\n",
              "    </tr>\n",
              "    <tr>\n",
              "      <th>5</th>\n",
              "      <td>2021-07-09</td>\n",
              "      <td>116420.047303</td>\n",
              "      <td>128047.868362</td>\n",
              "    </tr>\n",
              "    <tr>\n",
              "      <th>4</th>\n",
              "      <td>2021-07-12</td>\n",
              "      <td>117467.283710</td>\n",
              "      <td>129199.700823</td>\n",
              "    </tr>\n",
              "    <tr>\n",
              "      <th>3</th>\n",
              "      <td>2021-07-13</td>\n",
              "      <td>118460.118225</td>\n",
              "      <td>130291.697831</td>\n",
              "    </tr>\n",
              "    <tr>\n",
              "      <th>2</th>\n",
              "      <td>2021-07-14</td>\n",
              "      <td>118052.104041</td>\n",
              "      <td>129842.931937</td>\n",
              "    </tr>\n",
              "    <tr>\n",
              "      <th>1</th>\n",
              "      <td>2021-07-15</td>\n",
              "      <td>118215.309715</td>\n",
              "      <td>130022.438295</td>\n",
              "    </tr>\n",
              "  </tbody>\n",
              "</table>\n",
              "<p>901 rows × 3 columns</p>\n",
              "</div>"
            ],
            "text/plain": [
              "           date       backtest          kospi\n",
              "1351 2017-11-17  100000.000000  100000.000000\n",
              "1348 2017-11-20  100000.000000   99566.192969\n",
              "1347 2017-11-21  100225.360577   99790.575916\n",
              "1346 2017-11-22  100841.346154  100403.889304\n",
              "1345 2017-11-23  100661.057692  100224.382947\n",
              "...         ...            ...            ...\n",
              "5    2021-07-09  116420.047303  128047.868362\n",
              "4    2021-07-12  117467.283710  129199.700823\n",
              "3    2021-07-13  118460.118225  130291.697831\n",
              "2    2021-07-14  118052.104041  129842.931937\n",
              "1    2021-07-15  118215.309715  130022.438295\n",
              "\n",
              "[901 rows x 3 columns]"
            ]
          },
          "metadata": {
            "tags": []
          },
          "execution_count": 33
        }
      ]
    },
    {
      "cell_type": "code",
      "metadata": {
        "colab": {
          "base_uri": "https://localhost:8080/",
          "height": 605
        },
        "id": "91XrvYveh5cq",
        "outputId": "06f93a36-7a1c-4edd-b517-319d3fd2fccc"
      },
      "source": [
        "kodex_200 = kodex_200.sort_values(by='date')\n",
        "kodex_200"
      ],
      "execution_count": 34,
      "outputs": [
        {
          "output_type": "execute_result",
          "data": {
            "text/html": [
              "<div>\n",
              "<style scoped>\n",
              "    .dataframe tbody tr th:only-of-type {\n",
              "        vertical-align: middle;\n",
              "    }\n",
              "\n",
              "    .dataframe tbody tr th {\n",
              "        vertical-align: top;\n",
              "    }\n",
              "\n",
              "    .dataframe thead th {\n",
              "        text-align: right;\n",
              "    }\n",
              "</style>\n",
              "<table border=\"1\" class=\"dataframe\">\n",
              "  <thead>\n",
              "    <tr style=\"text-align: right;\">\n",
              "      <th></th>\n",
              "      <th>date</th>\n",
              "      <th>close</th>\n",
              "      <th>over_the_day</th>\n",
              "      <th>open</th>\n",
              "      <th>high</th>\n",
              "      <th>low</th>\n",
              "      <th>volume</th>\n",
              "      <th>MAVG_90</th>\n",
              "    </tr>\n",
              "  </thead>\n",
              "  <tbody>\n",
              "    <tr>\n",
              "      <th>1351</th>\n",
              "      <td>2017-11-17</td>\n",
              "      <td>33425.0</td>\n",
              "      <td>10.0</td>\n",
              "      <td>33605.0</td>\n",
              "      <td>33835.0</td>\n",
              "      <td>33425.0</td>\n",
              "      <td>16551618.0</td>\n",
              "      <td>31944.000000</td>\n",
              "    </tr>\n",
              "    <tr>\n",
              "      <th>1348</th>\n",
              "      <td>2017-11-20</td>\n",
              "      <td>33280.0</td>\n",
              "      <td>145.0</td>\n",
              "      <td>33485.0</td>\n",
              "      <td>33545.0</td>\n",
              "      <td>33245.0</td>\n",
              "      <td>16318516.0</td>\n",
              "      <td>31965.722222</td>\n",
              "    </tr>\n",
              "    <tr>\n",
              "      <th>1347</th>\n",
              "      <td>2017-11-21</td>\n",
              "      <td>33355.0</td>\n",
              "      <td>75.0</td>\n",
              "      <td>33410.0</td>\n",
              "      <td>33505.0</td>\n",
              "      <td>33300.0</td>\n",
              "      <td>9555691.0</td>\n",
              "      <td>31989.666667</td>\n",
              "    </tr>\n",
              "    <tr>\n",
              "      <th>1346</th>\n",
              "      <td>2017-11-22</td>\n",
              "      <td>33560.0</td>\n",
              "      <td>205.0</td>\n",
              "      <td>33600.0</td>\n",
              "      <td>33735.0</td>\n",
              "      <td>33485.0</td>\n",
              "      <td>13442803.0</td>\n",
              "      <td>32014.722222</td>\n",
              "    </tr>\n",
              "    <tr>\n",
              "      <th>1345</th>\n",
              "      <td>2017-11-23</td>\n",
              "      <td>33500.0</td>\n",
              "      <td>60.0</td>\n",
              "      <td>33610.0</td>\n",
              "      <td>33615.0</td>\n",
              "      <td>33445.0</td>\n",
              "      <td>7849119.0</td>\n",
              "      <td>32037.166667</td>\n",
              "    </tr>\n",
              "    <tr>\n",
              "      <th>...</th>\n",
              "      <td>...</td>\n",
              "      <td>...</td>\n",
              "      <td>...</td>\n",
              "      <td>...</td>\n",
              "      <td>...</td>\n",
              "      <td>...</td>\n",
              "      <td>...</td>\n",
              "      <td>...</td>\n",
              "    </tr>\n",
              "    <tr>\n",
              "      <th>5</th>\n",
              "      <td>2021-07-09</td>\n",
              "      <td>42800.0</td>\n",
              "      <td>460.0</td>\n",
              "      <td>42840.0</td>\n",
              "      <td>43050.0</td>\n",
              "      <td>42445.0</td>\n",
              "      <td>8288519.0</td>\n",
              "      <td>42835.555556</td>\n",
              "    </tr>\n",
              "    <tr>\n",
              "      <th>4</th>\n",
              "      <td>2021-07-12</td>\n",
              "      <td>43185.0</td>\n",
              "      <td>385.0</td>\n",
              "      <td>43060.0</td>\n",
              "      <td>43260.0</td>\n",
              "      <td>43060.0</td>\n",
              "      <td>3929269.0</td>\n",
              "      <td>42847.666667</td>\n",
              "    </tr>\n",
              "    <tr>\n",
              "      <th>3</th>\n",
              "      <td>2021-07-13</td>\n",
              "      <td>43550.0</td>\n",
              "      <td>365.0</td>\n",
              "      <td>43380.0</td>\n",
              "      <td>43565.0</td>\n",
              "      <td>43380.0</td>\n",
              "      <td>3654600.0</td>\n",
              "      <td>42866.333333</td>\n",
              "    </tr>\n",
              "    <tr>\n",
              "      <th>2</th>\n",
              "      <td>2021-07-14</td>\n",
              "      <td>43400.0</td>\n",
              "      <td>150.0</td>\n",
              "      <td>43400.0</td>\n",
              "      <td>43465.0</td>\n",
              "      <td>43225.0</td>\n",
              "      <td>3453656.0</td>\n",
              "      <td>42887.722222</td>\n",
              "    </tr>\n",
              "    <tr>\n",
              "      <th>1</th>\n",
              "      <td>2021-07-15</td>\n",
              "      <td>43460.0</td>\n",
              "      <td>60.0</td>\n",
              "      <td>43525.0</td>\n",
              "      <td>43555.0</td>\n",
              "      <td>43380.0</td>\n",
              "      <td>355655.0</td>\n",
              "      <td>42912.666667</td>\n",
              "    </tr>\n",
              "  </tbody>\n",
              "</table>\n",
              "<p>901 rows × 8 columns</p>\n",
              "</div>"
            ],
            "text/plain": [
              "           date    close  over_the_day  ...      low      volume       MAVG_90\n",
              "1351 2017-11-17  33425.0          10.0  ...  33425.0  16551618.0  31944.000000\n",
              "1348 2017-11-20  33280.0         145.0  ...  33245.0  16318516.0  31965.722222\n",
              "1347 2017-11-21  33355.0          75.0  ...  33300.0   9555691.0  31989.666667\n",
              "1346 2017-11-22  33560.0         205.0  ...  33485.0  13442803.0  32014.722222\n",
              "1345 2017-11-23  33500.0          60.0  ...  33445.0   7849119.0  32037.166667\n",
              "...         ...      ...           ...  ...      ...         ...           ...\n",
              "5    2021-07-09  42800.0         460.0  ...  42445.0   8288519.0  42835.555556\n",
              "4    2021-07-12  43185.0         385.0  ...  43060.0   3929269.0  42847.666667\n",
              "3    2021-07-13  43550.0         365.0  ...  43380.0   3654600.0  42866.333333\n",
              "2    2021-07-14  43400.0         150.0  ...  43225.0   3453656.0  42887.722222\n",
              "1    2021-07-15  43460.0          60.0  ...  43380.0    355655.0  42912.666667\n",
              "\n",
              "[901 rows x 8 columns]"
            ]
          },
          "metadata": {
            "tags": []
          },
          "execution_count": 34
        }
      ]
    },
    {
      "cell_type": "code",
      "metadata": {
        "colab": {
          "base_uri": "https://localhost:8080/",
          "height": 165
        },
        "id": "4HmDNrnkm8l5",
        "outputId": "7b1042f9-9f1f-4419-ee15-a0abe46f9678"
      },
      "source": [
        "plt.figure(figsize=(18,4))\n",
        "plt.plot(kodex_200.date,result)\n",
        "plt.grid()\n",
        "plt.show()"
      ],
      "execution_count": 35,
      "outputs": [
        {
          "output_type": "display_data",
          "data": {
            "image/png": "[encoded data removed]",
            "text/plain": [
              "<Figure size 1296x288 with 1 Axes>"
            ]
          },
          "metadata": {
            "tags": [],
            "needs_background": "light"
          }
        }
      ]
    },
    {
      "cell_type": "code",
      "metadata": {
        "colab": {
          "base_uri": "https://localhost:8080/",
          "height": 190
        },
        "id": "cNqEwd5novsi",
        "outputId": "0a8ac78a-d42e-41b7-ab96-7e6923e7db46"
      },
      "source": [
        "plt.figure(figsize=(18,4))\n",
        "plt.plot(back_test.date,\n",
        "         back_test.backtest,\n",
        "         label='Backtest',\n",
        "         color='green',\n",
        "         linestyle='dashdot',\n",
        "         linewidth=3\n",
        "         )\n",
        "plt.plot(back_test.date, back_test.kospi, label='KOSPI', color='red', linestyle='dashed')\n",
        "\n",
        "plt.title('Backtesting Portfolio & Benchmark', fontsize=25)\n",
        "plt.xlabel('Year',fontsize=18)\n",
        "plt.ylabel('Asset Amount',fontsize=18)\n",
        "plt.grid()\n",
        "plt.legend(loc='best')\n",
        "plt.show()"
      ],
      "execution_count": 40,
      "outputs": [
        {
          "output_type": "display_data",
          "data": {
            "image/png": "[encoded data removed]",
            "text/plain": [
              "<Figure size 1296x288 with 1 Axes>"
            ]
          },
          "metadata": {
            "tags": [],
            "needs_background": "light"
          }
        }
      ]
    },
    {
      "cell_type": "markdown",
      "metadata": {
        "id": "f0EZKAX5vcfG"
      },
      "source": [
        "## compute CAGR"
      ]
    },
    {
      "cell_type": "code",
      "metadata": {
        "colab": {
          "base_uri": "https://localhost:8080/"
        },
        "id": "rSlFYJgnxWjV",
        "outputId": "fd3fbb7e-0518-4c53-a76c-f824ef9a141d"
      },
      "source": [
        "start, end = kodex_200.iloc[0].close, kodex_200.iloc[-1].close\n",
        "cagr = ((end/start)**(1/len(set(kodex_200.date.dt.year))) - 1) * 100\n",
        "print(\"%.2f\" % cagr, \"%\")"
      ],
      "execution_count": 41,
      "outputs": [
        {
          "output_type": "stream",
          "text": [
            "5.39 %\n"
          ],
          "name": "stdout"
        }
      ]
    },
    {
      "cell_type": "code",
      "metadata": {
        "colab": {
          "base_uri": "https://localhost:8080/"
        },
        "id": "G3XMJN9rxiuy",
        "outputId": "2564984f-c9f1-4cb2-8a8d-282531031fc4"
      },
      "source": [
        "start, end = result[0], result[-1]\n",
        "cagr = ((end/start)**(1/len(set(kodex_200.date.dt.year))) - 1) * 100\n",
        "print(\"%.2f\" % cagr, \"%\")"
      ],
      "execution_count": 44,
      "outputs": [
        {
          "output_type": "stream",
          "text": [
            "3.40 %\n"
          ],
          "name": "stdout"
        }
      ]
    },
    {
      "cell_type": "code",
      "metadata": {
        "id": "_fZ6YOtaxmQd"
      },
      "source": [
        ""
      ],
      "execution_count": null,
      "outputs": []
    }
  ]
}