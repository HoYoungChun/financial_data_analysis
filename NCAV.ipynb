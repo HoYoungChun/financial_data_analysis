{
  "nbformat": 4,
  "nbformat_minor": 0,
  "metadata": {
    "colab": {
      "name": "NCAV.ipynb",
      "provenance": [],
      "authorship_tag": "ABX9TyNW435QP8qD9uryTlc/o6Br",
      "include_colab_link": true
    },
    "kernelspec": {
      "name": "python3",
      "display_name": "Python 3"
    },
    "language_info": {
      "name": "python"
    }
  },
  "cells": [
    {
      "cell_type": "markdown",
      "metadata": {
        "id": "view-in-github",
        "colab_type": "text"
      },
      "source": [
        "<a href=\"https://colab.research.google.com/github/HoYoungChun/financial_data_analysis/blob/main/NCAV.ipynb\" target=\"_parent\"><img src=\"https://colab.research.google.com/assets/colab-badge.svg\" alt=\"Open In Colab\"/></a>"
      ]
    },
    {
      "cell_type": "markdown",
      "metadata": {
        "id": "-2SSUIj7SSF5"
      },
      "source": [
        "# NCAV(Net Current Asset Value)"
      ]
    },
    {
      "cell_type": "markdown",
      "metadata": {
        "id": "aASPGev1SXu6"
      },
      "source": [
        "### Basic Setting"
      ]
    },
    {
      "cell_type": "code",
      "metadata": {
        "id": "uLlL2GOrTPZm"
      },
      "source": [
        "import pandas as pd\n",
        "from tqdm import tqdm\n",
        "from bs4 import BeautifulSoup\n",
        "import urllib.request\n",
        "# !pip install bs4\n",
        "# !pip install urllib\n"
      ],
      "execution_count": 1,
      "outputs": []
    },
    {
      "cell_type": "code",
      "metadata": {
        "colab": {
          "base_uri": "https://localhost:8080/"
        },
        "id": "mhx3O5ZSTp7P",
        "outputId": "7fd4c677-e5c2-44fb-efc1-7e79bb8af1e1"
      },
      "source": [
        "from google.colab import drive\n",
        "drive.mount('/content/drive/')"
      ],
      "execution_count": 2,
      "outputs": [
        {
          "output_type": "stream",
          "text": [
            "Mounted at /content/drive/\n"
          ],
          "name": "stdout"
        }
      ]
    },
    {
      "cell_type": "code",
      "metadata": {
        "id": "k0Mlxd38VkBz"
      },
      "source": [
        "import pandas as pd\n",
        "\n",
        "csv_url = '/content/drive/MyDrive/Colab/financial_data_analysis/company.csv'\n",
        "\n",
        "company = pd.read_csv(csv_url, encoding='utf-8')"
      ],
      "execution_count": 3,
      "outputs": []
    },
    {
      "cell_type": "code",
      "metadata": {
        "colab": {
          "base_uri": "https://localhost:8080/"
        },
        "id": "NpPDzlwPVr0R",
        "outputId": "0fb6befe-1a2c-46c7-ee8d-32c51dca2340"
      },
      "source": [
        "SNAP_URL = 'https://comp.fnguide.com/SVO2/ASP/SVD_Main.asp?pGB=1&gicode=A{}&cID=&MenuYn=Y&ReportGB=&NewMenuID=101&stkGb=701'\n",
        "print(SNAP_URL)"
      ],
      "execution_count": 4,
      "outputs": [
        {
          "output_type": "stream",
          "text": [
            "https://comp.fnguide.com/SVO2/ASP/SVD_Main.asp?pGB=1&gicode=A{}&cID=&MenuYn=Y&ReportGB=&NewMenuID=101&stkGb=701\n"
          ],
          "name": "stdout"
        }
      ]
    },
    {
      "cell_type": "code",
      "metadata": {
        "colab": {
          "base_uri": "https://localhost:8080/"
        },
        "id": "iPnTh6_lVt9Q",
        "outputId": "a49f4f67-eeef-4bb4-f6b4-74467e41d014"
      },
      "source": [
        "FS_URL = 'https://comp.fnguide.com/SVO2/ASP/SVD_Finance.asp?pGB=1&gicode=A{}&cID=&MenuYn=Y&ReportGB=&NewMenuID=103&stkGb=701'\n",
        "print(FS_URL)"
      ],
      "execution_count": 5,
      "outputs": [
        {
          "output_type": "stream",
          "text": [
            "https://comp.fnguide.com/SVO2/ASP/SVD_Finance.asp?pGB=1&gicode=A{}&cID=&MenuYn=Y&ReportGB=&NewMenuID=103&stkGb=701\n"
          ],
          "name": "stdout"
        }
      ]
    },
    {
      "cell_type": "code",
      "metadata": {
        "id": "IrXR6W0MV5Fy"
      },
      "source": [
        "sample_code = '035720'"
      ],
      "execution_count": 6,
      "outputs": []
    },
    {
      "cell_type": "code",
      "metadata": {
        "id": "c1zh4dkpV9MM"
      },
      "source": [
        "fs = urllib.request.urlopen(FS_URL.format(sample_code)).read()\n",
        "fs_soup = BeautifulSoup(fs,'html.parser')"
      ],
      "execution_count": 11,
      "outputs": []
    },
    {
      "cell_type": "code",
      "metadata": {
        "id": "-W8Kk7vCXU07"
      },
      "source": [
        "snap = urllib.request.urlopen(SNAP_URL.format(sample_code)).read()\n",
        "snap_soup = BeautifulSoup(snap,'html.parser')"
      ],
      "execution_count": 13,
      "outputs": []
    },
    {
      "cell_type": "markdown",
      "metadata": {
        "id": "TnPNrPbgcTiA"
      },
      "source": [
        "### Market Value"
      ]
    },
    {
      "cell_type": "code",
      "metadata": {
        "colab": {
          "base_uri": "https://localhost:8080/"
        },
        "id": "RP5bfJU5ZIcD",
        "outputId": "54d0009e-d4d5-4228-a0ec-80eee46c6b95"
      },
      "source": [
        "snap_soup.find('div',{'id':\"svdMainGrid1\"}).find_all('td',{'class':'r'})"
      ],
      "execution_count": 24,
      "outputs": [
        {
          "output_type": "execute_result",
          "data": {
            "text/plain": [
              "[<td class=\"r\">157,500/ <span class=\"tcr\">+500</span></td>,\n",
              " <td class=\"cle r\"> 2,045,164</td>,\n",
              " <td class=\"r\">169,500/ 62,222</td>,\n",
              " <td class=\"cle r\"> 3,225</td>,\n",
              " <td class=\"r\"><span class=\"tcr\">+27.02</span>/ <span class=\"tcr\">+44.24</span>/ <span class=\"tcr\">+98.40</span>/ <span class=\"tcr\">+161.13</span>\n",
              " <input id=\"c3M\" type=\"hidden\" value=\"44.24\"/><input id=\"c1Y\" type=\"hidden\" value=\"161.13\"/><input id=\"c3Y\" type=\"hidden\" value=\"585.32\"/></td>,\n",
              " <td class=\"cle r\">32.03</td>,\n",
              " <td class=\"r\">699,189</td>,\n",
              " <td class=\"cle r\">0.74595</td>,\n",
              " <td class=\"r\">699,189</td>,\n",
              " <td class=\"cle r\">100</td>,\n",
              " <td class=\"r\">444,460,230/ 0</td>,\n",
              " <td class=\"cle r\">323,743,012 / 72.93</td>]"
            ]
          },
          "metadata": {
            "tags": []
          },
          "execution_count": 24
        }
      ]
    },
    {
      "cell_type": "code",
      "metadata": {
        "colab": {
          "base_uri": "https://localhost:8080/"
        },
        "id": "ESYujxinZ_d4",
        "outputId": "fea67f0f-ce7f-42f5-8854-ba3a2ed4687e"
      },
      "source": [
        "!cd drive\n",
        "!ls"
      ],
      "execution_count": 23,
      "outputs": [
        {
          "output_type": "stream",
          "text": [
            "drive  sample_data\n"
          ],
          "name": "stdout"
        }
      ]
    },
    {
      "cell_type": "code",
      "metadata": {
        "id": "HVg9vAbecsKI"
      },
      "source": [
        ""
      ],
      "execution_count": null,
      "outputs": []
    }
  ]
}