{
  "nbformat": 4,
  "nbformat_minor": 0,
  "metadata": {
    "colab": {
      "name": "NCAV.ipynb",
      "provenance": [],
      "authorship_tag": "ABX9TyMVm7Egg7DIxb9NiWz9n+/7",
      "include_colab_link": true
    },
    "kernelspec": {
      "name": "python3",
      "display_name": "Python 3"
    },
    "language_info": {
      "name": "python"
    }
  },
  "cells": [
    {
      "cell_type": "markdown",
      "metadata": {
        "id": "view-in-github",
        "colab_type": "text"
      },
      "source": [
        "<a href=\"https://colab.research.google.com/github/HoYoungChun/financial_data_analysis/blob/main/NCAV.ipynb\" target=\"_parent\"><img src=\"https://colab.research.google.com/assets/colab-badge.svg\" alt=\"Open In Colab\"/></a>"
      ]
    },
    {
      "cell_type": "markdown",
      "metadata": {
        "id": "-2SSUIj7SSF5"
      },
      "source": [
        "# NCAV(Net Current Asset Value)"
      ]
    },
    {
      "cell_type": "markdown",
      "metadata": {
        "id": "aASPGev1SXu6"
      },
      "source": [
        "### Basic Setting"
      ]
    },
    {
      "cell_type": "code",
      "metadata": {
        "id": "uLlL2GOrTPZm"
      },
      "source": [
        "import pandas as pd\n",
        "from tqdm import tqdm\n",
        "from bs4 import BeautifulSoup\n",
        "import urllib.request\n",
        "# !pip install bs4\n",
        "# !pip install urllib\n"
      ],
      "execution_count": 1,
      "outputs": []
    },
    {
      "cell_type": "code",
      "metadata": {
        "colab": {
          "base_uri": "https://localhost:8080/"
        },
        "id": "mhx3O5ZSTp7P",
        "outputId": "7fd4c677-e5c2-44fb-efc1-7e79bb8af1e1"
      },
      "source": [
        "from google.colab import drive\n",
        "drive.mount('/content/drive/')"
      ],
      "execution_count": 2,
      "outputs": [
        {
          "output_type": "stream",
          "text": [
            "Mounted at /content/drive/\n"
          ],
          "name": "stdout"
        }
      ]
    },
    {
      "cell_type": "code",
      "metadata": {
        "id": "k0Mlxd38VkBz"
      },
      "source": [
        "import pandas as pd\n",
        "\n",
        "csv_url = '/content/drive/MyDrive/Colab/financial_data_analysis/company.csv'\n",
        "\n",
        "company = pd.read_csv(csv_url, encoding='utf-8')"
      ],
      "execution_count": 3,
      "outputs": []
    },
    {
      "cell_type": "code",
      "metadata": {
        "colab": {
          "base_uri": "https://localhost:8080/"
        },
        "id": "NpPDzlwPVr0R",
        "outputId": "0fb6befe-1a2c-46c7-ee8d-32c51dca2340"
      },
      "source": [
        "SNAP_URL = 'https://comp.fnguide.com/SVO2/ASP/SVD_Main.asp?pGB=1&gicode=A{}&cID=&MenuYn=Y&ReportGB=&NewMenuID=101&stkGb=701'\n",
        "print(SNAP_URL)"
      ],
      "execution_count": 4,
      "outputs": [
        {
          "output_type": "stream",
          "text": [
            "https://comp.fnguide.com/SVO2/ASP/SVD_Main.asp?pGB=1&gicode=A{}&cID=&MenuYn=Y&ReportGB=&NewMenuID=101&stkGb=701\n"
          ],
          "name": "stdout"
        }
      ]
    },
    {
      "cell_type": "code",
      "metadata": {
        "colab": {
          "base_uri": "https://localhost:8080/"
        },
        "id": "iPnTh6_lVt9Q",
        "outputId": "a49f4f67-eeef-4bb4-f6b4-74467e41d014"
      },
      "source": [
        "FS_URL = 'https://comp.fnguide.com/SVO2/ASP/SVD_Finance.asp?pGB=1&gicode=A{}&cID=&MenuYn=Y&ReportGB=&NewMenuID=103&stkGb=701'\n",
        "print(FS_URL)"
      ],
      "execution_count": 5,
      "outputs": [
        {
          "output_type": "stream",
          "text": [
            "https://comp.fnguide.com/SVO2/ASP/SVD_Finance.asp?pGB=1&gicode=A{}&cID=&MenuYn=Y&ReportGB=&NewMenuID=103&stkGb=701\n"
          ],
          "name": "stdout"
        }
      ]
    },
    {
      "cell_type": "code",
      "metadata": {
        "id": "IrXR6W0MV5Fy"
      },
      "source": [
        "sample_code = '035720'"
      ],
      "execution_count": 6,
      "outputs": []
    },
    {
      "cell_type": "code",
      "metadata": {
        "id": "c1zh4dkpV9MM"
      },
      "source": [
        "fs = urllib.request.urlopen(FS_URL.format(sample_code)).read()\n",
        "fs_soup = BeautifulSoup(fs,'html.parser')"
      ],
      "execution_count": 11,
      "outputs": []
    },
    {
      "cell_type": "code",
      "metadata": {
        "id": "-W8Kk7vCXU07"
      },
      "source": [
        "snap = urllib.request.urlopen(SNAP_URL.format(sample_code)).read()\n",
        "snap_soup = BeautifulSoup(snap,'html.parser')"
      ],
      "execution_count": 13,
      "outputs": []
    },
    {
      "cell_type": "markdown",
      "metadata": {
        "id": "TnPNrPbgcTiA"
      },
      "source": [
        "### Market Value(시가총액)"
      ]
    },
    {
      "cell_type": "code",
      "metadata": {
        "colab": {
          "base_uri": "https://localhost:8080/"
        },
        "id": "RP5bfJU5ZIcD",
        "outputId": "b285a858-ee08-463c-8571-52faaadaf195"
      },
      "source": [
        "mv_sells = snap_soup.find('div',{'id':\"svdMainGrid1\"}).find_all('td',{'class':'r'})\n",
        "market_value = float(mv_sells[8].string.replace(',',''))\n",
        "market_value"
      ],
      "execution_count": 29,
      "outputs": [
        {
          "output_type": "execute_result",
          "data": {
            "text/plain": [
              "699189.0"
            ]
          },
          "metadata": {
            "tags": []
          },
          "execution_count": 29
        }
      ]
    },
    {
      "cell_type": "markdown",
      "metadata": {
        "id": "1tWVnRNIoFeP"
      },
      "source": [
        "### Current Asset(유동자산)"
      ]
    },
    {
      "cell_type": "code",
      "metadata": {
        "colab": {
          "base_uri": "https://localhost:8080/"
        },
        "id": "HVg9vAbecsKI",
        "outputId": "8fd93ab4-b50b-4e73-e30b-b4e6e657f87c"
      },
      "source": [
        "ca_cells = fs_soup.find('tr',{'id':\"p_grid2_2\"}).find_all('td',{'class':'r cle'})\n",
        "current_asset = float(ca_cells[0].string.replace(',',''))\n",
        "current_asset"
      ],
      "execution_count": 33,
      "outputs": [
        {
          "output_type": "execute_result",
          "data": {
            "text/plain": [
              "52079.0"
            ]
          },
          "metadata": {
            "tags": []
          },
          "execution_count": 33
        }
      ]
    },
    {
      "cell_type": "markdown",
      "metadata": {
        "id": "ofpDPQ7DknHq"
      },
      "source": [
        "### Total Debt(총부채)"
      ]
    },
    {
      "cell_type": "code",
      "metadata": {
        "colab": {
          "base_uri": "https://localhost:8080/"
        },
        "id": "8Z02Zotfmpjo",
        "outputId": "bece8e7a-a341-46ae-9f99-b02140268b29"
      },
      "source": [
        "debt_cells = fs_soup.find('div',{'id':\"divDaechaY\"}).find_all('tr',{'class':'rwf rowBold'})\n",
        "total_debt = float(debt_cells[1].find('td',{'class':'r cle'}).string.replace(',',''))\n",
        "total_debt"
      ],
      "execution_count": 40,
      "outputs": [
        {
          "output_type": "execute_result",
          "data": {
            "text/plain": [
              "56369.0"
            ]
          },
          "metadata": {
            "tags": []
          },
          "execution_count": 40
        }
      ]
    },
    {
      "cell_type": "code",
      "metadata": {
        "colab": {
          "base_uri": "https://localhost:8080/"
        },
        "id": "YihOVWz2nGzF",
        "outputId": "58a6dc7b-023d-4655-92c8-7fd75cd81583"
      },
      "source": [
        "debt_list=[]\n",
        "for debt in debt_cells[1]:\n",
        "  if debt != '\\n':\n",
        "    debt_list.append(debt.string)\n",
        "total_debt = float(debt_list[-1].replace(',',''))\n",
        "total_debt"
      ],
      "execution_count": 46,
      "outputs": [
        {
          "output_type": "execute_result",
          "data": {
            "text/plain": [
              "56369.0"
            ]
          },
          "metadata": {
            "tags": []
          },
          "execution_count": 46
        }
      ]
    },
    {
      "cell_type": "markdown",
      "metadata": {
        "id": "yX7pqVmro1F4"
      },
      "source": [
        "### Net Income(당기순이익)"
      ]
    },
    {
      "cell_type": "code",
      "metadata": {
        "colab": {
          "base_uri": "https://localhost:8080/"
        },
        "id": "5B2-Pp2nq_Dm",
        "outputId": "5149796c-420e-4a37-aae6-aefc921da28e"
      },
      "source": [
        "income_cells = fs_soup.find('div',{'id':'divSonikY'}).find_all('tr',{'class':'rwf rowBold'})\n",
        "net_income = float(income_cells[-1].find_all('td',{'class':'r'})[-3].string.replace(',',''))\n",
        "net_income"
      ],
      "execution_count": 52,
      "outputs": [
        {
          "output_type": "execute_result",
          "data": {
            "text/plain": [
              "2399.0"
            ]
          },
          "metadata": {
            "tags": []
          },
          "execution_count": 52
        }
      ]
    },
    {
      "cell_type": "code",
      "metadata": {
        "id": "SZkVWtqBu37P"
      },
      "source": [
        ""
      ],
      "execution_count": null,
      "outputs": []
    }
  ]
}