{
  "nbformat": 4,
  "nbformat_minor": 0,
  "metadata": {
    "colab": {
      "name": "Magic_Fomula(pandas).ipynb",
      "provenance": [],
      "authorship_tag": "ABX9TyPhMeLPUfxFmoYCJV2kFRNI",
      "include_colab_link": true
    },
    "kernelspec": {
      "name": "python3",
      "display_name": "Python 3"
    },
    "language_info": {
      "name": "python"
    }
  },
  "cells": [
    {
      "cell_type": "markdown",
      "metadata": {
        "id": "view-in-github",
        "colab_type": "text"
      },
      "source": [
        "<a href=\"https://colab.research.google.com/github/HoYoungChun/financial_data_analysis/blob/main/Magic_Fomula(pandas).ipynb\" target=\"_parent\"><img src=\"https://colab.research.google.com/assets/colab-badge.svg\" alt=\"Open In Colab\"/></a>"
      ]
    },
    {
      "cell_type": "code",
      "metadata": {
        "colab": {
          "base_uri": "https://localhost:8080/"
        },
        "id": "CtgjuWRlbSyL",
        "outputId": "973e08bb-2f16-4575-8411-412459d01522"
      },
      "source": [
        "from google.colab import drive\n",
        "drive.mount('/content/drive/')"
      ],
      "execution_count": 1,
      "outputs": [
        {
          "output_type": "stream",
          "text": [
            "Mounted at /content/drive/\n"
          ],
          "name": "stdout"
        }
      ]
    },
    {
      "cell_type": "code",
      "metadata": {
        "id": "LAoJCc6BbYVL"
      },
      "source": [
        "import pandas as pd\n",
        "\n",
        "csv_url = '/content/drive/MyDrive/Colab/financial_data_analysis/company.csv'\n",
        "\n",
        "company = pd.read_csv(csv_url, encoding='utf-8')"
      ],
      "execution_count": 2,
      "outputs": []
    },
    {
      "cell_type": "code",
      "metadata": {
        "colab": {
          "base_uri": "https://localhost:8080/",
          "height": 302
        },
        "id": "RP68KB4dbnnJ",
        "outputId": "84cda937-61a2-4ed6-a763-38d9d6e176c3"
      },
      "source": [
        "company.tail()"
      ],
      "execution_count": 8,
      "outputs": [
        {
          "output_type": "execute_result",
          "data": {
            "text/html": [
              "<div>\n",
              "<style scoped>\n",
              "    .dataframe tbody tr th:only-of-type {\n",
              "        vertical-align: middle;\n",
              "    }\n",
              "\n",
              "    .dataframe tbody tr th {\n",
              "        vertical-align: top;\n",
              "    }\n",
              "\n",
              "    .dataframe thead th {\n",
              "        text-align: right;\n",
              "    }\n",
              "</style>\n",
              "<table border=\"1\" class=\"dataframe\">\n",
              "  <thead>\n",
              "    <tr style=\"text-align: right;\">\n",
              "      <th></th>\n",
              "      <th>분류</th>\n",
              "      <th>회사명</th>\n",
              "      <th>종목코드</th>\n",
              "      <th>업종</th>\n",
              "      <th>주요제품</th>\n",
              "      <th>상장일</th>\n",
              "      <th>결산월</th>\n",
              "      <th>대표자명</th>\n",
              "      <th>홈페이지</th>\n",
              "      <th>지역</th>\n",
              "      <th>구글코드</th>\n",
              "    </tr>\n",
              "  </thead>\n",
              "  <tbody>\n",
              "    <tr>\n",
              "      <th>2017</th>\n",
              "      <td>코스닥</td>\n",
              "      <td>하이록코리아</td>\n",
              "      <td>013030</td>\n",
              "      <td>1차 철강 제조업</td>\n",
              "      <td>관이음쇠</td>\n",
              "      <td>1989-12-15</td>\n",
              "      <td>12월</td>\n",
              "      <td>문휴건, 문창환 각자대표이사</td>\n",
              "      <td>http://www.hy-lok.com</td>\n",
              "      <td>부산광역시</td>\n",
              "      <td>KOSDAQ:013030</td>\n",
              "    </tr>\n",
              "    <tr>\n",
              "      <th>2018</th>\n",
              "      <td>코스닥</td>\n",
              "      <td>SBI인베스트먼트</td>\n",
              "      <td>019550</td>\n",
              "      <td>신탁업 및 집합투자업</td>\n",
              "      <td>벤처캐피탈</td>\n",
              "      <td>1989-09-06</td>\n",
              "      <td>12월</td>\n",
              "      <td>다까하시 요시미</td>\n",
              "      <td>http://www.sbik.co.kr</td>\n",
              "      <td>서울특별시</td>\n",
              "      <td>KOSDAQ:019550</td>\n",
              "    </tr>\n",
              "    <tr>\n",
              "      <th>2019</th>\n",
              "      <td>코스닥</td>\n",
              "      <td>엠벤처투자</td>\n",
              "      <td>019590</td>\n",
              "      <td>신탁업 및 집합투자업</td>\n",
              "      <td>벤처캐피탈</td>\n",
              "      <td>1989-03-14</td>\n",
              "      <td>12월</td>\n",
              "      <td>홍성혁</td>\n",
              "      <td>http://www.m-vc.co.kr</td>\n",
              "      <td>서울특별시</td>\n",
              "      <td>KOSDAQ:019590</td>\n",
              "    </tr>\n",
              "    <tr>\n",
              "      <th>2020</th>\n",
              "      <td>코스닥</td>\n",
              "      <td>제미니투자</td>\n",
              "      <td>019570</td>\n",
              "      <td>신탁업 및 집합투자업</td>\n",
              "      <td>벤처캐피탈</td>\n",
              "      <td>1989-03-14</td>\n",
              "      <td>03월</td>\n",
              "      <td>정진식</td>\n",
              "      <td>http://www.geminivc.co.kr</td>\n",
              "      <td>서울특별시</td>\n",
              "      <td>KOSDAQ:019570</td>\n",
              "    </tr>\n",
              "    <tr>\n",
              "      <th>2021</th>\n",
              "      <td>코스닥</td>\n",
              "      <td>모헨즈</td>\n",
              "      <td>006920</td>\n",
              "      <td>시멘트, 석회, 플라스터 및 그 제품 제조업</td>\n",
              "      <td>레미콘</td>\n",
              "      <td>1989-01-05</td>\n",
              "      <td>12월</td>\n",
              "      <td>이기명</td>\n",
              "      <td>http://www.imohenz.com</td>\n",
              "      <td>충청남도</td>\n",
              "      <td>KOSDAQ:006920</td>\n",
              "    </tr>\n",
              "  </tbody>\n",
              "</table>\n",
              "</div>"
            ],
            "text/plain": [
              "       분류        회사명    종목코드  ...                       홈페이지     지역           구글코드\n",
              "2017  코스닥     하이록코리아  013030  ...      http://www.hy-lok.com  부산광역시  KOSDAQ:013030\n",
              "2018  코스닥  SBI인베스트먼트  019550  ...      http://www.sbik.co.kr  서울특별시  KOSDAQ:019550\n",
              "2019  코스닥      엠벤처투자  019590  ...      http://www.m-vc.co.kr  서울특별시  KOSDAQ:019590\n",
              "2020  코스닥      제미니투자  019570  ...  http://www.geminivc.co.kr  서울특별시  KOSDAQ:019570\n",
              "2021  코스닥        모헨즈  006920  ...     http://www.imohenz.com   충청남도  KOSDAQ:006920\n",
              "\n",
              "[5 rows x 11 columns]"
            ]
          },
          "metadata": {
            "tags": []
          },
          "execution_count": 8
        }
      ]
    },
    {
      "cell_type": "code",
      "metadata": {
        "colab": {
          "base_uri": "https://localhost:8080/"
        },
        "id": "uhO_hE5CbpeN",
        "outputId": "06ba6d26-e512-4f6a-8c77-43c6f40915ee"
      },
      "source": [
        "type(company)"
      ],
      "execution_count": 9,
      "outputs": [
        {
          "output_type": "execute_result",
          "data": {
            "text/plain": [
              "pandas.core.frame.DataFrame"
            ]
          },
          "metadata": {
            "tags": []
          },
          "execution_count": 9
        }
      ]
    },
    {
      "cell_type": "code",
      "metadata": {
        "colab": {
          "base_uri": "https://localhost:8080/"
        },
        "id": "4qEAvFXBcdtN",
        "outputId": "10e256b8-423a-4f8a-e865-ac5f98627a9a"
      },
      "source": [
        "type(company['종목코드'])"
      ],
      "execution_count": 10,
      "outputs": [
        {
          "output_type": "execute_result",
          "data": {
            "text/plain": [
              "pandas.core.series.Series"
            ]
          },
          "metadata": {
            "tags": []
          },
          "execution_count": 10
        }
      ]
    },
    {
      "cell_type": "code",
      "metadata": {
        "colab": {
          "base_uri": "https://localhost:8080/",
          "height": 202
        },
        "id": "ek5mje5hcoii",
        "outputId": "b56713ea-2a50-4544-d13a-92d87d6c0cc6"
      },
      "source": [
        "company[['회사명','종목코드']].head()"
      ],
      "execution_count": 12,
      "outputs": [
        {
          "output_type": "execute_result",
          "data": {
            "text/html": [
              "<div>\n",
              "<style scoped>\n",
              "    .dataframe tbody tr th:only-of-type {\n",
              "        vertical-align: middle;\n",
              "    }\n",
              "\n",
              "    .dataframe tbody tr th {\n",
              "        vertical-align: top;\n",
              "    }\n",
              "\n",
              "    .dataframe thead th {\n",
              "        text-align: right;\n",
              "    }\n",
              "</style>\n",
              "<table border=\"1\" class=\"dataframe\">\n",
              "  <thead>\n",
              "    <tr style=\"text-align: right;\">\n",
              "      <th></th>\n",
              "      <th>회사명</th>\n",
              "      <th>종목코드</th>\n",
              "    </tr>\n",
              "  </thead>\n",
              "  <tbody>\n",
              "    <tr>\n",
              "      <th>0</th>\n",
              "      <td>두산우</td>\n",
              "      <td>000155</td>\n",
              "    </tr>\n",
              "    <tr>\n",
              "      <th>1</th>\n",
              "      <td>한화3우B</td>\n",
              "      <td>00088K</td>\n",
              "    </tr>\n",
              "    <tr>\n",
              "      <th>2</th>\n",
              "      <td>S-Oil우</td>\n",
              "      <td>010955</td>\n",
              "    </tr>\n",
              "    <tr>\n",
              "      <th>3</th>\n",
              "      <td>LG화학우</td>\n",
              "      <td>051915</td>\n",
              "    </tr>\n",
              "    <tr>\n",
              "      <th>4</th>\n",
              "      <td>한국금융지주우</td>\n",
              "      <td>071055</td>\n",
              "    </tr>\n",
              "  </tbody>\n",
              "</table>\n",
              "</div>"
            ],
            "text/plain": [
              "       회사명    종목코드\n",
              "0      두산우  000155\n",
              "1    한화3우B  00088K\n",
              "2   S-Oil우  010955\n",
              "3    LG화학우  051915\n",
              "4  한국금융지주우  071055"
            ]
          },
          "metadata": {
            "tags": []
          },
          "execution_count": 12
        }
      ]
    },
    {
      "cell_type": "code",
      "metadata": {
        "colab": {
          "base_uri": "https://localhost:8080/",
          "height": 172
        },
        "id": "p3sxaT1LcsXG",
        "outputId": "f8551895-7110-4fc8-e54a-169466392d1c"
      },
      "source": [
        "#company.loc[100:110]\n",
        "ids= [1,5,100,2010]\n",
        "column_names = ['분류','회사명','종목코드']\n",
        "company.loc[ids][column_names]"
      ],
      "execution_count": 22,
      "outputs": [
        {
          "output_type": "execute_result",
          "data": {
            "text/html": [
              "<div>\n",
              "<style scoped>\n",
              "    .dataframe tbody tr th:only-of-type {\n",
              "        vertical-align: middle;\n",
              "    }\n",
              "\n",
              "    .dataframe tbody tr th {\n",
              "        vertical-align: top;\n",
              "    }\n",
              "\n",
              "    .dataframe thead th {\n",
              "        text-align: right;\n",
              "    }\n",
              "</style>\n",
              "<table border=\"1\" class=\"dataframe\">\n",
              "  <thead>\n",
              "    <tr style=\"text-align: right;\">\n",
              "      <th></th>\n",
              "      <th>분류</th>\n",
              "      <th>회사명</th>\n",
              "      <th>종목코드</th>\n",
              "    </tr>\n",
              "  </thead>\n",
              "  <tbody>\n",
              "    <tr>\n",
              "      <th>1</th>\n",
              "      <td>코스피</td>\n",
              "      <td>한화3우B</td>\n",
              "      <td>00088K</td>\n",
              "    </tr>\n",
              "    <tr>\n",
              "      <th>5</th>\n",
              "      <td>코스피</td>\n",
              "      <td>GS우</td>\n",
              "      <td>078935</td>\n",
              "    </tr>\n",
              "    <tr>\n",
              "      <th>100</th>\n",
              "      <td>코스피</td>\n",
              "      <td>휴비스</td>\n",
              "      <td>079980</td>\n",
              "    </tr>\n",
              "    <tr>\n",
              "      <th>2010</th>\n",
              "      <td>코스닥</td>\n",
              "      <td>글로본</td>\n",
              "      <td>019660</td>\n",
              "    </tr>\n",
              "  </tbody>\n",
              "</table>\n",
              "</div>"
            ],
            "text/plain": [
              "       분류    회사명    종목코드\n",
              "1     코스피  한화3우B  00088K\n",
              "5     코스피    GS우  078935\n",
              "100   코스피    휴비스  079980\n",
              "2010  코스닥    글로본  019660"
            ]
          },
          "metadata": {
            "tags": []
          },
          "execution_count": 22
        }
      ]
    },
    {
      "cell_type": "code",
      "metadata": {
        "id": "YSylYCoVfe8R"
      },
      "source": [
        "kospi = company[company['분류']=='코스피']\n",
        "kosdaq = company[company['분류']=='코스닥']"
      ],
      "execution_count": 28,
      "outputs": []
    },
    {
      "cell_type": "code",
      "metadata": {
        "colab": {
          "base_uri": "https://localhost:8080/",
          "height": 172
        },
        "id": "PSyAQz9LfmqU",
        "outputId": "ae10cd40-e68f-4e90-edae-dc4eebd69e74"
      },
      "source": [
        "ids=[1,4,7,10]\n",
        "kospi.loc[ids, column_names]"
      ],
      "execution_count": 27,
      "outputs": [
        {
          "output_type": "execute_result",
          "data": {
            "text/html": [
              "<div>\n",
              "<style scoped>\n",
              "    .dataframe tbody tr th:only-of-type {\n",
              "        vertical-align: middle;\n",
              "    }\n",
              "\n",
              "    .dataframe tbody tr th {\n",
              "        vertical-align: top;\n",
              "    }\n",
              "\n",
              "    .dataframe thead th {\n",
              "        text-align: right;\n",
              "    }\n",
              "</style>\n",
              "<table border=\"1\" class=\"dataframe\">\n",
              "  <thead>\n",
              "    <tr style=\"text-align: right;\">\n",
              "      <th></th>\n",
              "      <th>분류</th>\n",
              "      <th>회사명</th>\n",
              "      <th>종목코드</th>\n",
              "    </tr>\n",
              "  </thead>\n",
              "  <tbody>\n",
              "    <tr>\n",
              "      <th>1</th>\n",
              "      <td>코스피</td>\n",
              "      <td>한화3우B</td>\n",
              "      <td>00088K</td>\n",
              "    </tr>\n",
              "    <tr>\n",
              "      <th>4</th>\n",
              "      <td>코스피</td>\n",
              "      <td>한국금융지주우</td>\n",
              "      <td>071055</td>\n",
              "    </tr>\n",
              "    <tr>\n",
              "      <th>7</th>\n",
              "      <td>코스피</td>\n",
              "      <td>코오롱인더우</td>\n",
              "      <td>120115</td>\n",
              "    </tr>\n",
              "    <tr>\n",
              "      <th>10</th>\n",
              "      <td>코스피</td>\n",
              "      <td>삼성전기우</td>\n",
              "      <td>009155</td>\n",
              "    </tr>\n",
              "  </tbody>\n",
              "</table>\n",
              "</div>"
            ],
            "text/plain": [
              "     분류      회사명    종목코드\n",
              "1   코스피    한화3우B  00088K\n",
              "4   코스피  한국금융지주우  071055\n",
              "7   코스피   코오롱인더우  120115\n",
              "10  코스피    삼성전기우  009155"
            ]
          },
          "metadata": {
            "tags": []
          },
          "execution_count": 27
        }
      ]
    },
    {
      "cell_type": "code",
      "metadata": {
        "colab": {
          "base_uri": "https://localhost:8080/",
          "height": 79
        },
        "id": "dI-f9wlSgKOA",
        "outputId": "144f8d9e-8d60-4d8c-821a-d1e75802c317"
      },
      "source": [
        "kakao = company[company['회사명']=='카카오'][column_names]\n",
        "kakao"
      ],
      "execution_count": 33,
      "outputs": [
        {
          "output_type": "execute_result",
          "data": {
            "text/html": [
              "<div>\n",
              "<style scoped>\n",
              "    .dataframe tbody tr th:only-of-type {\n",
              "        vertical-align: middle;\n",
              "    }\n",
              "\n",
              "    .dataframe tbody tr th {\n",
              "        vertical-align: top;\n",
              "    }\n",
              "\n",
              "    .dataframe thead th {\n",
              "        text-align: right;\n",
              "    }\n",
              "</style>\n",
              "<table border=\"1\" class=\"dataframe\">\n",
              "  <thead>\n",
              "    <tr style=\"text-align: right;\">\n",
              "      <th></th>\n",
              "      <th>분류</th>\n",
              "      <th>회사명</th>\n",
              "      <th>종목코드</th>\n",
              "    </tr>\n",
              "  </thead>\n",
              "  <tbody>\n",
              "    <tr>\n",
              "      <th>16</th>\n",
              "      <td>코스피</td>\n",
              "      <td>카카오</td>\n",
              "      <td>035720</td>\n",
              "    </tr>\n",
              "  </tbody>\n",
              "</table>\n",
              "</div>"
            ],
            "text/plain": [
              "     분류  회사명    종목코드\n",
              "16  코스피  카카오  035720"
            ]
          },
          "metadata": {
            "tags": []
          },
          "execution_count": 33
        }
      ]
    },
    {
      "cell_type": "code",
      "metadata": {
        "colab": {
          "base_uri": "https://localhost:8080/",
          "height": 141
        },
        "id": "Ny_rEYK5ggjg",
        "outputId": "8e323776-bbaf-42bc-8202-39c5f58fbb71"
      },
      "source": [
        "# 관심종목 list\n",
        "interested=['한화','삼성전자','카카오']\n",
        "\n",
        "# list를 사용한 복수의 기업 DataFrame filtering\n",
        "company[company['회사명'].isin(interested)][column_names]"
      ],
      "execution_count": 38,
      "outputs": [
        {
          "output_type": "execute_result",
          "data": {
            "text/html": [
              "<div>\n",
              "<style scoped>\n",
              "    .dataframe tbody tr th:only-of-type {\n",
              "        vertical-align: middle;\n",
              "    }\n",
              "\n",
              "    .dataframe tbody tr th {\n",
              "        vertical-align: top;\n",
              "    }\n",
              "\n",
              "    .dataframe thead th {\n",
              "        text-align: right;\n",
              "    }\n",
              "</style>\n",
              "<table border=\"1\" class=\"dataframe\">\n",
              "  <thead>\n",
              "    <tr style=\"text-align: right;\">\n",
              "      <th></th>\n",
              "      <th>분류</th>\n",
              "      <th>회사명</th>\n",
              "      <th>종목코드</th>\n",
              "    </tr>\n",
              "  </thead>\n",
              "  <tbody>\n",
              "    <tr>\n",
              "      <th>16</th>\n",
              "      <td>코스피</td>\n",
              "      <td>카카오</td>\n",
              "      <td>035720</td>\n",
              "    </tr>\n",
              "    <tr>\n",
              "      <th>671</th>\n",
              "      <td>코스피</td>\n",
              "      <td>한화</td>\n",
              "      <td>000880</td>\n",
              "    </tr>\n",
              "    <tr>\n",
              "      <th>714</th>\n",
              "      <td>코스피</td>\n",
              "      <td>삼성전자</td>\n",
              "      <td>005930</td>\n",
              "    </tr>\n",
              "  </tbody>\n",
              "</table>\n",
              "</div>"
            ],
            "text/plain": [
              "      분류   회사명    종목코드\n",
              "16   코스피   카카오  035720\n",
              "671  코스피    한화  000880\n",
              "714  코스피  삼성전자  005930"
            ]
          },
          "metadata": {
            "tags": []
          },
          "execution_count": 38
        }
      ]
    },
    {
      "cell_type": "markdown",
      "metadata": {
        "id": "fLWb3fj7hIVU"
      },
      "source": [
        "## Missing value == 결측치"
      ]
    },
    {
      "cell_type": "code",
      "metadata": {
        "colab": {
          "base_uri": "https://localhost:8080/",
          "height": 79
        },
        "id": "6rOOjZCZiYxu",
        "outputId": "61419bee-06d0-4884-f967-45dd60119288"
      },
      "source": [
        "#NaN = Not a Number\n",
        "company[company['종목코드'].isnull()]"
      ],
      "execution_count": 48,
      "outputs": [
        {
          "output_type": "execute_result",
          "data": {
            "text/html": [
              "<div>\n",
              "<style scoped>\n",
              "    .dataframe tbody tr th:only-of-type {\n",
              "        vertical-align: middle;\n",
              "    }\n",
              "\n",
              "    .dataframe tbody tr th {\n",
              "        vertical-align: top;\n",
              "    }\n",
              "\n",
              "    .dataframe thead th {\n",
              "        text-align: right;\n",
              "    }\n",
              "</style>\n",
              "<table border=\"1\" class=\"dataframe\">\n",
              "  <thead>\n",
              "    <tr style=\"text-align: right;\">\n",
              "      <th></th>\n",
              "      <th>분류</th>\n",
              "      <th>회사명</th>\n",
              "      <th>종목코드</th>\n",
              "      <th>업종</th>\n",
              "      <th>주요제품</th>\n",
              "      <th>상장일</th>\n",
              "      <th>결산월</th>\n",
              "      <th>대표자명</th>\n",
              "      <th>홈페이지</th>\n",
              "      <th>지역</th>\n",
              "      <th>구글코드</th>\n",
              "    </tr>\n",
              "  </thead>\n",
              "  <tbody>\n",
              "    <tr>\n",
              "      <th>14</th>\n",
              "      <td>NaN</td>\n",
              "      <td>NaN</td>\n",
              "      <td>NaN</td>\n",
              "      <td>NaN</td>\n",
              "      <td>NaN</td>\n",
              "      <td>NaN</td>\n",
              "      <td>NaN</td>\n",
              "      <td>NaN</td>\n",
              "      <td>NaN</td>\n",
              "      <td>NaN</td>\n",
              "      <td>NaN</td>\n",
              "    </tr>\n",
              "  </tbody>\n",
              "</table>\n",
              "</div>"
            ],
            "text/plain": [
              "     분류  회사명 종목코드   업종 주요제품  상장일  결산월 대표자명 홈페이지   지역 구글코드\n",
              "14  NaN  NaN  NaN  NaN  NaN  NaN  NaN  NaN  NaN  NaN  NaN"
            ]
          },
          "metadata": {
            "tags": []
          },
          "execution_count": 48
        }
      ]
    },
    {
      "cell_type": "code",
      "metadata": {
        "colab": {
          "base_uri": "https://localhost:8080/"
        },
        "id": "v3J4P2Txi_8h",
        "outputId": "b8b8fe72-4797-4eae-d088-3dc5abacaac6"
      },
      "source": [
        "company['종목코드'].dropna()[:15]"
      ],
      "execution_count": 49,
      "outputs": [
        {
          "output_type": "execute_result",
          "data": {
            "text/plain": [
              "0     000155\n",
              "1     00088K\n",
              "2     010955\n",
              "3     051915\n",
              "4     071055\n",
              "5     078935\n",
              "6     096775\n",
              "7     120115\n",
              "8     000815\n",
              "9     005387\n",
              "10    009155\n",
              "11    003545\n",
              "12    009835\n",
              "13    001275\n",
              "15    271980\n",
              "Name: 종목코드, dtype: object"
            ]
          },
          "metadata": {
            "tags": []
          },
          "execution_count": 49
        }
      ]
    },
    {
      "cell_type": "code",
      "metadata": {
        "id": "EyHhpuMqj0Yn"
      },
      "source": [
        "#company.dropna(how='any') #한 column이라도 NaN이면 제거\n",
        "#company.dropna(how='all') #모든 column이 NaN이어야 제거\n",
        "#company.dropna(inplace=True) #default값이 False\n",
        "#inplace=True면 company=company.dropna()와 같은 효과\n",
        "#company=company.dropna()로 쓰는것을 추천. 가독성 + 메모리를 덜 잡아먹는다\n",
        "company=company.dropna()"
      ],
      "execution_count": 53,
      "outputs": []
    },
    {
      "cell_type": "code",
      "metadata": {
        "id": "dIQ7l_Drkhr7"
      },
      "source": [
        "company[~company['회사명'].str.contains('삼성')] #~은 not의 의미"
      ],
      "execution_count": null,
      "outputs": []
    },
    {
      "cell_type": "markdown",
      "metadata": {
        "id": "aDMdvgETnUqp"
      },
      "source": [
        "(REITs) Real Estate Investment Trust Corps.<br>\n",
        "(SPAC) Special Purpose Acquisition Corps."
      ]
    },
    {
      "cell_type": "code",
      "metadata": {
        "colab": {
          "base_uri": "https://localhost:8080/",
          "height": 783
        },
        "id": "yS6BAoqWmD_V",
        "outputId": "c532fdcf-f01d-45ec-aea8-4611e29c32d7"
      },
      "source": [
        "company = company[~company['회사명'].str.contains('스팩|리츠')]\n",
        "company"
      ],
      "execution_count": 64,
      "outputs": [
        {
          "output_type": "execute_result",
          "data": {
            "text/html": [
              "<div>\n",
              "<style scoped>\n",
              "    .dataframe tbody tr th:only-of-type {\n",
              "        vertical-align: middle;\n",
              "    }\n",
              "\n",
              "    .dataframe tbody tr th {\n",
              "        vertical-align: top;\n",
              "    }\n",
              "\n",
              "    .dataframe thead th {\n",
              "        text-align: right;\n",
              "    }\n",
              "</style>\n",
              "<table border=\"1\" class=\"dataframe\">\n",
              "  <thead>\n",
              "    <tr style=\"text-align: right;\">\n",
              "      <th></th>\n",
              "      <th>분류</th>\n",
              "      <th>회사명</th>\n",
              "      <th>종목코드</th>\n",
              "      <th>업종</th>\n",
              "      <th>주요제품</th>\n",
              "      <th>상장일</th>\n",
              "      <th>결산월</th>\n",
              "      <th>대표자명</th>\n",
              "      <th>홈페이지</th>\n",
              "      <th>지역</th>\n",
              "      <th>구글코드</th>\n",
              "    </tr>\n",
              "  </thead>\n",
              "  <tbody>\n",
              "    <tr>\n",
              "      <th>0</th>\n",
              "      <td>코스피</td>\n",
              "      <td>두산우</td>\n",
              "      <td>000155</td>\n",
              "      <td>회사 본부 및 경영 컨설팅 서비스업</td>\n",
              "      <td>청주,소주,인쇄회로기판(인쇄회로용동박적층판),관련전자부품,기계 제조,판매/출판사업,...</td>\n",
              "      <td>1973-06-29</td>\n",
              "      <td>12월</td>\n",
              "      <td>박정원, 이재경</td>\n",
              "      <td>http://www.doosancorp.co.kr</td>\n",
              "      <td>서울특별시</td>\n",
              "      <td>KRX:000155</td>\n",
              "    </tr>\n",
              "    <tr>\n",
              "      <th>1</th>\n",
              "      <td>코스피</td>\n",
              "      <td>한화3우B</td>\n",
              "      <td>00088K</td>\n",
              "      <td>기타 화학제품 제조업</td>\n",
              "      <td>화약,화공품,자동선반류,공작기계 제조,전자교환기,건설,정보통신,종합무역/임직원 및 ...</td>\n",
              "      <td>1976-06-24</td>\n",
              "      <td>12월</td>\n",
              "      <td>최양수, 이태종, 김연철, 이민석</td>\n",
              "      <td>http://www.hanwhacorp.co.kr</td>\n",
              "      <td>서울특별시</td>\n",
              "      <td>KRX:00088K</td>\n",
              "    </tr>\n",
              "    <tr>\n",
              "      <th>2</th>\n",
              "      <td>코스피</td>\n",
              "      <td>S-Oil우</td>\n",
              "      <td>010955</td>\n",
              "      <td>석유 정제품 제조업</td>\n",
              "      <td>석유제품,가스,윤활기유,윤활유,그리스,석유화학제품 제조,도매</td>\n",
              "      <td>1987-05-27</td>\n",
              "      <td>12월</td>\n",
              "      <td>Othman Al-Ghamdi</td>\n",
              "      <td>http://www.s-oil.com</td>\n",
              "      <td>서울특별시</td>\n",
              "      <td>KRX:010955</td>\n",
              "    </tr>\n",
              "    <tr>\n",
              "      <th>3</th>\n",
              "      <td>코스피</td>\n",
              "      <td>LG화학우</td>\n",
              "      <td>051915</td>\n",
              "      <td>기초 화학물질 제조업</td>\n",
              "      <td>유화/기능/합성수지,재생섬유소,산업재,리튬이온전지,평광판,PVC 제조,도매</td>\n",
              "      <td>2001-04-25</td>\n",
              "      <td>12월</td>\n",
              "      <td>박진수</td>\n",
              "      <td>http://www.lgchem.com</td>\n",
              "      <td>서울특별시</td>\n",
              "      <td>KRX:051915</td>\n",
              "    </tr>\n",
              "    <tr>\n",
              "      <th>4</th>\n",
              "      <td>코스피</td>\n",
              "      <td>한국금융지주우</td>\n",
              "      <td>071055</td>\n",
              "      <td>기타 금융업</td>\n",
              "      <td>금융지주회사</td>\n",
              "      <td>2003-07-21</td>\n",
              "      <td>12월</td>\n",
              "      <td>김남구</td>\n",
              "      <td>http://www.koreaholdings.com</td>\n",
              "      <td>서울특별시</td>\n",
              "      <td>KRX:071055</td>\n",
              "    </tr>\n",
              "    <tr>\n",
              "      <th>...</th>\n",
              "      <td>...</td>\n",
              "      <td>...</td>\n",
              "      <td>...</td>\n",
              "      <td>...</td>\n",
              "      <td>...</td>\n",
              "      <td>...</td>\n",
              "      <td>...</td>\n",
              "      <td>...</td>\n",
              "      <td>...</td>\n",
              "      <td>...</td>\n",
              "      <td>...</td>\n",
              "    </tr>\n",
              "    <tr>\n",
              "      <th>2017</th>\n",
              "      <td>코스닥</td>\n",
              "      <td>하이록코리아</td>\n",
              "      <td>013030</td>\n",
              "      <td>1차 철강 제조업</td>\n",
              "      <td>관이음쇠</td>\n",
              "      <td>1989-12-15</td>\n",
              "      <td>12월</td>\n",
              "      <td>문휴건, 문창환 각자대표이사</td>\n",
              "      <td>http://www.hy-lok.com</td>\n",
              "      <td>부산광역시</td>\n",
              "      <td>KOSDAQ:013030</td>\n",
              "    </tr>\n",
              "    <tr>\n",
              "      <th>2018</th>\n",
              "      <td>코스닥</td>\n",
              "      <td>SBI인베스트먼트</td>\n",
              "      <td>019550</td>\n",
              "      <td>신탁업 및 집합투자업</td>\n",
              "      <td>벤처캐피탈</td>\n",
              "      <td>1989-09-06</td>\n",
              "      <td>12월</td>\n",
              "      <td>다까하시 요시미</td>\n",
              "      <td>http://www.sbik.co.kr</td>\n",
              "      <td>서울특별시</td>\n",
              "      <td>KOSDAQ:019550</td>\n",
              "    </tr>\n",
              "    <tr>\n",
              "      <th>2019</th>\n",
              "      <td>코스닥</td>\n",
              "      <td>엠벤처투자</td>\n",
              "      <td>019590</td>\n",
              "      <td>신탁업 및 집합투자업</td>\n",
              "      <td>벤처캐피탈</td>\n",
              "      <td>1989-03-14</td>\n",
              "      <td>12월</td>\n",
              "      <td>홍성혁</td>\n",
              "      <td>http://www.m-vc.co.kr</td>\n",
              "      <td>서울특별시</td>\n",
              "      <td>KOSDAQ:019590</td>\n",
              "    </tr>\n",
              "    <tr>\n",
              "      <th>2020</th>\n",
              "      <td>코스닥</td>\n",
              "      <td>제미니투자</td>\n",
              "      <td>019570</td>\n",
              "      <td>신탁업 및 집합투자업</td>\n",
              "      <td>벤처캐피탈</td>\n",
              "      <td>1989-03-14</td>\n",
              "      <td>03월</td>\n",
              "      <td>정진식</td>\n",
              "      <td>http://www.geminivc.co.kr</td>\n",
              "      <td>서울특별시</td>\n",
              "      <td>KOSDAQ:019570</td>\n",
              "    </tr>\n",
              "    <tr>\n",
              "      <th>2021</th>\n",
              "      <td>코스닥</td>\n",
              "      <td>모헨즈</td>\n",
              "      <td>006920</td>\n",
              "      <td>시멘트, 석회, 플라스터 및 그 제품 제조업</td>\n",
              "      <td>레미콘</td>\n",
              "      <td>1989-01-05</td>\n",
              "      <td>12월</td>\n",
              "      <td>이기명</td>\n",
              "      <td>http://www.imohenz.com</td>\n",
              "      <td>충청남도</td>\n",
              "      <td>KOSDAQ:006920</td>\n",
              "    </tr>\n",
              "  </tbody>\n",
              "</table>\n",
              "<p>1837 rows × 11 columns</p>\n",
              "</div>"
            ],
            "text/plain": [
              "       분류        회사명  ...     지역           구글코드\n",
              "0     코스피        두산우  ...  서울특별시     KRX:000155\n",
              "1     코스피      한화3우B  ...  서울특별시     KRX:00088K\n",
              "2     코스피     S-Oil우  ...  서울특별시     KRX:010955\n",
              "3     코스피      LG화학우  ...  서울특별시     KRX:051915\n",
              "4     코스피    한국금융지주우  ...  서울특별시     KRX:071055\n",
              "...   ...        ...  ...    ...            ...\n",
              "2017  코스닥     하이록코리아  ...  부산광역시  KOSDAQ:013030\n",
              "2018  코스닥  SBI인베스트먼트  ...  서울특별시  KOSDAQ:019550\n",
              "2019  코스닥      엠벤처투자  ...  서울특별시  KOSDAQ:019590\n",
              "2020  코스닥      제미니투자  ...  서울특별시  KOSDAQ:019570\n",
              "2021  코스닥        모헨즈  ...   충청남도  KOSDAQ:006920\n",
              "\n",
              "[1837 rows x 11 columns]"
            ]
          },
          "metadata": {
            "tags": []
          },
          "execution_count": 64
        }
      ]
    },
    {
      "cell_type": "markdown",
      "metadata": {
        "id": "y63qg3QJnwcz"
      },
      "source": [
        "1. 업종이 기타 금융업\n",
        "2. 코스닥에 상장\n",
        "3. 2015-1-1 이후에 상장된 기업정보만 필터링\n",
        "\n",
        "날짜를 계산하는 방법으로 datetime 모듈을 사용하거나 pandas의 Timestamp 메소드를 사용하는 방법 두가지가 있습니다.\n",
        "\n",
        "3-1. read_csv의 parameter 중 parse_dates 사용<br>\n",
        "구글 검색 키워드: pandas read csv parse dates\n",
        "\n",
        "3-2. to_datetime 함수 사용<br>\n",
        "구글 검색 키워드 : pandas to datetime\n",
        "\n",
        "3-공통.<br>\n",
        "Timestamp 함수 사용"
      ]
    },
    {
      "cell_type": "code",
      "metadata": {
        "colab": {
          "base_uri": "https://localhost:8080/",
          "height": 255
        },
        "id": "dKGY0wy5vRW4",
        "outputId": "e278a754-e1fc-49d7-fc47-6c95d12a424f"
      },
      "source": [
        "# 3-1 read_csv의 parameter 중 parse_dates 사용 + NaN제거하고\n",
        "company = pd.read_csv(csv_url, encoding='utf-8', parse_dates=['상장일'])\n",
        "company=company.dropna()\n",
        "financial_corps = company[company['업종'].str.contains('기타 금융업')]\n",
        "financial_corps_kosdaq = financial_corps[financial_corps['분류']=='코스닥']\n",
        "financial_corps_kosdaq = financial_corps_kosdaq[financial_corps_kosdaq['상장일'] > pd.to_datetime('2015-1-1')]\n",
        "financial_corps_kosdaq"
      ],
      "execution_count": 82,
      "outputs": [
        {
          "output_type": "execute_result",
          "data": {
            "text/html": [
              "<div>\n",
              "<style scoped>\n",
              "    .dataframe tbody tr th:only-of-type {\n",
              "        vertical-align: middle;\n",
              "    }\n",
              "\n",
              "    .dataframe tbody tr th {\n",
              "        vertical-align: top;\n",
              "    }\n",
              "\n",
              "    .dataframe thead th {\n",
              "        text-align: right;\n",
              "    }\n",
              "</style>\n",
              "<table border=\"1\" class=\"dataframe\">\n",
              "  <thead>\n",
              "    <tr style=\"text-align: right;\">\n",
              "      <th></th>\n",
              "      <th>분류</th>\n",
              "      <th>회사명</th>\n",
              "      <th>종목코드</th>\n",
              "      <th>업종</th>\n",
              "      <th>주요제품</th>\n",
              "      <th>상장일</th>\n",
              "      <th>결산월</th>\n",
              "      <th>대표자명</th>\n",
              "      <th>홈페이지</th>\n",
              "      <th>지역</th>\n",
              "      <th>구글코드</th>\n",
              "    </tr>\n",
              "  </thead>\n",
              "  <tbody>\n",
              "    <tr>\n",
              "      <th>795</th>\n",
              "      <td>코스닥</td>\n",
              "      <td>제일홀딩스</td>\n",
              "      <td>003380</td>\n",
              "      <td>기타 금융업</td>\n",
              "      <td>지주사업</td>\n",
              "      <td>2017-06-30</td>\n",
              "      <td>12월</td>\n",
              "      <td>민동기</td>\n",
              "      <td>http://jeilholdings.co.kr</td>\n",
              "      <td>전라북도</td>\n",
              "      <td>KOSDAQ:003380</td>\n",
              "    </tr>\n",
              "    <tr>\n",
              "      <th>851</th>\n",
              "      <td>코스닥</td>\n",
              "      <td>골든센츄리</td>\n",
              "      <td>900280</td>\n",
              "      <td>기타 금융업</td>\n",
              "      <td>트랙터용 휠 및 타이어</td>\n",
              "      <td>2016-10-19</td>\n",
              "      <td>12월</td>\n",
              "      <td>주승화</td>\n",
              "      <td>http://www.jsj-wheel.co.kr</td>\n",
              "      <td>케이맨 제도</td>\n",
              "      <td>KOSDAQ:900280</td>\n",
              "    </tr>\n",
              "    <tr>\n",
              "      <th>854</th>\n",
              "      <td>코스닥</td>\n",
              "      <td>잉글우드랩</td>\n",
              "      <td>950140</td>\n",
              "      <td>기타 금융업</td>\n",
              "      <td>기초화장품(화장품 제조)</td>\n",
              "      <td>2016-10-14</td>\n",
              "      <td>12월</td>\n",
              "      <td>David C. Chung</td>\n",
              "      <td>http://www.englewoodlab.com</td>\n",
              "      <td>미국</td>\n",
              "      <td>KOSDAQ:950140</td>\n",
              "    </tr>\n",
              "    <tr>\n",
              "      <th>894</th>\n",
              "      <td>코스닥</td>\n",
              "      <td>크리스탈신소재</td>\n",
              "      <td>900250</td>\n",
              "      <td>기타 금융업</td>\n",
              "      <td>합성운모 플레이크, 파우더, 테이프</td>\n",
              "      <td>2016-01-28</td>\n",
              "      <td>12월</td>\n",
              "      <td>다이자룽</td>\n",
              "      <td>http://www.crystalnewmaterial.com</td>\n",
              "      <td>케이맨 제도</td>\n",
              "      <td>KOSDAQ:900250</td>\n",
              "    </tr>\n",
              "  </tbody>\n",
              "</table>\n",
              "</div>"
            ],
            "text/plain": [
              "      분류      회사명  ...      지역           구글코드\n",
              "795  코스닥    제일홀딩스  ...    전라북도  KOSDAQ:003380\n",
              "851  코스닥    골든센츄리  ...  케이맨 제도  KOSDAQ:900280\n",
              "854  코스닥    잉글우드랩  ...      미국  KOSDAQ:950140\n",
              "894  코스닥  크리스탈신소재  ...  케이맨 제도  KOSDAQ:900250\n",
              "\n",
              "[4 rows x 11 columns]"
            ]
          },
          "metadata": {
            "tags": []
          },
          "execution_count": 82
        }
      ]
    },
    {
      "cell_type": "code",
      "metadata": {
        "colab": {
          "base_uri": "https://localhost:8080/",
          "height": 492
        },
        "id": "dJ_gXRo4snFE",
        "outputId": "12f9c741-6bdd-4cf8-c7a9-dd10248e420b"
      },
      "source": [
        "#3-2 to_datetime 함수 사용 + NaN제거안하고\n",
        "company = pd.read_csv(csv_url, encoding='utf-8')\n",
        "company = company[company['분류']=='코스닥']\n",
        "company = company[company['업종'].str.contains('기타 금융업')]\n",
        "company = company[pd.to_datetime(company['상장일']) > pd.to_datetime('2015-1-1')]\n",
        "company"
      ],
      "execution_count": 80,
      "outputs": [
        {
          "output_type": "execute_result",
          "data": {
            "text/html": [
              "<div>\n",
              "<style scoped>\n",
              "    .dataframe tbody tr th:only-of-type {\n",
              "        vertical-align: middle;\n",
              "    }\n",
              "\n",
              "    .dataframe tbody tr th {\n",
              "        vertical-align: top;\n",
              "    }\n",
              "\n",
              "    .dataframe thead th {\n",
              "        text-align: right;\n",
              "    }\n",
              "</style>\n",
              "<table border=\"1\" class=\"dataframe\">\n",
              "  <thead>\n",
              "    <tr style=\"text-align: right;\">\n",
              "      <th></th>\n",
              "      <th>분류</th>\n",
              "      <th>회사명</th>\n",
              "      <th>종목코드</th>\n",
              "      <th>업종</th>\n",
              "      <th>주요제품</th>\n",
              "      <th>상장일</th>\n",
              "      <th>결산월</th>\n",
              "      <th>대표자명</th>\n",
              "      <th>홈페이지</th>\n",
              "      <th>지역</th>\n",
              "      <th>구글코드</th>\n",
              "    </tr>\n",
              "  </thead>\n",
              "  <tbody>\n",
              "    <tr>\n",
              "      <th>795</th>\n",
              "      <td>코스닥</td>\n",
              "      <td>제일홀딩스</td>\n",
              "      <td>003380</td>\n",
              "      <td>기타 금융업</td>\n",
              "      <td>지주사업</td>\n",
              "      <td>2017-06-30</td>\n",
              "      <td>12월</td>\n",
              "      <td>민동기</td>\n",
              "      <td>http://jeilholdings.co.kr</td>\n",
              "      <td>전라북도</td>\n",
              "      <td>KOSDAQ:003380</td>\n",
              "    </tr>\n",
              "    <tr>\n",
              "      <th>844</th>\n",
              "      <td>코스닥</td>\n",
              "      <td>오가닉티코스메틱</td>\n",
              "      <td>900300</td>\n",
              "      <td>기타 금융업</td>\n",
              "      <td>유아용 화장품(클렌징, 여름용, 피부케어, 기능성 화장품)</td>\n",
              "      <td>2016-11-04</td>\n",
              "      <td>12월</td>\n",
              "      <td>채정망</td>\n",
              "      <td>NaN</td>\n",
              "      <td>홍콩</td>\n",
              "      <td>KOSDAQ:900300</td>\n",
              "    </tr>\n",
              "    <tr>\n",
              "      <th>850</th>\n",
              "      <td>코스닥</td>\n",
              "      <td>GRT</td>\n",
              "      <td>900290</td>\n",
              "      <td>기타 금융업</td>\n",
              "      <td>광학필름, 포장필름</td>\n",
              "      <td>2016-10-25</td>\n",
              "      <td>06월</td>\n",
              "      <td>주영남</td>\n",
              "      <td>NaN</td>\n",
              "      <td>홍콩</td>\n",
              "      <td>KOSDAQ:900290</td>\n",
              "    </tr>\n",
              "    <tr>\n",
              "      <th>851</th>\n",
              "      <td>코스닥</td>\n",
              "      <td>골든센츄리</td>\n",
              "      <td>900280</td>\n",
              "      <td>기타 금융업</td>\n",
              "      <td>트랙터용 휠 및 타이어</td>\n",
              "      <td>2016-10-19</td>\n",
              "      <td>12월</td>\n",
              "      <td>주승화</td>\n",
              "      <td>http://www.jsj-wheel.co.kr</td>\n",
              "      <td>케이맨 제도</td>\n",
              "      <td>KOSDAQ:900280</td>\n",
              "    </tr>\n",
              "    <tr>\n",
              "      <th>854</th>\n",
              "      <td>코스닥</td>\n",
              "      <td>잉글우드랩</td>\n",
              "      <td>950140</td>\n",
              "      <td>기타 금융업</td>\n",
              "      <td>기초화장품(화장품 제조)</td>\n",
              "      <td>2016-10-14</td>\n",
              "      <td>12월</td>\n",
              "      <td>David C. Chung</td>\n",
              "      <td>http://www.englewoodlab.com</td>\n",
              "      <td>미국</td>\n",
              "      <td>KOSDAQ:950140</td>\n",
              "    </tr>\n",
              "    <tr>\n",
              "      <th>863</th>\n",
              "      <td>코스닥</td>\n",
              "      <td>헝셩그룹</td>\n",
              "      <td>900270</td>\n",
              "      <td>기타 금융업</td>\n",
              "      <td>자회사 제품 : 아동용 완구 및 아동복 등</td>\n",
              "      <td>2016-08-18</td>\n",
              "      <td>12월</td>\n",
              "      <td>후이만킷</td>\n",
              "      <td>NaN</td>\n",
              "      <td>홍콩</td>\n",
              "      <td>KOSDAQ:900270</td>\n",
              "    </tr>\n",
              "    <tr>\n",
              "      <th>873</th>\n",
              "      <td>코스닥</td>\n",
              "      <td>로스웰</td>\n",
              "      <td>900260</td>\n",
              "      <td>기타 금융업</td>\n",
              "      <td>CAN Control Gateway, CAN기능모듈, BCM 차체제어모듈</td>\n",
              "      <td>2016-06-30</td>\n",
              "      <td>12월</td>\n",
              "      <td>저우샹동</td>\n",
              "      <td>NaN</td>\n",
              "      <td>홍콩</td>\n",
              "      <td>KOSDAQ:900260</td>\n",
              "    </tr>\n",
              "    <tr>\n",
              "      <th>894</th>\n",
              "      <td>코스닥</td>\n",
              "      <td>크리스탈신소재</td>\n",
              "      <td>900250</td>\n",
              "      <td>기타 금융업</td>\n",
              "      <td>합성운모 플레이크, 파우더, 테이프</td>\n",
              "      <td>2016-01-28</td>\n",
              "      <td>12월</td>\n",
              "      <td>다이자룽</td>\n",
              "      <td>http://www.crystalnewmaterial.com</td>\n",
              "      <td>케이맨 제도</td>\n",
              "      <td>KOSDAQ:900250</td>\n",
              "    </tr>\n",
              "    <tr>\n",
              "      <th>935</th>\n",
              "      <td>코스닥</td>\n",
              "      <td>이베스트스팩3호</td>\n",
              "      <td>225440</td>\n",
              "      <td>기타 금융업</td>\n",
              "      <td>NaN</td>\n",
              "      <td>2015-10-19</td>\n",
              "      <td>12월</td>\n",
              "      <td>이정훈</td>\n",
              "      <td>NaN</td>\n",
              "      <td>서울특별시</td>\n",
              "      <td>KOSDAQ:225440</td>\n",
              "    </tr>\n",
              "  </tbody>\n",
              "</table>\n",
              "</div>"
            ],
            "text/plain": [
              "      분류       회사명  ...      지역           구글코드\n",
              "795  코스닥     제일홀딩스  ...    전라북도  KOSDAQ:003380\n",
              "844  코스닥  오가닉티코스메틱  ...      홍콩  KOSDAQ:900300\n",
              "850  코스닥       GRT  ...      홍콩  KOSDAQ:900290\n",
              "851  코스닥     골든센츄리  ...  케이맨 제도  KOSDAQ:900280\n",
              "854  코스닥     잉글우드랩  ...      미국  KOSDAQ:950140\n",
              "863  코스닥      헝셩그룹  ...      홍콩  KOSDAQ:900270\n",
              "873  코스닥       로스웰  ...      홍콩  KOSDAQ:900260\n",
              "894  코스닥   크리스탈신소재  ...  케이맨 제도  KOSDAQ:900250\n",
              "935  코스닥  이베스트스팩3호  ...   서울특별시  KOSDAQ:225440\n",
              "\n",
              "[9 rows x 11 columns]"
            ]
          },
          "metadata": {
            "tags": []
          },
          "execution_count": 80
        }
      ]
    },
    {
      "cell_type": "code",
      "metadata": {
        "id": "MSDfEZOks3q4"
      },
      "source": [
        ""
      ],
      "execution_count": null,
      "outputs": []
    }
  ]
}