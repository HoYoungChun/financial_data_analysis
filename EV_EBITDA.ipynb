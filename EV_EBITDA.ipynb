{
  "nbformat": 4,
  "nbformat_minor": 0,
  "metadata": {
    "colab": {
      "name": "EV/EBITDA.ipynb",
      "provenance": [],
      "authorship_tag": "ABX9TyNrsjI0WACUXs6SY5W/1Ch2",
      "include_colab_link": true
    },
    "kernelspec": {
      "name": "python3",
      "display_name": "Python 3"
    },
    "language_info": {
      "name": "python"
    }
  },
  "cells": [
    {
      "cell_type": "markdown",
      "metadata": {
        "id": "view-in-github",
        "colab_type": "text"
      },
      "source": [
        "<a href=\"https://colab.research.google.com/github/HoYoungChun/financial_data_analysis/blob/main/EV_EBITDA.ipynb\" target=\"_parent\"><img src=\"https://colab.research.google.com/assets/colab-badge.svg\" alt=\"Open In Colab\"/></a>"
      ]
    },
    {
      "cell_type": "markdown",
      "metadata": {
        "id": "E2ETfrPp648d"
      },
      "source": [
        "### Basic Setting"
      ]
    },
    {
      "cell_type": "code",
      "metadata": {
        "id": "8Brq8tvm73ln"
      },
      "source": [
        "import pandas as pd\n",
        "from tqdm import tqdm\n",
        "from bs4 import BeautifulSoup\n",
        "#import urllib.request\n",
        "from urllib import request as rq"
      ],
      "execution_count": 2,
      "outputs": []
    },
    {
      "cell_type": "code",
      "metadata": {
        "id": "hUJu6JLS8Xs_"
      },
      "source": [
        "FS_URL = 'https://comp.fnguide.com/SVO2/ASP/SVD_Finance.asp?pGB=1&gicode=A{}&cID=&MenuYn=Y&ReportGB=&NewMenuID=103&stkGb=701'\n",
        "INDEX_URL = 'https://comp.fnguide.com/SVO2/ASP/SVD_Invest.asp?pGB=1&gicode=A{}&cID=&MenuYn=Y&ReportGB=&NewMenuID=105&stkGb=701'\n",
        "sample_code = '005930'"
      ],
      "execution_count": 3,
      "outputs": []
    },
    {
      "cell_type": "markdown",
      "metadata": {
        "id": "Ai9FLygQ9FJk"
      },
      "source": [
        "### EV/EBITDA\n",
        "Earnings(영업이익) before Interest(이자), Tax(법인세), Depreciation(유형자산 감가삼각), Amortization(무형자산 감가삼각)"
      ]
    },
    {
      "cell_type": "code",
      "metadata": {
        "id": "BtcjawAZ9TZ7"
      },
      "source": [
        "index_html = rq.urlopen(INDEX_URL.format(sample_code)).read()\n",
        "index_soup = BeautifulSoup(index_html, 'html.parser')\n",
        "ev_cells = index_soup.find('tr',{'id':'p_grid1_14'}).find_all('td',{'class':'r'})\n",
        "ev = float(ev_cells[3].string.replace(',',''))"
      ],
      "execution_count": 19,
      "outputs": []
    },
    {
      "cell_type": "code",
      "metadata": {
        "id": "Lc_Rz1fE93Gj"
      },
      "source": [
        ""
      ],
      "execution_count": null,
      "outputs": []
    }
  ]
}