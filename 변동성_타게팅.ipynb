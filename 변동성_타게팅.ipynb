{
  "nbformat": 4,
  "nbformat_minor": 0,
  "metadata": {
    "colab": {
      "name": "변동성 타게팅.ipynb",
      "provenance": [],
      "authorship_tag": "ABX9TyOiLe6nRMd5ASIvsOCHHryn",
      "include_colab_link": true
    },
    "kernelspec": {
      "name": "python3",
      "display_name": "Python 3"
    },
    "language_info": {
      "name": "python"
    }
  },
  "cells": [
    {
      "cell_type": "markdown",
      "metadata": {
        "id": "view-in-github",
        "colab_type": "text"
      },
      "source": [
        "<a href=\"https://colab.research.google.com/github/HoYoungChun/financial_data_analysis/blob/main/%EB%B3%80%EB%8F%99%EC%84%B1_%ED%83%80%EA%B2%8C%ED%8C%85.ipynb\" target=\"_parent\"><img src=\"https://colab.research.google.com/assets/colab-badge.svg\" alt=\"Open In Colab\"/></a>"
      ]
    },
    {
      "cell_type": "markdown",
      "metadata": {
        "id": "XI60FSOOzUzc"
      },
      "source": [
        "## 변동성 타게팅(Volatility Targeting)"
      ]
    },
    {
      "cell_type": "markdown",
      "metadata": {
        "id": "TCnWIPC7znsQ"
      },
      "source": [
        "### Load Libraries & Dataset"
      ]
    },
    {
      "cell_type": "code",
      "metadata": {
        "id": "YftVAeFt1KXG"
      },
      "source": [
        "import pandas as pd\n",
        "import requests\n",
        "from tqdm import tqdm"
      ],
      "execution_count": 1,
      "outputs": []
    },
    {
      "cell_type": "markdown",
      "metadata": {
        "id": "hzmYqqQz1c6d"
      },
      "source": [
        "#### KODEX 200"
      ]
    },
    {
      "cell_type": "code",
      "metadata": {
        "colab": {
          "base_uri": "https://localhost:8080/",
          "height": 434
        },
        "id": "jfHnC29F1OHF",
        "outputId": "89ba148a-97de-4963-df33-683f24beb938"
      },
      "source": [
        "kodex_200 = pd.DataFrame()\n",
        "\n",
        "kodex_url = 'https://finance.naver.com/item/sise_day.nhn?code=069500'\n",
        "\n",
        "for page in tqdm(range(1,100)):\n",
        "    pg_url = '{url}&page={page}'.format(url=kodex_url, page=page)\n",
        "    pg_url = requests.get(pg_url, headers={'User-agent':'Mozilla/5.0'}).text\n",
        "    kodex_200 = kodex_200.append(pd.read_html(pg_url)[0], ignore_index=True)\n",
        "    #pd.read_html(pg_url)[0]\n",
        "kodex_200"
      ],
      "execution_count": 2,
      "outputs": [
        {
          "output_type": "stream",
          "text": [
            "100%|██████████| 99/99 [01:03<00:00,  1.55it/s]\n"
          ],
          "name": "stderr"
        },
        {
          "output_type": "execute_result",
          "data": {
            "text/html": [
              "<div>\n",
              "<style scoped>\n",
              "    .dataframe tbody tr th:only-of-type {\n",
              "        vertical-align: middle;\n",
              "    }\n",
              "\n",
              "    .dataframe tbody tr th {\n",
              "        vertical-align: top;\n",
              "    }\n",
              "\n",
              "    .dataframe thead th {\n",
              "        text-align: right;\n",
              "    }\n",
              "</style>\n",
              "<table border=\"1\" class=\"dataframe\">\n",
              "  <thead>\n",
              "    <tr style=\"text-align: right;\">\n",
              "      <th></th>\n",
              "      <th>날짜</th>\n",
              "      <th>종가</th>\n",
              "      <th>전일비</th>\n",
              "      <th>시가</th>\n",
              "      <th>고가</th>\n",
              "      <th>저가</th>\n",
              "      <th>거래량</th>\n",
              "    </tr>\n",
              "  </thead>\n",
              "  <tbody>\n",
              "    <tr>\n",
              "      <th>0</th>\n",
              "      <td>NaN</td>\n",
              "      <td>NaN</td>\n",
              "      <td>NaN</td>\n",
              "      <td>NaN</td>\n",
              "      <td>NaN</td>\n",
              "      <td>NaN</td>\n",
              "      <td>NaN</td>\n",
              "    </tr>\n",
              "    <tr>\n",
              "      <th>1</th>\n",
              "      <td>2021.07.15</td>\n",
              "      <td>43545.0</td>\n",
              "      <td>145.0</td>\n",
              "      <td>43525.0</td>\n",
              "      <td>43555.0</td>\n",
              "      <td>43380.0</td>\n",
              "      <td>573607.0</td>\n",
              "    </tr>\n",
              "    <tr>\n",
              "      <th>2</th>\n",
              "      <td>2021.07.14</td>\n",
              "      <td>43400.0</td>\n",
              "      <td>150.0</td>\n",
              "      <td>43400.0</td>\n",
              "      <td>43465.0</td>\n",
              "      <td>43225.0</td>\n",
              "      <td>3453656.0</td>\n",
              "    </tr>\n",
              "    <tr>\n",
              "      <th>3</th>\n",
              "      <td>2021.07.13</td>\n",
              "      <td>43550.0</td>\n",
              "      <td>365.0</td>\n",
              "      <td>43380.0</td>\n",
              "      <td>43565.0</td>\n",
              "      <td>43380.0</td>\n",
              "      <td>3654600.0</td>\n",
              "    </tr>\n",
              "    <tr>\n",
              "      <th>4</th>\n",
              "      <td>2021.07.12</td>\n",
              "      <td>43185.0</td>\n",
              "      <td>385.0</td>\n",
              "      <td>43060.0</td>\n",
              "      <td>43260.0</td>\n",
              "      <td>43060.0</td>\n",
              "      <td>3929269.0</td>\n",
              "    </tr>\n",
              "    <tr>\n",
              "      <th>...</th>\n",
              "      <td>...</td>\n",
              "      <td>...</td>\n",
              "      <td>...</td>\n",
              "      <td>...</td>\n",
              "      <td>...</td>\n",
              "      <td>...</td>\n",
              "      <td>...</td>\n",
              "    </tr>\n",
              "    <tr>\n",
              "      <th>1480</th>\n",
              "      <td>2017.07.11</td>\n",
              "      <td>31480.0</td>\n",
              "      <td>175.0</td>\n",
              "      <td>31345.0</td>\n",
              "      <td>31500.0</td>\n",
              "      <td>31300.0</td>\n",
              "      <td>4983074.0</td>\n",
              "    </tr>\n",
              "    <tr>\n",
              "      <th>1481</th>\n",
              "      <td>2017.07.10</td>\n",
              "      <td>31305.0</td>\n",
              "      <td>105.0</td>\n",
              "      <td>31300.0</td>\n",
              "      <td>31390.0</td>\n",
              "      <td>31220.0</td>\n",
              "      <td>4338365.0</td>\n",
              "    </tr>\n",
              "    <tr>\n",
              "      <th>1482</th>\n",
              "      <td>2017.07.07</td>\n",
              "      <td>31200.0</td>\n",
              "      <td>125.0</td>\n",
              "      <td>31200.0</td>\n",
              "      <td>31285.0</td>\n",
              "      <td>31115.0</td>\n",
              "      <td>5436532.0</td>\n",
              "    </tr>\n",
              "    <tr>\n",
              "      <th>1483</th>\n",
              "      <td>2017.07.06</td>\n",
              "      <td>31325.0</td>\n",
              "      <td>5.0</td>\n",
              "      <td>31395.0</td>\n",
              "      <td>31395.0</td>\n",
              "      <td>31240.0</td>\n",
              "      <td>6394300.0</td>\n",
              "    </tr>\n",
              "    <tr>\n",
              "      <th>1484</th>\n",
              "      <td>NaN</td>\n",
              "      <td>NaN</td>\n",
              "      <td>NaN</td>\n",
              "      <td>NaN</td>\n",
              "      <td>NaN</td>\n",
              "      <td>NaN</td>\n",
              "      <td>NaN</td>\n",
              "    </tr>\n",
              "  </tbody>\n",
              "</table>\n",
              "<p>1485 rows × 7 columns</p>\n",
              "</div>"
            ],
            "text/plain": [
              "              날짜       종가    전일비       시가       고가       저가        거래량\n",
              "0            NaN      NaN    NaN      NaN      NaN      NaN        NaN\n",
              "1     2021.07.15  43545.0  145.0  43525.0  43555.0  43380.0   573607.0\n",
              "2     2021.07.14  43400.0  150.0  43400.0  43465.0  43225.0  3453656.0\n",
              "3     2021.07.13  43550.0  365.0  43380.0  43565.0  43380.0  3654600.0\n",
              "4     2021.07.12  43185.0  385.0  43060.0  43260.0  43060.0  3929269.0\n",
              "...          ...      ...    ...      ...      ...      ...        ...\n",
              "1480  2017.07.11  31480.0  175.0  31345.0  31500.0  31300.0  4983074.0\n",
              "1481  2017.07.10  31305.0  105.0  31300.0  31390.0  31220.0  4338365.0\n",
              "1482  2017.07.07  31200.0  125.0  31200.0  31285.0  31115.0  5436532.0\n",
              "1483  2017.07.06  31325.0    5.0  31395.0  31395.0  31240.0  6394300.0\n",
              "1484         NaN      NaN    NaN      NaN      NaN      NaN        NaN\n",
              "\n",
              "[1485 rows x 7 columns]"
            ]
          },
          "metadata": {
            "tags": []
          },
          "execution_count": 2
        }
      ]
    },
    {
      "cell_type": "code",
      "metadata": {
        "colab": {
          "base_uri": "https://localhost:8080/",
          "height": 364
        },
        "id": "5_WmbPuM1fil",
        "outputId": "96ffffb6-16d1-4f39-aa44-627fbb227d13"
      },
      "source": [
        "kodex_200 = kodex_200.dropna()\n",
        "kodex_200.columns = ['date','close','over_the_day','open','high','low','volume']\n",
        "kodex_200.date = pd.to_datetime(kodex_200.date)\n",
        "\n",
        "print('출처: ', kodex_url)\n",
        "print(kodex_200.shape)\n",
        "kodex_200.head()"
      ],
      "execution_count": 3,
      "outputs": [
        {
          "output_type": "stream",
          "text": [
            "출처:  https://finance.naver.com/item/sise_day.nhn?code=069500\n",
            "(990, 7)\n"
          ],
          "name": "stdout"
        },
        {
          "output_type": "stream",
          "text": [
            "/usr/local/lib/python3.7/dist-packages/pandas/core/generic.py:5170: SettingWithCopyWarning: \n",
            "A value is trying to be set on a copy of a slice from a DataFrame.\n",
            "Try using .loc[row_indexer,col_indexer] = value instead\n",
            "\n",
            "See the caveats in the documentation: https://pandas.pydata.org/pandas-docs/stable/user_guide/indexing.html#returning-a-view-versus-a-copy\n",
            "  self[name] = value\n"
          ],
          "name": "stderr"
        },
        {
          "output_type": "execute_result",
          "data": {
            "text/html": [
              "<div>\n",
              "<style scoped>\n",
              "    .dataframe tbody tr th:only-of-type {\n",
              "        vertical-align: middle;\n",
              "    }\n",
              "\n",
              "    .dataframe tbody tr th {\n",
              "        vertical-align: top;\n",
              "    }\n",
              "\n",
              "    .dataframe thead th {\n",
              "        text-align: right;\n",
              "    }\n",
              "</style>\n",
              "<table border=\"1\" class=\"dataframe\">\n",
              "  <thead>\n",
              "    <tr style=\"text-align: right;\">\n",
              "      <th></th>\n",
              "      <th>date</th>\n",
              "      <th>close</th>\n",
              "      <th>over_the_day</th>\n",
              "      <th>open</th>\n",
              "      <th>high</th>\n",
              "      <th>low</th>\n",
              "      <th>volume</th>\n",
              "    </tr>\n",
              "  </thead>\n",
              "  <tbody>\n",
              "    <tr>\n",
              "      <th>1</th>\n",
              "      <td>2021-07-15</td>\n",
              "      <td>43545.0</td>\n",
              "      <td>145.0</td>\n",
              "      <td>43525.0</td>\n",
              "      <td>43555.0</td>\n",
              "      <td>43380.0</td>\n",
              "      <td>573607.0</td>\n",
              "    </tr>\n",
              "    <tr>\n",
              "      <th>2</th>\n",
              "      <td>2021-07-14</td>\n",
              "      <td>43400.0</td>\n",
              "      <td>150.0</td>\n",
              "      <td>43400.0</td>\n",
              "      <td>43465.0</td>\n",
              "      <td>43225.0</td>\n",
              "      <td>3453656.0</td>\n",
              "    </tr>\n",
              "    <tr>\n",
              "      <th>3</th>\n",
              "      <td>2021-07-13</td>\n",
              "      <td>43550.0</td>\n",
              "      <td>365.0</td>\n",
              "      <td>43380.0</td>\n",
              "      <td>43565.0</td>\n",
              "      <td>43380.0</td>\n",
              "      <td>3654600.0</td>\n",
              "    </tr>\n",
              "    <tr>\n",
              "      <th>4</th>\n",
              "      <td>2021-07-12</td>\n",
              "      <td>43185.0</td>\n",
              "      <td>385.0</td>\n",
              "      <td>43060.0</td>\n",
              "      <td>43260.0</td>\n",
              "      <td>43060.0</td>\n",
              "      <td>3929269.0</td>\n",
              "    </tr>\n",
              "    <tr>\n",
              "      <th>5</th>\n",
              "      <td>2021-07-09</td>\n",
              "      <td>42800.0</td>\n",
              "      <td>460.0</td>\n",
              "      <td>42840.0</td>\n",
              "      <td>43050.0</td>\n",
              "      <td>42445.0</td>\n",
              "      <td>8288519.0</td>\n",
              "    </tr>\n",
              "  </tbody>\n",
              "</table>\n",
              "</div>"
            ],
            "text/plain": [
              "        date    close  over_the_day     open     high      low     volume\n",
              "1 2021-07-15  43545.0         145.0  43525.0  43555.0  43380.0   573607.0\n",
              "2 2021-07-14  43400.0         150.0  43400.0  43465.0  43225.0  3453656.0\n",
              "3 2021-07-13  43550.0         365.0  43380.0  43565.0  43380.0  3654600.0\n",
              "4 2021-07-12  43185.0         385.0  43060.0  43260.0  43060.0  3929269.0\n",
              "5 2021-07-09  42800.0         460.0  42840.0  43050.0  42445.0  8288519.0"
            ]
          },
          "metadata": {
            "tags": []
          },
          "execution_count": 3
        }
      ]
    },
    {
      "cell_type": "code",
      "metadata": {
        "id": "abVKWxQF14Jh"
      },
      "source": [
        ""
      ],
      "execution_count": null,
      "outputs": []
    }
  ]
}